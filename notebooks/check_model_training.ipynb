{
 "cells": [
  {
   "cell_type": "markdown",
   "id": "eabf39c0-c8b3-42e4-baf7-8ccd75200cb3",
   "metadata": {},
   "source": [
    "# Check model training"
   ]
  },
  {
   "cell_type": "markdown",
   "id": "cd80a3cf-1c33-4cd6-8748-401335bbb9fb",
   "metadata": {},
   "source": [
    "__Objective:__ establish whether the model's weights are actually moving between different training checkpoints."
   ]
  },
  {
   "cell_type": "code",
   "execution_count": 48,
   "id": "56ffc805-db2e-4ea5-8dc9-15ba3d70cc75",
   "metadata": {},
   "outputs": [],
   "source": [
    "import os\n",
    "import pandas as pd\n",
    "import torch\n",
    "from transformers import AutoModelForSequenceClassification"
   ]
  },
  {
   "cell_type": "code",
   "execution_count": 8,
   "id": "5e7d0c67-b1ce-4353-a71f-ed03f5869201",
   "metadata": {},
   "outputs": [
    {
     "data": {
      "text/plain": [
       "[1252, 1565]"
      ]
     },
     "execution_count": 8,
     "metadata": {},
     "output_type": "execute_result"
    }
   ],
   "source": [
    "EXPERIMENT_ID = 'majority_vote_model_binarized_labels_restricted_data_5'\n",
    "MODEL_OUTPUT_DIR = f'/data1/moscato/personalised-hate-boundaries-data/models/{EXPERIMENT_ID}/'\n",
    "\n",
    "checkpoints = [\n",
    "    int(dirname.split('-')[-1]) for dirname in os.listdir(MODEL_OUTPUT_DIR)\n",
    "    if 'checkpoint' in dirname\n",
    "]\n",
    "\n",
    "checkpoints"
   ]
  },
  {
   "cell_type": "code",
   "execution_count": 15,
   "id": "5c00a48b-0dda-4e9c-960f-66b31b8d9064",
   "metadata": {},
   "outputs": [],
   "source": [
    "classifier_checkpoint_0 = AutoModelForSequenceClassification.from_pretrained(\n",
    "    os.path.join(MODEL_OUTPUT_DIR, f'checkpoint-{checkpoints[0]}/')\n",
    ")\n",
    "\n",
    "classifier_checkpoint_1 = AutoModelForSequenceClassification.from_pretrained(\n",
    "    os.path.join(MODEL_OUTPUT_DIR, f'checkpoint-{checkpoints[1]}/')\n",
    ")"
   ]
  },
  {
   "cell_type": "code",
   "execution_count": 51,
   "id": "670b1807-fec0-496a-8f72-b9fccf7311a8",
   "metadata": {},
   "outputs": [],
   "source": [
    "parameters_data = []\n",
    "\n",
    "for (p0_name, p0), (p1_name, p1) in zip(classifier_checkpoint_0.named_parameters(), classifier_checkpoint_1.named_parameters()):\n",
    "    if p0_name != p1_name:\n",
    "        raise Exception('Parameters considered are different between the two models')\n",
    "\n",
    "    with torch.no_grad():\n",
    "        p0_sum = p0.sum().numpy()\n",
    "        p1_sum = p1.sum().numpy()\n",
    "\n",
    "    tensors_equal = (p0 == p1).all().numpy()\n",
    "\n",
    "    parameters_data.append({\n",
    "        'name': p0_name,\n",
    "        'p0_sum': p0_sum,\n",
    "        'p1_sum': p1_sum,\n",
    "        'tensors_equal':tensors_equal\n",
    "    })\n",
    "        \n",
    "parameters_data = pd.DataFrame(parameters_data)"
   ]
  },
  {
   "cell_type": "code",
   "execution_count": 52,
   "id": "0347a7c2-92d3-4bf3-add1-7cb05036d0f2",
   "metadata": {},
   "outputs": [
    {
     "data": {
      "text/html": [
       "<div>\n",
       "<style scoped>\n",
       "    .dataframe tbody tr th:only-of-type {\n",
       "        vertical-align: middle;\n",
       "    }\n",
       "\n",
       "    .dataframe tbody tr th {\n",
       "        vertical-align: top;\n",
       "    }\n",
       "\n",
       "    .dataframe thead th {\n",
       "        text-align: right;\n",
       "    }\n",
       "</style>\n",
       "<table border=\"1\" class=\"dataframe\">\n",
       "  <thead>\n",
       "    <tr style=\"text-align: right;\">\n",
       "      <th></th>\n",
       "      <th>name</th>\n",
       "      <th>p0_sum</th>\n",
       "      <th>p1_sum</th>\n",
       "      <th>tensors_equal</th>\n",
       "    </tr>\n",
       "  </thead>\n",
       "  <tbody>\n",
       "    <tr>\n",
       "      <th>0</th>\n",
       "      <td>deberta.embeddings.word_embeddings.weight</td>\n",
       "      <td>74325.766</td>\n",
       "      <td>74325.77</td>\n",
       "      <td>False</td>\n",
       "    </tr>\n",
       "    <tr>\n",
       "      <th>1</th>\n",
       "      <td>deberta.embeddings.LayerNorm.weight</td>\n",
       "      <td>472.65997</td>\n",
       "      <td>472.65997</td>\n",
       "      <td>False</td>\n",
       "    </tr>\n",
       "    <tr>\n",
       "      <th>2</th>\n",
       "      <td>deberta.embeddings.LayerNorm.bias</td>\n",
       "      <td>-10.93608</td>\n",
       "      <td>-10.936094</td>\n",
       "      <td>False</td>\n",
       "    </tr>\n",
       "    <tr>\n",
       "      <th>3</th>\n",
       "      <td>deberta.encoder.layer.0.attention.self.query_p...</td>\n",
       "      <td>18.024467</td>\n",
       "      <td>18.024088</td>\n",
       "      <td>False</td>\n",
       "    </tr>\n",
       "    <tr>\n",
       "      <th>4</th>\n",
       "      <td>deberta.encoder.layer.0.attention.self.query_p...</td>\n",
       "      <td>8.226106</td>\n",
       "      <td>8.22612</td>\n",
       "      <td>False</td>\n",
       "    </tr>\n",
       "    <tr>\n",
       "      <th>...</th>\n",
       "      <td>...</td>\n",
       "      <td>...</td>\n",
       "      <td>...</td>\n",
       "      <td>...</td>\n",
       "    </tr>\n",
       "    <tr>\n",
       "      <th>197</th>\n",
       "      <td>deberta.encoder.LayerNorm.bias</td>\n",
       "      <td>-18.938795</td>\n",
       "      <td>-18.938017</td>\n",
       "      <td>False</td>\n",
       "    </tr>\n",
       "    <tr>\n",
       "      <th>198</th>\n",
       "      <td>pooler.dense.weight</td>\n",
       "      <td>-33.23482</td>\n",
       "      <td>-33.243042</td>\n",
       "      <td>False</td>\n",
       "    </tr>\n",
       "    <tr>\n",
       "      <th>199</th>\n",
       "      <td>pooler.dense.bias</td>\n",
       "      <td>0.6090887</td>\n",
       "      <td>0.6094283</td>\n",
       "      <td>False</td>\n",
       "    </tr>\n",
       "    <tr>\n",
       "      <th>200</th>\n",
       "      <td>classifier.weight</td>\n",
       "      <td>0.2011265</td>\n",
       "      <td>0.20112672</td>\n",
       "      <td>False</td>\n",
       "    </tr>\n",
       "    <tr>\n",
       "      <th>201</th>\n",
       "      <td>classifier.bias</td>\n",
       "      <td>0.04235776</td>\n",
       "      <td>0.04235777</td>\n",
       "      <td>False</td>\n",
       "    </tr>\n",
       "  </tbody>\n",
       "</table>\n",
       "<p>202 rows × 4 columns</p>\n",
       "</div>"
      ],
      "text/plain": [
       "                                                  name      p0_sum  \\\n",
       "0            deberta.embeddings.word_embeddings.weight   74325.766   \n",
       "1                  deberta.embeddings.LayerNorm.weight   472.65997   \n",
       "2                    deberta.embeddings.LayerNorm.bias   -10.93608   \n",
       "3    deberta.encoder.layer.0.attention.self.query_p...   18.024467   \n",
       "4    deberta.encoder.layer.0.attention.self.query_p...    8.226106   \n",
       "..                                                 ...         ...   \n",
       "197                     deberta.encoder.LayerNorm.bias  -18.938795   \n",
       "198                                pooler.dense.weight   -33.23482   \n",
       "199                                  pooler.dense.bias   0.6090887   \n",
       "200                                  classifier.weight   0.2011265   \n",
       "201                                    classifier.bias  0.04235776   \n",
       "\n",
       "         p1_sum tensors_equal  \n",
       "0      74325.77         False  \n",
       "1     472.65997         False  \n",
       "2    -10.936094         False  \n",
       "3     18.024088         False  \n",
       "4       8.22612         False  \n",
       "..          ...           ...  \n",
       "197  -18.938017         False  \n",
       "198  -33.243042         False  \n",
       "199   0.6094283         False  \n",
       "200  0.20112672         False  \n",
       "201  0.04235777         False  \n",
       "\n",
       "[202 rows x 4 columns]"
      ]
     },
     "execution_count": 52,
     "metadata": {},
     "output_type": "execute_result"
    }
   ],
   "source": [
    "parameters_data"
   ]
  },
  {
   "cell_type": "code",
   "execution_count": 53,
   "id": "c485651b-e7bb-4521-92ef-179952655869",
   "metadata": {},
   "outputs": [
    {
     "data": {
      "text/plain": [
       "np.float64(0.0)"
      ]
     },
     "execution_count": 53,
     "metadata": {},
     "output_type": "execute_result"
    }
   ],
   "source": [
    "parameters_data['tensors_equal'].mean()"
   ]
  }
 ],
 "metadata": {
  "kernelspec": {
   "display_name": "Python 3 (ipykernel)",
   "language": "python",
   "name": "python3"
  },
  "language_info": {
   "codemirror_mode": {
    "name": "ipython",
    "version": 3
   },
   "file_extension": ".py",
   "mimetype": "text/x-python",
   "name": "python",
   "nbconvert_exporter": "python",
   "pygments_lexer": "ipython3",
   "version": "3.11.10"
  }
 },
 "nbformat": 4,
 "nbformat_minor": 5
}
