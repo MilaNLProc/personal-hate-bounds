{
 "cells": [
  {
   "cell_type": "markdown",
   "id": "26b83771-b4d2-4e3b-aa57-c027a1db7198",
   "metadata": {},
   "source": [
    "# Investigate fast vs slow tokenizers"
   ]
  },
  {
   "cell_type": "markdown",
   "id": "d9ae6cc6-b692-4ccd-980c-541d6cccc88a",
   "metadata": {},
   "source": [
    "**WARNING**\n",
    "\n",
    "Using a fast DeBERTa v3 tokenizer produces **unknown tokens**!"
   ]
  },
  {
   "cell_type": "code",
   "execution_count": 1,
   "id": "97eac0d3-d692-4dfb-bd63-02dbdab79104",
   "metadata": {},
   "outputs": [
    {
     "name": "stderr",
     "output_type": "stream",
     "text": [
      "/home/moscato/miniconda3/envs/phb/lib/python3.11/site-packages/tqdm/auto.py:21: TqdmWarning: IProgress not found. Please update jupyter and ipywidgets. See https://ipywidgets.readthedocs.io/en/stable/user_install.html\n",
      "  from .autonotebook import tqdm as notebook_tqdm\n"
     ]
    }
   ],
   "source": [
    "import os\n",
    "import sys\n",
    "import pandas as pd\n",
    "import torch\n",
    "\n",
    "sys.path.append('../modules/')\n",
    "\n",
    "from model_utils import get_deberta_model\n",
    "\n",
    "device = torch.device(\"cuda\" if torch.cuda.is_available() else \"cpu\")\n",
    "\n",
    "%load_ext autoreload\n",
    "%autoreload 2"
   ]
  },
  {
   "cell_type": "code",
   "execution_count": 2,
   "id": "afd4fedd-b3ce-4a9a-b4fc-ad92466df790",
   "metadata": {},
   "outputs": [
    {
     "data": {
      "text/html": [
       "<div>\n",
       "<style scoped>\n",
       "    .dataframe tbody tr th:only-of-type {\n",
       "        vertical-align: middle;\n",
       "    }\n",
       "\n",
       "    .dataframe tbody tr th {\n",
       "        vertical-align: top;\n",
       "    }\n",
       "\n",
       "    .dataframe thead th {\n",
       "        text-align: right;\n",
       "    }\n",
       "</style>\n",
       "<table border=\"1\" class=\"dataframe\">\n",
       "  <thead>\n",
       "    <tr style=\"text-align: right;\">\n",
       "      <th></th>\n",
       "      <th>text</th>\n",
       "      <th>HS</th>\n",
       "    </tr>\n",
       "  </thead>\n",
       "  <tbody>\n",
       "    <tr>\n",
       "      <th>0</th>\n",
       "      <td>Hurray, saving us $$$ in so many ways @potus @...</td>\n",
       "      <td>1</td>\n",
       "    </tr>\n",
       "    <tr>\n",
       "      <th>1</th>\n",
       "      <td>Why would young fighting age men be the vast m...</td>\n",
       "      <td>1</td>\n",
       "    </tr>\n",
       "    <tr>\n",
       "      <th>2</th>\n",
       "      <td>@KamalaHarris Illegals Dump their Kids at the ...</td>\n",
       "      <td>1</td>\n",
       "    </tr>\n",
       "    <tr>\n",
       "      <th>3</th>\n",
       "      <td>NY Times: 'Nearly All White' States Pose 'an A...</td>\n",
       "      <td>0</td>\n",
       "    </tr>\n",
       "    <tr>\n",
       "      <th>4</th>\n",
       "      <td>Orban in Brussels: European leaders are ignori...</td>\n",
       "      <td>0</td>\n",
       "    </tr>\n",
       "    <tr>\n",
       "      <th>...</th>\n",
       "      <td>...</td>\n",
       "      <td>...</td>\n",
       "    </tr>\n",
       "    <tr>\n",
       "      <th>8995</th>\n",
       "      <td>@mmdwriter @JRubinBlogger @BenSasse I am proud...</td>\n",
       "      <td>0</td>\n",
       "    </tr>\n",
       "    <tr>\n",
       "      <th>8996</th>\n",
       "      <td>@CheriJacobus Hollywood is complicit in the ra...</td>\n",
       "      <td>0</td>\n",
       "    </tr>\n",
       "    <tr>\n",
       "      <th>8997</th>\n",
       "      <td>@amaziah_filani What a fucking cunt I hate see...</td>\n",
       "      <td>1</td>\n",
       "    </tr>\n",
       "    <tr>\n",
       "      <th>8998</th>\n",
       "      <td>Hysterical woman like @CoryBooker</td>\n",
       "      <td>0</td>\n",
       "    </tr>\n",
       "    <tr>\n",
       "      <th>8999</th>\n",
       "      <td>Nearly every woman I know has #meToo in their ...</td>\n",
       "      <td>0</td>\n",
       "    </tr>\n",
       "  </tbody>\n",
       "</table>\n",
       "<p>9000 rows × 2 columns</p>\n",
       "</div>"
      ],
      "text/plain": [
       "                                                   text  HS\n",
       "0     Hurray, saving us $$$ in so many ways @potus @...   1\n",
       "1     Why would young fighting age men be the vast m...   1\n",
       "2     @KamalaHarris Illegals Dump their Kids at the ...   1\n",
       "3     NY Times: 'Nearly All White' States Pose 'an A...   0\n",
       "4     Orban in Brussels: European leaders are ignori...   0\n",
       "...                                                 ...  ..\n",
       "8995  @mmdwriter @JRubinBlogger @BenSasse I am proud...   0\n",
       "8996  @CheriJacobus Hollywood is complicit in the ra...   0\n",
       "8997  @amaziah_filani What a fucking cunt I hate see...   1\n",
       "8998                  Hysterical woman like @CoryBooker   0\n",
       "8999  Nearly every woman I know has #meToo in their ...   0\n",
       "\n",
       "[9000 rows x 2 columns]"
      ]
     },
     "execution_count": 2,
     "metadata": {},
     "output_type": "execute_result"
    }
   ],
   "source": [
    "DATA_DIR = '/data1/moscato/personalised-hate-boundaries-data/data/hateval2019/'\n",
    "\n",
    "language = 'en'  # 'en' or 'es'.\n",
    "partition = 'train'  # 'dev', 'test' or 'train'.\n",
    "\n",
    "data_df = pd.read_csv(os.path.join(DATA_DIR, f'hateval2019_{language}_{partition}.csv'))[['text', 'HS']]\n",
    "\n",
    "data_df"
   ]
  },
  {
   "cell_type": "code",
   "execution_count": 3,
   "id": "8d8ee612-9208-41d5-8fa1-e68d0ea8e325",
   "metadata": {},
   "outputs": [
    {
     "name": "stderr",
     "output_type": "stream",
     "text": [
      "/home/moscato/miniconda3/envs/phb/lib/python3.11/site-packages/transformers/convert_slow_tokenizer.py:561: UserWarning: The sentencepiece tokenizer that you are converting to a fast tokenizer uses the byte fallback option which is not implemented in the fast tokenizers. In practice this means that the fast version of the tokenizer can produce unknown tokens whereas the sentencepiece version would have converted these unknown tokens into a sequence of byte tokens matching the original piece of text.\n",
      "  warnings.warn(\n"
     ]
    }
   ],
   "source": [
    "from transformers import AutoTokenizer\n",
    "\n",
    "tokenizer_slow = AutoTokenizer.from_pretrained(\n",
    "    'microsoft/deberta-v3-base',\n",
    "    cache_dir='/data1/shared_models/',\n",
    "    use_fast=False\n",
    ")\n",
    "\n",
    "tokenizer_fast = AutoTokenizer.from_pretrained(\n",
    "    'microsoft/deberta-v3-base',\n",
    "    cache_dir='/data1/shared_models/',\n",
    "    use_fast=True\n",
    ")"
   ]
  },
  {
   "cell_type": "code",
   "execution_count": 4,
   "id": "ad619841-5324-4057-86ff-fb44ea9d6260",
   "metadata": {},
   "outputs": [],
   "source": [
    "data_df['decoded_text_slow'] = data_df['text'].map(\n",
    "    lambda t: tokenizer_slow.decode(tokenizer_slow(t)['input_ids']).replace('[CLS] ', '').replace('[SEP]', '')\n",
    ")\n",
    "\n",
    "data_df['decoded_text_fast'] = data_df['text'].map(\n",
    "    lambda t: tokenizer_slow.decode(tokenizer_fast(t)['input_ids']).replace('[CLS] ', '').replace('[SEP]', '')\n",
    ")"
   ]
  },
  {
   "cell_type": "code",
   "execution_count": 5,
   "id": "ac45cb20-dcb8-4a46-ac35-c7768ead9d84",
   "metadata": {},
   "outputs": [
    {
     "data": {
      "text/plain": [
       "np.float64(0.009777777777777778)"
      ]
     },
     "execution_count": 5,
     "metadata": {},
     "output_type": "execute_result"
    }
   ],
   "source": [
    "data_df['decoded_text_fast'].str.contains('UNK').mean()"
   ]
  },
  {
   "cell_type": "code",
   "execution_count": 7,
   "id": "f44e7b39-a21c-46f7-80a2-5512b7977889",
   "metadata": {},
   "outputs": [
    {
     "data": {
      "text/plain": [
       "np.float64(0.009666666666666667)"
      ]
     },
     "execution_count": 7,
     "metadata": {},
     "output_type": "execute_result"
    }
   ],
   "source": [
    "(data_df['decoded_text_fast'] != data_df['decoded_text_slow']).mean()"
   ]
  }
 ],
 "metadata": {
  "kernelspec": {
   "display_name": "Python 3 (ipykernel)",
   "language": "python",
   "name": "python3"
  },
  "language_info": {
   "codemirror_mode": {
    "name": "ipython",
    "version": 3
   },
   "file_extension": ".py",
   "mimetype": "text/x-python",
   "name": "python",
   "nbconvert_exporter": "python",
   "pygments_lexer": "ipython3",
   "version": "3.11.10"
  }
 },
 "nbformat": 4,
 "nbformat_minor": 5
}
