{
 "cells": [
  {
   "cell_type": "code",
   "execution_count": 1,
   "metadata": {},
   "outputs": [],
   "source": [
    "import datasets\n",
    "import matplotlib.pyplot as plt\n",
    "import seaborn\n",
    "import pandas as pd\n",
    "import numpy as np\n",
    "\n",
    "dataset = datasets.load_dataset('ucberkeley-dlab/measuring-hate-speech', 'default')\n",
    "df = dataset['train'].to_pandas()"
   ]
  },
  {
   "cell_type": "markdown",
   "metadata": {},
   "source": [
    "# Dataset Exploration"
   ]
  },
  {
   "cell_type": "markdown",
   "metadata": {},
   "source": [
    "## Overview"
   ]
  },
  {
   "cell_type": "code",
   "execution_count": 2,
   "metadata": {},
   "outputs": [
    {
     "data": {
      "text/plain": [
       "135556"
      ]
     },
     "execution_count": 2,
     "metadata": {},
     "output_type": "execute_result"
    }
   ],
   "source": [
    "len(df.index)"
   ]
  },
  {
   "cell_type": "code",
   "execution_count": 3,
   "metadata": {},
   "outputs": [
    {
     "data": {
      "text/plain": [
       "131"
      ]
     },
     "execution_count": 3,
     "metadata": {},
     "output_type": "execute_result"
    }
   ],
   "source": [
    "len(df.columns)"
   ]
  },
  {
   "cell_type": "code",
   "execution_count": 4,
   "metadata": {},
   "outputs": [
    {
     "name": "stdout",
     "output_type": "stream",
     "text": [
      "comment_id, annotator_id, platform, sentiment\n",
      ", respect, insult, humiliate, status\n",
      ", dehumanize, violence, genocide, attack_defend\n",
      ", hatespeech, hate_speech_score, text\n"
     ]
    }
   ],
   "source": [
    "# first 15 columns\n",
    "print(', '.join([f'{col}\\n' if i % 4 == 0 else col for i, col in enumerate(df.columns.to_list()[:15], start=1)]))"
   ]
  },
  {
   "cell_type": "code",
   "execution_count": 5,
   "metadata": {},
   "outputs": [
    {
     "data": {
      "text/plain": [
       "count    39565.000000\n",
       "mean         3.426159\n",
       "std         26.958077\n",
       "min          1.000000\n",
       "25%          1.000000\n",
       "50%          2.000000\n",
       "75%          3.000000\n",
       "max        815.000000\n",
       "Name: count, dtype: float64"
      ]
     },
     "execution_count": 5,
     "metadata": {},
     "output_type": "execute_result"
    }
   ],
   "source": [
    "df['comment_id'].value_counts().describe()"
   ]
  },
  {
   "cell_type": "code",
   "execution_count": 6,
   "metadata": {},
   "outputs": [
    {
     "data": {
      "text/plain": [
       "count    7912.000000\n",
       "mean       17.132963\n",
       "std         3.825483\n",
       "min         6.000000\n",
       "25%        15.000000\n",
       "50%        17.000000\n",
       "75%        20.000000\n",
       "max        26.000000\n",
       "Name: count, dtype: float64"
      ]
     },
     "execution_count": 6,
     "metadata": {},
     "output_type": "execute_result"
    }
   ],
   "source": [
    "df['annotator_id'].value_counts().describe()"
   ]
  },
  {
   "cell_type": "code",
   "execution_count": 7,
   "metadata": {},
   "outputs": [
    {
     "data": {
      "text/plain": [
       "count    135556.000000\n",
       "mean         -0.567428\n",
       "std           2.380003\n",
       "min          -8.340000\n",
       "25%          -2.330000\n",
       "50%          -0.340000\n",
       "75%           1.410000\n",
       "max           6.300000\n",
       "Name: hate_speech_score, dtype: float64"
      ]
     },
     "execution_count": 7,
     "metadata": {},
     "output_type": "execute_result"
    }
   ],
   "source": [
    "df['hate_speech_score'].describe()"
   ]
  },
  {
   "cell_type": "code",
   "execution_count": 8,
   "metadata": {},
   "outputs": [
    {
     "data": {
      "text/plain": [
       "hatespeech\n",
       "0.0    80624\n",
       "2.0    46021\n",
       "1.0     8911\n",
       "Name: count, dtype: int64"
      ]
     },
     "execution_count": 8,
     "metadata": {},
     "output_type": "execute_result"
    }
   ],
   "source": [
    "df['hatespeech'].value_counts()"
   ]
  },
  {
   "cell_type": "code",
   "execution_count": 9,
   "metadata": {},
   "outputs": [
    {
     "data": {
      "text/plain": [
       "count    135556.000000\n",
       "mean         -0.018817\n",
       "std           0.487261\n",
       "min          -1.820000\n",
       "25%          -0.380000\n",
       "50%          -0.020000\n",
       "75%           0.350000\n",
       "max           1.360000\n",
       "Name: annotator_severity, dtype: float64"
      ]
     },
     "execution_count": 9,
     "metadata": {},
     "output_type": "execute_result"
    }
   ],
   "source": [
    "df['annotator_severity'].describe()"
   ]
  },
  {
   "cell_type": "markdown",
   "metadata": {},
   "source": [
    "## Dataset Filtering"
   ]
  },
  {
   "cell_type": "code",
   "execution_count": 10,
   "metadata": {},
   "outputs": [],
   "source": [
    "def apply_criteria_for_label_counts(df, min_labels_per_annotator=1, min_labels_per_comment=1):\n",
    "    # for label \"hatespeech\":\n",
    "    # 0.0 = no, 1.0 = unclear, 2.0 = yes\n",
    "    UNCLEAR_LABEL = 1.0\n",
    "    df = df[df['hatespeech'] != UNCLEAR_LABEL]\n",
    "    counter = 1\n",
    "    while True:\n",
    "        annotations_per_annotator = df['annotator_id'].value_counts()\n",
    "        annotators_w_sufficient_annos = annotations_per_annotator[annotations_per_annotator >= min_labels_per_annotator]\n",
    "        annotations_per_comment = df['comment_id'].value_counts()\n",
    "        comments_w_sufficient_annotations = annotations_per_comment[annotations_per_comment >= min_labels_per_comment]\n",
    "\n",
    "        df = df[df['annotator_id'].isin(annotators_w_sufficient_annos.index)]\n",
    "        df = df[df['comment_id'].isin(comments_w_sufficient_annotations.index)]\n",
    "\n",
    "        has_enough_labels_per_annotator = df['annotator_id'].value_counts().min() >= min_labels_per_annotator\n",
    "        has_enough_labels_per_comment = df['comment_id'].value_counts().min() >= min_labels_per_comment\n",
    "        if has_enough_labels_per_annotator and has_enough_labels_per_comment:\n",
    "            break\n",
    "        counter = counter + 1\n",
    "    print(f'Finished after {counter} iterations.')\n",
    "    return df"
   ]
  },
  {
   "cell_type": "markdown",
   "metadata": {},
   "source": [
    "### Minimum Annotation Counts (Original Setting)"
   ]
  },
  {
   "cell_type": "code",
   "execution_count": 11,
   "metadata": {},
   "outputs": [
    {
     "name": "stdout",
     "output_type": "stream",
     "text": [
      "Finished after 19 iterations.\n"
     ]
    },
    {
     "data": {
      "text/plain": [
       "(45033, 131)"
      ]
     },
     "execution_count": 11,
     "metadata": {},
     "output_type": "execute_result"
    }
   ],
   "source": [
    "# filtered_df = apply_criteria_for_label_counts(\n",
    "#     df,\n",
    "#     min_labels_per_annotator = 12,\n",
    "#     min_labels_per_comment = 3\n",
    "# )\n",
    "filtered_df = apply_criteria_for_label_counts(\n",
    "    df,\n",
    "    min_labels_per_annotator = 10,\n",
    "    min_labels_per_comment = 3\n",
    ")\n",
    "\n",
    "filtered_df.shape"
   ]
  },
  {
   "cell_type": "code",
   "execution_count": 12,
   "metadata": {},
   "outputs": [
    {
     "data": {
      "text/plain": [
       "hatespeech\n",
       "0.0    28028\n",
       "2.0    17005\n",
       "Name: count, dtype: int64"
      ]
     },
     "execution_count": 12,
     "metadata": {},
     "output_type": "execute_result"
    }
   ],
   "source": [
    "filtered_df['hatespeech'].value_counts()"
   ]
  },
  {
   "cell_type": "code",
   "execution_count": 13,
   "metadata": {},
   "outputs": [
    {
     "data": {
      "text/plain": [
       "count    3406.000000\n",
       "mean       13.221668\n",
       "std         2.696037\n",
       "min        10.000000\n",
       "25%        11.000000\n",
       "50%        13.000000\n",
       "75%        15.000000\n",
       "max        24.000000\n",
       "Name: count, dtype: float64"
      ]
     },
     "execution_count": 13,
     "metadata": {},
     "output_type": "execute_result"
    }
   ],
   "source": [
    "filtered_df['annotator_id'].value_counts().describe()"
   ]
  },
  {
   "cell_type": "code",
   "execution_count": 14,
   "metadata": {},
   "outputs": [
    {
     "data": {
      "text/plain": [
       "count    7968.000000\n",
       "mean        5.651732\n",
       "std        25.616463\n",
       "min         3.000000\n",
       "25%         3.000000\n",
       "50%         3.000000\n",
       "75%         4.000000\n",
       "max       365.000000\n",
       "Name: count, dtype: float64"
      ]
     },
     "execution_count": 14,
     "metadata": {},
     "output_type": "execute_result"
    }
   ],
   "source": [
    "filtered_df['comment_id'].value_counts().describe()"
   ]
  },
  {
   "cell_type": "markdown",
   "metadata": {
    "jp-MarkdownHeadingCollapsed": true
   },
   "source": [
    "### Minimum Annotation Counts (Relaxed Setting)"
   ]
  },
  {
   "cell_type": "code",
   "execution_count": 15,
   "metadata": {},
   "outputs": [
    {
     "name": "stdout",
     "output_type": "stream",
     "text": [
      "Finished after 17 iterations.\n"
     ]
    }
   ],
   "source": [
    "relaxed_df = apply_criteria_for_label_counts(\n",
    "    df,\n",
    "    min_labels_per_annotator = 12,\n",
    "    min_labels_per_comment = 2\n",
    ")"
   ]
  },
  {
   "cell_type": "code",
   "execution_count": 16,
   "metadata": {},
   "outputs": [
    {
     "data": {
      "text/plain": [
       "hatespeech\n",
       "0.0    57368\n",
       "2.0    32973\n",
       "Name: count, dtype: int64"
      ]
     },
     "execution_count": 16,
     "metadata": {},
     "output_type": "execute_result"
    }
   ],
   "source": [
    "relaxed_df['hatespeech'].value_counts()"
   ]
  },
  {
   "cell_type": "code",
   "execution_count": 17,
   "metadata": {},
   "outputs": [
    {
     "data": {
      "text/plain": [
       "count    5731.000000\n",
       "mean       15.763567\n",
       "std         2.692911\n",
       "min        12.000000\n",
       "25%        14.000000\n",
       "50%        15.000000\n",
       "75%        18.000000\n",
       "max        26.000000\n",
       "Name: count, dtype: float64"
      ]
     },
     "execution_count": 17,
     "metadata": {},
     "output_type": "execute_result"
    }
   ],
   "source": [
    "relaxed_df['annotator_id'].value_counts().describe()"
   ]
  },
  {
   "cell_type": "code",
   "execution_count": 18,
   "metadata": {},
   "outputs": [
    {
     "data": {
      "text/plain": [
       "count    22545.000000\n",
       "mean         4.007141\n",
       "std         25.658153\n",
       "min          2.000000\n",
       "25%          2.000000\n",
       "50%          2.000000\n",
       "75%          3.000000\n",
       "max        590.000000\n",
       "Name: count, dtype: float64"
      ]
     },
     "execution_count": 18,
     "metadata": {},
     "output_type": "execute_result"
    }
   ],
   "source": [
    "relaxed_df['comment_id'].value_counts().describe()"
   ]
  },
  {
   "cell_type": "markdown",
   "metadata": {},
   "source": [
    "## Converting Dataset Format"
   ]
  },
  {
   "cell_type": "code",
   "execution_count": 15,
   "metadata": {},
   "outputs": [],
   "source": [
    "target_columns = [\n",
    "    'toxic_score',\n",
    "    'text',\n",
    "    'text_id',\n",
    "    'annotator_id',\n",
    "    'annotator_severity'\n",
    "]"
   ]
  },
  {
   "cell_type": "code",
   "execution_count": 16,
   "metadata": {},
   "outputs": [],
   "source": [
    "def convert_label(label):\n",
    "    if label == 0.0:\n",
    "        return 0\n",
    "    elif label == 2.0:\n",
    "        return 1\n",
    "    else:\n",
    "        raise ValueError(f'\"label\" is {label} but excepted 0.0 or 2.0')"
   ]
  },
  {
   "cell_type": "markdown",
   "metadata": {},
   "source": [
    "### Original Filtering Criteria"
   ]
  },
  {
   "cell_type": "code",
   "execution_count": 17,
   "metadata": {},
   "outputs": [],
   "source": [
    "target = filtered_df.rename(columns={\n",
    "    'hatespeech': 'toxic_score', \n",
    "    'comment_id': 'text_id', \n",
    "    'comment': 'text'\n",
    "})\n",
    "target = target.drop(columns=[c for c in target.columns if not c in target_columns])\n",
    "target['toxic_score'] = target['toxic_score'].apply(convert_label)"
   ]
  },
  {
   "cell_type": "code",
   "execution_count": 18,
   "metadata": {},
   "outputs": [
    {
     "data": {
      "text/html": [
       "<div>\n",
       "<style scoped>\n",
       "    .dataframe tbody tr th:only-of-type {\n",
       "        vertical-align: middle;\n",
       "    }\n",
       "\n",
       "    .dataframe tbody tr th {\n",
       "        vertical-align: top;\n",
       "    }\n",
       "\n",
       "    .dataframe thead th {\n",
       "        text-align: right;\n",
       "    }\n",
       "</style>\n",
       "<table border=\"1\" class=\"dataframe\">\n",
       "  <thead>\n",
       "    <tr style=\"text-align: right;\">\n",
       "      <th></th>\n",
       "      <th>text_id</th>\n",
       "      <th>annotator_id</th>\n",
       "      <th>toxic_score</th>\n",
       "      <th>text</th>\n",
       "      <th>annotator_severity</th>\n",
       "    </tr>\n",
       "  </thead>\n",
       "  <tbody>\n",
       "    <tr>\n",
       "      <th>3</th>\n",
       "      <td>43625</td>\n",
       "      <td>7365</td>\n",
       "      <td>0</td>\n",
       "      <td>It is about time for all illegals to go back t...</td>\n",
       "      <td>0.86</td>\n",
       "    </tr>\n",
       "    <tr>\n",
       "      <th>10</th>\n",
       "      <td>23643</td>\n",
       "      <td>9750</td>\n",
       "      <td>0</td>\n",
       "      <td>9) uhhhh i like being lgbt a lot. i feel proud...</td>\n",
       "      <td>0.61</td>\n",
       "    </tr>\n",
       "    <tr>\n",
       "      <th>12</th>\n",
       "      <td>20583</td>\n",
       "      <td>7259</td>\n",
       "      <td>0</td>\n",
       "      <td>@terryelaineh1 @UKLabour Why do 3.8 million #5...</td>\n",
       "      <td>0.52</td>\n",
       "    </tr>\n",
       "    <tr>\n",
       "      <th>15</th>\n",
       "      <td>23016</td>\n",
       "      <td>10173</td>\n",
       "      <td>0</td>\n",
       "      <td>Ladies buy a gun learn how to use it effective...</td>\n",
       "      <td>0.00</td>\n",
       "    </tr>\n",
       "    <tr>\n",
       "      <th>22</th>\n",
       "      <td>15758</td>\n",
       "      <td>8749</td>\n",
       "      <td>0</td>\n",
       "      <td>No, they only do that to black people</td>\n",
       "      <td>0.47</td>\n",
       "    </tr>\n",
       "    <tr>\n",
       "      <th>...</th>\n",
       "      <td>...</td>\n",
       "      <td>...</td>\n",
       "      <td>...</td>\n",
       "      <td>...</td>\n",
       "      <td>...</td>\n",
       "    </tr>\n",
       "    <tr>\n",
       "      <th>135535</th>\n",
       "      <td>20064</td>\n",
       "      <td>9905</td>\n",
       "      <td>0</td>\n",
       "      <td>Lailat al Miraj mubarak to all Muslims.. I'm w...</td>\n",
       "      <td>0.26</td>\n",
       "    </tr>\n",
       "    <tr>\n",
       "      <th>135536</th>\n",
       "      <td>20059</td>\n",
       "      <td>1257</td>\n",
       "      <td>0</td>\n",
       "      <td>happy pride month i'm gay URL</td>\n",
       "      <td>0.50</td>\n",
       "    </tr>\n",
       "    <tr>\n",
       "      <th>135537</th>\n",
       "      <td>20060</td>\n",
       "      <td>611</td>\n",
       "      <td>0</td>\n",
       "      <td>I love that you enjoy being trans.</td>\n",
       "      <td>-0.18</td>\n",
       "    </tr>\n",
       "    <tr>\n",
       "      <th>135538</th>\n",
       "      <td>20067</td>\n",
       "      <td>7414</td>\n",
       "      <td>0</td>\n",
       "      <td>Please help support nonbinary pride, add a #Tw...</td>\n",
       "      <td>0.45</td>\n",
       "    </tr>\n",
       "    <tr>\n",
       "      <th>135540</th>\n",
       "      <td>20064</td>\n",
       "      <td>10290</td>\n",
       "      <td>0</td>\n",
       "      <td>Lailat al Miraj mubarak to all Muslims.. I'm w...</td>\n",
       "      <td>0.11</td>\n",
       "    </tr>\n",
       "  </tbody>\n",
       "</table>\n",
       "<p>45033 rows × 5 columns</p>\n",
       "</div>"
      ],
      "text/plain": [
       "        text_id  annotator_id  toxic_score  \\\n",
       "3         43625          7365            0   \n",
       "10        23643          9750            0   \n",
       "12        20583          7259            0   \n",
       "15        23016         10173            0   \n",
       "22        15758          8749            0   \n",
       "...         ...           ...          ...   \n",
       "135535    20064          9905            0   \n",
       "135536    20059          1257            0   \n",
       "135537    20060           611            0   \n",
       "135538    20067          7414            0   \n",
       "135540    20064         10290            0   \n",
       "\n",
       "                                                     text  annotator_severity  \n",
       "3       It is about time for all illegals to go back t...                0.86  \n",
       "10      9) uhhhh i like being lgbt a lot. i feel proud...                0.61  \n",
       "12      @terryelaineh1 @UKLabour Why do 3.8 million #5...                0.52  \n",
       "15      Ladies buy a gun learn how to use it effective...                0.00  \n",
       "22                  No, they only do that to black people                0.47  \n",
       "...                                                   ...                 ...  \n",
       "135535  Lailat al Miraj mubarak to all Muslims.. I'm w...                0.26  \n",
       "135536                      happy pride month i'm gay URL                0.50  \n",
       "135537                 I love that you enjoy being trans.               -0.18  \n",
       "135538  Please help support nonbinary pride, add a #Tw...                0.45  \n",
       "135540  Lailat al Miraj mubarak to all Muslims.. I'm w...                0.11  \n",
       "\n",
       "[45033 rows x 5 columns]"
      ]
     },
     "execution_count": 18,
     "metadata": {},
     "output_type": "execute_result"
    }
   ],
   "source": [
    "target"
   ]
  },
  {
   "cell_type": "code",
   "execution_count": 19,
   "metadata": {},
   "outputs": [
    {
     "data": {
      "text/plain": [
       "np.True_"
      ]
     },
     "execution_count": 19,
     "metadata": {},
     "output_type": "execute_result"
    }
   ],
   "source": [
    "# check if every annotator has annotated each text only once\n",
    "target.apply(lambda row: f\"{row['annotator_id']}+{row['text_id']}\", axis=1).value_counts().max() == 1"
   ]
  },
  {
   "cell_type": "markdown",
   "metadata": {
    "jp-MarkdownHeadingCollapsed": true
   },
   "source": [
    "### Relaxed Filtering Criteria"
   ]
  },
  {
   "cell_type": "code",
   "execution_count": 20,
   "metadata": {},
   "outputs": [
    {
     "ename": "NameError",
     "evalue": "name 'relaxed_df' is not defined",
     "output_type": "error",
     "traceback": [
      "\u001b[0;31m---------------------------------------------------------------------------\u001b[0m",
      "\u001b[0;31mNameError\u001b[0m                                 Traceback (most recent call last)",
      "Cell \u001b[0;32mIn[20], line 1\u001b[0m\n\u001b[0;32m----> 1\u001b[0m relaxed_target \u001b[38;5;241m=\u001b[39m \u001b[43mrelaxed_df\u001b[49m\u001b[38;5;241m.\u001b[39mrename(columns\u001b[38;5;241m=\u001b[39m{\n\u001b[1;32m      2\u001b[0m     \u001b[38;5;124m'\u001b[39m\u001b[38;5;124mhatespeech\u001b[39m\u001b[38;5;124m'\u001b[39m: \u001b[38;5;124m'\u001b[39m\u001b[38;5;124mtoxic_score\u001b[39m\u001b[38;5;124m'\u001b[39m, \n\u001b[1;32m      3\u001b[0m     \u001b[38;5;124m'\u001b[39m\u001b[38;5;124mcomment_id\u001b[39m\u001b[38;5;124m'\u001b[39m: \u001b[38;5;124m'\u001b[39m\u001b[38;5;124mtext_id\u001b[39m\u001b[38;5;124m'\u001b[39m, \n\u001b[1;32m      4\u001b[0m     \u001b[38;5;124m'\u001b[39m\u001b[38;5;124mcomment\u001b[39m\u001b[38;5;124m'\u001b[39m: \u001b[38;5;124m'\u001b[39m\u001b[38;5;124mtext\u001b[39m\u001b[38;5;124m'\u001b[39m\n\u001b[1;32m      5\u001b[0m })\n\u001b[1;32m      6\u001b[0m relaxed_target \u001b[38;5;241m=\u001b[39m relaxed_target\u001b[38;5;241m.\u001b[39mdrop(columns\u001b[38;5;241m=\u001b[39m[c \u001b[38;5;28;01mfor\u001b[39;00m c \u001b[38;5;129;01min\u001b[39;00m relaxed_target\u001b[38;5;241m.\u001b[39mcolumns \u001b[38;5;28;01mif\u001b[39;00m \u001b[38;5;129;01mnot\u001b[39;00m c \u001b[38;5;129;01min\u001b[39;00m target_columns])\n\u001b[1;32m      7\u001b[0m relaxed_target[\u001b[38;5;124m'\u001b[39m\u001b[38;5;124mtoxic_score\u001b[39m\u001b[38;5;124m'\u001b[39m] \u001b[38;5;241m=\u001b[39m relaxed_target[\u001b[38;5;124m'\u001b[39m\u001b[38;5;124mtoxic_score\u001b[39m\u001b[38;5;124m'\u001b[39m]\u001b[38;5;241m.\u001b[39mapply(convert_label)\n",
      "\u001b[0;31mNameError\u001b[0m: name 'relaxed_df' is not defined"
     ]
    }
   ],
   "source": [
    "relaxed_target = relaxed_df.rename(columns={\n",
    "    'hatespeech': 'toxic_score', \n",
    "    'comment_id': 'text_id', \n",
    "    'comment': 'text'\n",
    "})\n",
    "relaxed_target = relaxed_target.drop(columns=[c for c in relaxed_target.columns if not c in target_columns])\n",
    "relaxed_target['toxic_score'] = relaxed_target['toxic_score'].apply(convert_label)"
   ]
  },
  {
   "cell_type": "code",
   "execution_count": 21,
   "metadata": {},
   "outputs": [
    {
     "ename": "NameError",
     "evalue": "name 'relaxed_target' is not defined",
     "output_type": "error",
     "traceback": [
      "\u001b[0;31m---------------------------------------------------------------------------\u001b[0m",
      "\u001b[0;31mNameError\u001b[0m                                 Traceback (most recent call last)",
      "Cell \u001b[0;32mIn[21], line 1\u001b[0m\n\u001b[0;32m----> 1\u001b[0m \u001b[43mrelaxed_target\u001b[49m\n",
      "\u001b[0;31mNameError\u001b[0m: name 'relaxed_target' is not defined"
     ]
    }
   ],
   "source": [
    "relaxed_target"
   ]
  },
  {
   "cell_type": "code",
   "execution_count": 26,
   "metadata": {},
   "outputs": [
    {
     "data": {
      "text/plain": [
       "np.True_"
      ]
     },
     "execution_count": 26,
     "metadata": {},
     "output_type": "execute_result"
    }
   ],
   "source": [
    "# check if every annotator has annotated each text only once\n",
    "relaxed_target.apply(lambda row: f\"{row['annotator_id']}+{row['text_id']}\", axis=1).value_counts().max() == 1"
   ]
  },
  {
   "cell_type": "code",
   "execution_count": 27,
   "metadata": {},
   "outputs": [],
   "source": [
    "# relaxed_target.to_csv('../../data/clean/mhs_relaxed.csv', index=False)"
   ]
  },
  {
   "cell_type": "markdown",
   "metadata": {},
   "source": [
    "## Summary statistics"
   ]
  },
  {
   "cell_type": "code",
   "execution_count": 21,
   "metadata": {},
   "outputs": [
    {
     "data": {
      "text/plain": [
       "np.float64(0.37761197344169833)"
      ]
     },
     "execution_count": 21,
     "metadata": {},
     "output_type": "execute_result"
    }
   ],
   "source": [
    "# Class imbalance.\n",
    "target['toxic_score'].mean()"
   ]
  },
  {
   "cell_type": "code",
   "execution_count": 22,
   "metadata": {},
   "outputs": [
    {
     "data": {
      "text/plain": [
       "count    3406.000000\n",
       "mean       13.221668\n",
       "std         2.696037\n",
       "min        10.000000\n",
       "25%        11.000000\n",
       "50%        13.000000\n",
       "75%        15.000000\n",
       "max        24.000000\n",
       "Name: text_id, dtype: float64"
      ]
     },
     "execution_count": 22,
     "metadata": {},
     "output_type": "execute_result"
    }
   ],
   "source": [
    "# Number of annotated text (minimum is set by construction).\n",
    "target.groupby('annotator_id')['text_id'].count().describe()"
   ]
  },
  {
   "cell_type": "code",
   "execution_count": 23,
   "metadata": {},
   "outputs": [
    {
     "data": {
      "text/plain": [
       "count    3406.000000\n",
       "mean        0.380778\n",
       "std         0.154906\n",
       "min         0.000000\n",
       "25%         0.272727\n",
       "50%         0.363636\n",
       "75%         0.500000\n",
       "max         1.000000\n",
       "Name: toxic_score, dtype: float64"
      ]
     },
     "execution_count": 23,
     "metadata": {},
     "output_type": "execute_result"
    }
   ],
   "source": [
    "# Statistics for class imbalance for each annotator.\n",
    "target.groupby('annotator_id')['toxic_score'].mean().describe()"
   ]
  },
  {
   "cell_type": "code",
   "execution_count": 24,
   "metadata": {},
   "outputs": [
    {
     "data": {
      "text/html": [
       "<div>\n",
       "<style scoped>\n",
       "    .dataframe tbody tr th:only-of-type {\n",
       "        vertical-align: middle;\n",
       "    }\n",
       "\n",
       "    .dataframe tbody tr th {\n",
       "        vertical-align: top;\n",
       "    }\n",
       "\n",
       "    .dataframe thead th {\n",
       "        text-align: right;\n",
       "    }\n",
       "</style>\n",
       "<table border=\"1\" class=\"dataframe\">\n",
       "  <thead>\n",
       "    <tr style=\"text-align: right;\">\n",
       "      <th></th>\n",
       "      <th>annotator_id</th>\n",
       "      <th>annotator_severity</th>\n",
       "    </tr>\n",
       "  </thead>\n",
       "  <tbody>\n",
       "    <tr>\n",
       "      <th>count</th>\n",
       "      <td>3406.000000</td>\n",
       "      <td>3406.000000</td>\n",
       "    </tr>\n",
       "    <tr>\n",
       "      <th>mean</th>\n",
       "      <td>5551.771286</td>\n",
       "      <td>-0.009292</td>\n",
       "    </tr>\n",
       "    <tr>\n",
       "      <th>std</th>\n",
       "      <td>3222.011671</td>\n",
       "      <td>0.481449</td>\n",
       "    </tr>\n",
       "    <tr>\n",
       "      <th>min</th>\n",
       "      <td>1.000000</td>\n",
       "      <td>-1.240000</td>\n",
       "    </tr>\n",
       "    <tr>\n",
       "      <th>25%</th>\n",
       "      <td>2701.750000</td>\n",
       "      <td>-0.370000</td>\n",
       "    </tr>\n",
       "    <tr>\n",
       "      <th>50%</th>\n",
       "      <td>5606.000000</td>\n",
       "      <td>-0.010000</td>\n",
       "    </tr>\n",
       "    <tr>\n",
       "      <th>75%</th>\n",
       "      <td>8321.750000</td>\n",
       "      <td>0.360000</td>\n",
       "    </tr>\n",
       "    <tr>\n",
       "      <th>max</th>\n",
       "      <td>11142.000000</td>\n",
       "      <td>1.080000</td>\n",
       "    </tr>\n",
       "  </tbody>\n",
       "</table>\n",
       "</div>"
      ],
      "text/plain": [
       "       annotator_id  annotator_severity\n",
       "count   3406.000000         3406.000000\n",
       "mean    5551.771286           -0.009292\n",
       "std     3222.011671            0.481449\n",
       "min        1.000000           -1.240000\n",
       "25%     2701.750000           -0.370000\n",
       "50%     5606.000000           -0.010000\n",
       "75%     8321.750000            0.360000\n",
       "max    11142.000000            1.080000"
      ]
     },
     "execution_count": 24,
     "metadata": {},
     "output_type": "execute_result"
    }
   ],
   "source": [
    "# Annotator severity.\n",
    "annotator_severity = target.groupby('annotator_id')['annotator_severity'].first().reset_index()\n",
    "\n",
    "annotator_severity.describe()"
   ]
  },
  {
   "cell_type": "code",
   "execution_count": 25,
   "metadata": {},
   "outputs": [
    {
     "data": {
      "text/html": [
       "<div>\n",
       "<style scoped>\n",
       "    .dataframe tbody tr th:only-of-type {\n",
       "        vertical-align: middle;\n",
       "    }\n",
       "\n",
       "    .dataframe tbody tr th {\n",
       "        vertical-align: top;\n",
       "    }\n",
       "\n",
       "    .dataframe thead th {\n",
       "        text-align: right;\n",
       "    }\n",
       "</style>\n",
       "<table border=\"1\" class=\"dataframe\">\n",
       "  <thead>\n",
       "    <tr style=\"text-align: right;\">\n",
       "      <th></th>\n",
       "      <th>quantile</th>\n",
       "      <th>value</th>\n",
       "      <th>n_annotators</th>\n",
       "    </tr>\n",
       "  </thead>\n",
       "  <tbody>\n",
       "    <tr>\n",
       "      <th>0</th>\n",
       "      <td>0.1</td>\n",
       "      <td>-0.67</td>\n",
       "      <td>350</td>\n",
       "    </tr>\n",
       "    <tr>\n",
       "      <th>1</th>\n",
       "      <td>0.2</td>\n",
       "      <td>-0.45</td>\n",
       "      <td>686</td>\n",
       "    </tr>\n",
       "    <tr>\n",
       "      <th>2</th>\n",
       "      <td>0.3</td>\n",
       "      <td>-0.29</td>\n",
       "      <td>1023</td>\n",
       "    </tr>\n",
       "    <tr>\n",
       "      <th>3</th>\n",
       "      <td>0.4</td>\n",
       "      <td>-0.15</td>\n",
       "      <td>1388</td>\n",
       "    </tr>\n",
       "    <tr>\n",
       "      <th>4</th>\n",
       "      <td>0.5</td>\n",
       "      <td>-0.01</td>\n",
       "      <td>1712</td>\n",
       "    </tr>\n",
       "    <tr>\n",
       "      <th>5</th>\n",
       "      <td>0.6</td>\n",
       "      <td>0.12</td>\n",
       "      <td>2048</td>\n",
       "    </tr>\n",
       "    <tr>\n",
       "      <th>6</th>\n",
       "      <td>0.7</td>\n",
       "      <td>0.28</td>\n",
       "      <td>2410</td>\n",
       "    </tr>\n",
       "    <tr>\n",
       "      <th>7</th>\n",
       "      <td>0.8</td>\n",
       "      <td>0.45</td>\n",
       "      <td>2753</td>\n",
       "    </tr>\n",
       "    <tr>\n",
       "      <th>8</th>\n",
       "      <td>0.9</td>\n",
       "      <td>0.64</td>\n",
       "      <td>3067</td>\n",
       "    </tr>\n",
       "    <tr>\n",
       "      <th>9</th>\n",
       "      <td>1.0</td>\n",
       "      <td>1.08</td>\n",
       "      <td>3406</td>\n",
       "    </tr>\n",
       "  </tbody>\n",
       "</table>\n",
       "</div>"
      ],
      "text/plain": [
       "   quantile  value  n_annotators\n",
       "0       0.1  -0.67           350\n",
       "1       0.2  -0.45           686\n",
       "2       0.3  -0.29          1023\n",
       "3       0.4  -0.15          1388\n",
       "4       0.5  -0.01          1712\n",
       "5       0.6   0.12          2048\n",
       "6       0.7   0.28          2410\n",
       "7       0.8   0.45          2753\n",
       "8       0.9   0.64          3067\n",
       "9       1.0   1.08          3406"
      ]
     },
     "execution_count": 25,
     "metadata": {},
     "output_type": "execute_result"
    }
   ],
   "source": [
    "annotator_severity_quantiles = (\n",
    "    annotator_severity['annotator_severity']\n",
    "    .quantile(q=np.arange(0.1, 1.1, 0.1))\n",
    "    .reset_index()\n",
    "    .rename(columns={'index': 'quantile', 'annotator_severity': 'value'})\n",
    ")\n",
    "\n",
    "annotator_severity_quantiles['n_annotators'] = annotator_severity_quantiles['value'].apply(\n",
    "    lambda v: (annotator_severity['annotator_severity'] <= v).sum()\n",
    ")\n",
    "\n",
    "annotator_severity_quantiles"
   ]
  },
  {
   "cell_type": "code",
   "execution_count": 26,
   "metadata": {},
   "outputs": [
    {
     "data": {
      "image/png": "[encoded data removed]",
      "text/plain": [
       "<Figure size 1400x600 with 1 Axes>"
      ]
     },
     "metadata": {},
     "output_type": "display_data"
    },
    {
     "data": {
      "image/png": "[encoded data removed]",
      "text/plain": [
       "<Figure size 1400x600 with 1 Axes>"
      ]
     },
     "metadata": {},
     "output_type": "display_data"
    }
   ],
   "source": [
    "fig = plt.figure(figsize=(14, 6))\n",
    "\n",
    "seaborn.histplot(\n",
    "    x=annotator_severity['annotator_severity'],\n",
    "    stat='density'\n",
    ")\n",
    "\n",
    "\n",
    "fig = plt.figure(figsize=(14, 6))\n",
    "\n",
    "seaborn.ecdfplot(\n",
    "    x=annotator_severity['annotator_severity'],\n",
    "    stat='count'\n",
    ")\n",
    "\n",
    "for q, value in annotator_severity['annotator_severity'].quantile(q=np.arange(0.1, 1.1, 0.1)).items():\n",
    "    plt.axvline(\n",
    "        x=value,\n",
    "        color='r'\n",
    "    )"
   ]
  },
  {
   "cell_type": "markdown",
   "metadata": {},
   "source": [
    "## Extreme Annotators (same definition used for the Kumar data)"
   ]
  },
  {
   "cell_type": "markdown",
   "metadata": {},
   "source": [
    "**Problem:** using the same definition as for the Kumar data, no extreme annotators are found in the MHS dataset. Criteria can be relaxed (see below for stats if doing this). As an alternative, we can define extreme annotators as a **top** quantile in annotator severity."
   ]
  },
  {
   "cell_type": "code",
   "execution_count": 29,
   "metadata": {},
   "outputs": [
    {
     "data": {
      "text/html": [
       "<div>\n",
       "<style scoped>\n",
       "    .dataframe tbody tr th:only-of-type {\n",
       "        vertical-align: middle;\n",
       "    }\n",
       "\n",
       "    .dataframe tbody tr th {\n",
       "        vertical-align: top;\n",
       "    }\n",
       "\n",
       "    .dataframe thead th {\n",
       "        text-align: right;\n",
       "    }\n",
       "</style>\n",
       "<table border=\"1\" class=\"dataframe\">\n",
       "  <thead>\n",
       "    <tr style=\"text-align: right;\">\n",
       "      <th></th>\n",
       "      <th>annotator_id</th>\n",
       "      <th>n_annotated_texts</th>\n",
       "      <th>annotator_severity</th>\n",
       "      <th>mean_deviation</th>\n",
       "      <th>percent_lower_50</th>\n",
       "      <th>percent_lower_40</th>\n",
       "      <th>percent_lower_30</th>\n",
       "      <th>percent_lower_20</th>\n",
       "      <th>annotator_severity_quantile</th>\n",
       "      <th>percent_lower</th>\n",
       "      <th>...</th>\n",
       "      <th>extreme_annotator_dev_30_frac_20</th>\n",
       "      <th>extreme_annotator_dev_30_frac_30</th>\n",
       "      <th>extreme_annotator_dev_30_frac_40</th>\n",
       "      <th>extreme_annotator_dev_30_frac_50</th>\n",
       "      <th>extreme_annotator_dev_20_frac_10</th>\n",
       "      <th>extreme_annotator_dev_20_frac_20</th>\n",
       "      <th>extreme_annotator_dev_20_frac_30</th>\n",
       "      <th>extreme_annotator_dev_20_frac_40</th>\n",
       "      <th>extreme_annotator_dev_20_frac_50</th>\n",
       "      <th>extreme_annotator</th>\n",
       "    </tr>\n",
       "  </thead>\n",
       "  <tbody>\n",
       "    <tr>\n",
       "      <th>0</th>\n",
       "      <td>1</td>\n",
       "      <td>14</td>\n",
       "      <td>-0.16</td>\n",
       "      <td>0.031793</td>\n",
       "      <td>7.142857</td>\n",
       "      <td>7.142857</td>\n",
       "      <td>14.285714</td>\n",
       "      <td>14.285714</td>\n",
       "      <td>0.399295</td>\n",
       "      <td>7.142857</td>\n",
       "      <td>...</td>\n",
       "      <td>False</td>\n",
       "      <td>False</td>\n",
       "      <td>False</td>\n",
       "      <td>False</td>\n",
       "      <td>True</td>\n",
       "      <td>False</td>\n",
       "      <td>False</td>\n",
       "      <td>False</td>\n",
       "      <td>False</td>\n",
       "      <td>False</td>\n",
       "    </tr>\n",
       "    <tr>\n",
       "      <th>1</th>\n",
       "      <td>4</td>\n",
       "      <td>12</td>\n",
       "      <td>-0.26</td>\n",
       "      <td>-0.005149</td>\n",
       "      <td>0.000000</td>\n",
       "      <td>0.000000</td>\n",
       "      <td>0.000000</td>\n",
       "      <td>16.666667</td>\n",
       "      <td>0.325602</td>\n",
       "      <td>0.000000</td>\n",
       "      <td>...</td>\n",
       "      <td>False</td>\n",
       "      <td>False</td>\n",
       "      <td>False</td>\n",
       "      <td>False</td>\n",
       "      <td>True</td>\n",
       "      <td>False</td>\n",
       "      <td>False</td>\n",
       "      <td>False</td>\n",
       "      <td>False</td>\n",
       "      <td>False</td>\n",
       "    </tr>\n",
       "    <tr>\n",
       "      <th>2</th>\n",
       "      <td>9</td>\n",
       "      <td>11</td>\n",
       "      <td>1.01</td>\n",
       "      <td>0.029017</td>\n",
       "      <td>0.000000</td>\n",
       "      <td>0.000000</td>\n",
       "      <td>0.000000</td>\n",
       "      <td>0.000000</td>\n",
       "      <td>0.998532</td>\n",
       "      <td>0.000000</td>\n",
       "      <td>...</td>\n",
       "      <td>False</td>\n",
       "      <td>False</td>\n",
       "      <td>False</td>\n",
       "      <td>False</td>\n",
       "      <td>False</td>\n",
       "      <td>False</td>\n",
       "      <td>False</td>\n",
       "      <td>False</td>\n",
       "      <td>False</td>\n",
       "      <td>False</td>\n",
       "    </tr>\n",
       "    <tr>\n",
       "      <th>3</th>\n",
       "      <td>12</td>\n",
       "      <td>13</td>\n",
       "      <td>0.05</td>\n",
       "      <td>0.030701</td>\n",
       "      <td>0.000000</td>\n",
       "      <td>0.000000</td>\n",
       "      <td>0.000000</td>\n",
       "      <td>7.692308</td>\n",
       "      <td>0.545508</td>\n",
       "      <td>0.000000</td>\n",
       "      <td>...</td>\n",
       "      <td>False</td>\n",
       "      <td>False</td>\n",
       "      <td>False</td>\n",
       "      <td>False</td>\n",
       "      <td>False</td>\n",
       "      <td>False</td>\n",
       "      <td>False</td>\n",
       "      <td>False</td>\n",
       "      <td>False</td>\n",
       "      <td>False</td>\n",
       "    </tr>\n",
       "    <tr>\n",
       "      <th>4</th>\n",
       "      <td>14</td>\n",
       "      <td>14</td>\n",
       "      <td>0.74</td>\n",
       "      <td>-0.060843</td>\n",
       "      <td>7.142857</td>\n",
       "      <td>7.142857</td>\n",
       "      <td>21.428571</td>\n",
       "      <td>28.571429</td>\n",
       "      <td>0.935408</td>\n",
       "      <td>7.142857</td>\n",
       "      <td>...</td>\n",
       "      <td>True</td>\n",
       "      <td>False</td>\n",
       "      <td>False</td>\n",
       "      <td>False</td>\n",
       "      <td>True</td>\n",
       "      <td>True</td>\n",
       "      <td>False</td>\n",
       "      <td>False</td>\n",
       "      <td>False</td>\n",
       "      <td>False</td>\n",
       "    </tr>\n",
       "    <tr>\n",
       "      <th>...</th>\n",
       "      <td>...</td>\n",
       "      <td>...</td>\n",
       "      <td>...</td>\n",
       "      <td>...</td>\n",
       "      <td>...</td>\n",
       "      <td>...</td>\n",
       "      <td>...</td>\n",
       "      <td>...</td>\n",
       "      <td>...</td>\n",
       "      <td>...</td>\n",
       "      <td>...</td>\n",
       "      <td>...</td>\n",
       "      <td>...</td>\n",
       "      <td>...</td>\n",
       "      <td>...</td>\n",
       "      <td>...</td>\n",
       "      <td>...</td>\n",
       "      <td>...</td>\n",
       "      <td>...</td>\n",
       "      <td>...</td>\n",
       "      <td>...</td>\n",
       "    </tr>\n",
       "    <tr>\n",
       "      <th>3401</th>\n",
       "      <td>11134</td>\n",
       "      <td>10</td>\n",
       "      <td>-0.89</td>\n",
       "      <td>0.176266</td>\n",
       "      <td>0.000000</td>\n",
       "      <td>0.000000</td>\n",
       "      <td>0.000000</td>\n",
       "      <td>0.000000</td>\n",
       "      <td>0.028479</td>\n",
       "      <td>0.000000</td>\n",
       "      <td>...</td>\n",
       "      <td>False</td>\n",
       "      <td>False</td>\n",
       "      <td>False</td>\n",
       "      <td>False</td>\n",
       "      <td>False</td>\n",
       "      <td>False</td>\n",
       "      <td>False</td>\n",
       "      <td>False</td>\n",
       "      <td>False</td>\n",
       "      <td>False</td>\n",
       "    </tr>\n",
       "    <tr>\n",
       "      <th>3402</th>\n",
       "      <td>11138</td>\n",
       "      <td>11</td>\n",
       "      <td>0.69</td>\n",
       "      <td>-0.118497</td>\n",
       "      <td>9.090909</td>\n",
       "      <td>9.090909</td>\n",
       "      <td>27.272727</td>\n",
       "      <td>27.272727</td>\n",
       "      <td>0.917499</td>\n",
       "      <td>9.090909</td>\n",
       "      <td>...</td>\n",
       "      <td>True</td>\n",
       "      <td>False</td>\n",
       "      <td>False</td>\n",
       "      <td>False</td>\n",
       "      <td>True</td>\n",
       "      <td>True</td>\n",
       "      <td>False</td>\n",
       "      <td>False</td>\n",
       "      <td>False</td>\n",
       "      <td>False</td>\n",
       "    </tr>\n",
       "    <tr>\n",
       "      <th>3403</th>\n",
       "      <td>11139</td>\n",
       "      <td>12</td>\n",
       "      <td>-0.63</td>\n",
       "      <td>-0.026626</td>\n",
       "      <td>8.333333</td>\n",
       "      <td>8.333333</td>\n",
       "      <td>16.666667</td>\n",
       "      <td>16.666667</td>\n",
       "      <td>0.115678</td>\n",
       "      <td>8.333333</td>\n",
       "      <td>...</td>\n",
       "      <td>False</td>\n",
       "      <td>False</td>\n",
       "      <td>False</td>\n",
       "      <td>False</td>\n",
       "      <td>True</td>\n",
       "      <td>False</td>\n",
       "      <td>False</td>\n",
       "      <td>False</td>\n",
       "      <td>False</td>\n",
       "      <td>False</td>\n",
       "    </tr>\n",
       "    <tr>\n",
       "      <th>3404</th>\n",
       "      <td>11141</td>\n",
       "      <td>16</td>\n",
       "      <td>-0.20</td>\n",
       "      <td>-0.013026</td>\n",
       "      <td>6.250000</td>\n",
       "      <td>6.250000</td>\n",
       "      <td>6.250000</td>\n",
       "      <td>6.250000</td>\n",
       "      <td>0.371991</td>\n",
       "      <td>6.250000</td>\n",
       "      <td>...</td>\n",
       "      <td>False</td>\n",
       "      <td>False</td>\n",
       "      <td>False</td>\n",
       "      <td>False</td>\n",
       "      <td>False</td>\n",
       "      <td>False</td>\n",
       "      <td>False</td>\n",
       "      <td>False</td>\n",
       "      <td>False</td>\n",
       "      <td>False</td>\n",
       "    </tr>\n",
       "    <tr>\n",
       "      <th>3405</th>\n",
       "      <td>11142</td>\n",
       "      <td>11</td>\n",
       "      <td>0.60</td>\n",
       "      <td>0.023699</td>\n",
       "      <td>0.000000</td>\n",
       "      <td>0.000000</td>\n",
       "      <td>9.090909</td>\n",
       "      <td>9.090909</td>\n",
       "      <td>0.887551</td>\n",
       "      <td>0.000000</td>\n",
       "      <td>...</td>\n",
       "      <td>False</td>\n",
       "      <td>False</td>\n",
       "      <td>False</td>\n",
       "      <td>False</td>\n",
       "      <td>False</td>\n",
       "      <td>False</td>\n",
       "      <td>False</td>\n",
       "      <td>False</td>\n",
       "      <td>False</td>\n",
       "      <td>False</td>\n",
       "    </tr>\n",
       "  </tbody>\n",
       "</table>\n",
       "<p>3406 rows × 31 columns</p>\n",
       "</div>"
      ],
      "text/plain": [
       "      annotator_id  n_annotated_texts  annotator_severity  mean_deviation  \\\n",
       "0                1                 14               -0.16        0.031793   \n",
       "1                4                 12               -0.26       -0.005149   \n",
       "2                9                 11                1.01        0.029017   \n",
       "3               12                 13                0.05        0.030701   \n",
       "4               14                 14                0.74       -0.060843   \n",
       "...            ...                ...                 ...             ...   \n",
       "3401         11134                 10               -0.89        0.176266   \n",
       "3402         11138                 11                0.69       -0.118497   \n",
       "3403         11139                 12               -0.63       -0.026626   \n",
       "3404         11141                 16               -0.20       -0.013026   \n",
       "3405         11142                 11                0.60        0.023699   \n",
       "\n",
       "      percent_lower_50  percent_lower_40  percent_lower_30  percent_lower_20  \\\n",
       "0             7.142857          7.142857         14.285714         14.285714   \n",
       "1             0.000000          0.000000          0.000000         16.666667   \n",
       "2             0.000000          0.000000          0.000000          0.000000   \n",
       "3             0.000000          0.000000          0.000000          7.692308   \n",
       "4             7.142857          7.142857         21.428571         28.571429   \n",
       "...                ...               ...               ...               ...   \n",
       "3401          0.000000          0.000000          0.000000          0.000000   \n",
       "3402          9.090909          9.090909         27.272727         27.272727   \n",
       "3403          8.333333          8.333333         16.666667         16.666667   \n",
       "3404          6.250000          6.250000          6.250000          6.250000   \n",
       "3405          0.000000          0.000000          9.090909          9.090909   \n",
       "\n",
       "      annotator_severity_quantile  percent_lower  ...  \\\n",
       "0                        0.399295       7.142857  ...   \n",
       "1                        0.325602       0.000000  ...   \n",
       "2                        0.998532       0.000000  ...   \n",
       "3                        0.545508       0.000000  ...   \n",
       "4                        0.935408       7.142857  ...   \n",
       "...                           ...            ...  ...   \n",
       "3401                     0.028479       0.000000  ...   \n",
       "3402                     0.917499       9.090909  ...   \n",
       "3403                     0.115678       8.333333  ...   \n",
       "3404                     0.371991       6.250000  ...   \n",
       "3405                     0.887551       0.000000  ...   \n",
       "\n",
       "      extreme_annotator_dev_30_frac_20  extreme_annotator_dev_30_frac_30  \\\n",
       "0                                False                             False   \n",
       "1                                False                             False   \n",
       "2                                False                             False   \n",
       "3                                False                             False   \n",
       "4                                 True                             False   \n",
       "...                                ...                               ...   \n",
       "3401                             False                             False   \n",
       "3402                              True                             False   \n",
       "3403                             False                             False   \n",
       "3404                             False                             False   \n",
       "3405                             False                             False   \n",
       "\n",
       "      extreme_annotator_dev_30_frac_40  extreme_annotator_dev_30_frac_50  \\\n",
       "0                                False                             False   \n",
       "1                                False                             False   \n",
       "2                                False                             False   \n",
       "3                                False                             False   \n",
       "4                                False                             False   \n",
       "...                                ...                               ...   \n",
       "3401                             False                             False   \n",
       "3402                             False                             False   \n",
       "3403                             False                             False   \n",
       "3404                             False                             False   \n",
       "3405                             False                             False   \n",
       "\n",
       "      extreme_annotator_dev_20_frac_10  extreme_annotator_dev_20_frac_20  \\\n",
       "0                                 True                             False   \n",
       "1                                 True                             False   \n",
       "2                                False                             False   \n",
       "3                                False                             False   \n",
       "4                                 True                              True   \n",
       "...                                ...                               ...   \n",
       "3401                             False                             False   \n",
       "3402                              True                              True   \n",
       "3403                              True                             False   \n",
       "3404                             False                             False   \n",
       "3405                             False                             False   \n",
       "\n",
       "      extreme_annotator_dev_20_frac_30  extreme_annotator_dev_20_frac_40  \\\n",
       "0                                False                             False   \n",
       "1                                False                             False   \n",
       "2                                False                             False   \n",
       "3                                False                             False   \n",
       "4                                False                             False   \n",
       "...                                ...                               ...   \n",
       "3401                             False                             False   \n",
       "3402                             False                             False   \n",
       "3403                             False                             False   \n",
       "3404                             False                             False   \n",
       "3405                             False                             False   \n",
       "\n",
       "      extreme_annotator_dev_20_frac_50  extreme_annotator  \n",
       "0                                False              False  \n",
       "1                                False              False  \n",
       "2                                False              False  \n",
       "3                                False              False  \n",
       "4                                False              False  \n",
       "...                                ...                ...  \n",
       "3401                             False              False  \n",
       "3402                             False              False  \n",
       "3403                             False              False  \n",
       "3404                             False              False  \n",
       "3405                             False              False  \n",
       "\n",
       "[3406 rows x 31 columns]"
      ]
     },
     "execution_count": 29,
     "metadata": {},
     "output_type": "execute_result"
    }
   ],
   "source": [
    "annotators_data = pd.merge(\n",
    "    left=target,\n",
    "    right=(\n",
    "        target\n",
    "        .groupby('text_id')['toxic_score']\n",
    "        .mean()\n",
    "        .reset_index()\n",
    "        .rename(columns={'toxic_score': 'mean_toxic_score_text'})\n",
    "    ),\n",
    "    on='text_id',\n",
    "    how='left'\n",
    ")\n",
    "\n",
    "annotators_data['toxic_score_deviation'] = annotators_data['toxic_score'] - annotators_data['mean_toxic_score_text']\n",
    "\n",
    "annotators_data = annotators_data.groupby('annotator_id').agg(\n",
    "    n_annotated_texts=pd.NamedAgg('text_id', 'nunique'),\n",
    "    annotator_severity=pd.NamedAgg('annotator_severity', 'first'),\n",
    "    mean_deviation=pd.NamedAgg('toxic_score_deviation', 'mean'),\n",
    "    percent_lower_50=pd.NamedAgg('toxic_score_deviation', lambda deviations: np.mean(deviations < -0.5) * 100.),\n",
    "    percent_lower_40=pd.NamedAgg('toxic_score_deviation', lambda deviations: np.mean(deviations < -0.4) * 100.),\n",
    "    percent_lower_30=pd.NamedAgg('toxic_score_deviation', lambda deviations: np.mean(deviations < -0.3) * 100.),\n",
    "    percent_lower_20=pd.NamedAgg('toxic_score_deviation', lambda deviations: np.mean(deviations < -0.2) * 100.)\n",
    ").reset_index()\n",
    "\n",
    "annotators_data['annotator_severity_quantile'] = annotators_data['annotator_severity'].apply(\n",
    "    lambda v: (annotators_data['annotator_severity'] <= v).sum() / len(annotators_data)\n",
    ")\n",
    "\n",
    "annotators_data['percent_lower'] = annotators_data['percent_lower_50']\n",
    "\n",
    "for deviation_threshold in [50, 40, 30, 20]:\n",
    "    for frac_threshold in np.arange(10, 51, 10):\n",
    "        annotators_data[f'extreme_annotator_dev_{deviation_threshold}_frac_{frac_threshold}'] = annotators_data[f'percent_lower_{deviation_threshold}'] > frac_threshold\n",
    "\n",
    "annotators_data['extreme_annotator'] = annotators_data[f'extreme_annotator_dev_50_frac_50']\n",
    "\n",
    "annotators_data"
   ]
  },
  {
   "cell_type": "code",
   "execution_count": 29,
   "metadata": {},
   "outputs": [
    {
     "data": {
      "text/html": [
       "<div>\n",
       "<style scoped>\n",
       "    .dataframe tbody tr th:only-of-type {\n",
       "        vertical-align: middle;\n",
       "    }\n",
       "\n",
       "    .dataframe tbody tr th {\n",
       "        vertical-align: top;\n",
       "    }\n",
       "\n",
       "    .dataframe thead th {\n",
       "        text-align: right;\n",
       "    }\n",
       "</style>\n",
       "<table border=\"1\" class=\"dataframe\">\n",
       "  <thead>\n",
       "    <tr style=\"text-align: right;\">\n",
       "      <th></th>\n",
       "      <th>text_id</th>\n",
       "      <th>annotator_id</th>\n",
       "      <th>toxic_score</th>\n",
       "      <th>text</th>\n",
       "      <th>annotator_severity</th>\n",
       "    </tr>\n",
       "  </thead>\n",
       "  <tbody>\n",
       "    <tr>\n",
       "      <th>12</th>\n",
       "      <td>20583</td>\n",
       "      <td>7259</td>\n",
       "      <td>0</td>\n",
       "      <td>@terryelaineh1 @UKLabour Why do 3.8 million #5...</td>\n",
       "      <td>0.52</td>\n",
       "    </tr>\n",
       "    <tr>\n",
       "      <th>15</th>\n",
       "      <td>23016</td>\n",
       "      <td>10173</td>\n",
       "      <td>0</td>\n",
       "      <td>Ladies buy a gun learn how to use it effective...</td>\n",
       "      <td>0.00</td>\n",
       "    </tr>\n",
       "    <tr>\n",
       "      <th>29</th>\n",
       "      <td>5410</td>\n",
       "      <td>123</td>\n",
       "      <td>0</td>\n",
       "      <td>Them - DON'T YOU DARE OBJECTIFY US!! ​ Also th...</td>\n",
       "      <td>0.04</td>\n",
       "    </tr>\n",
       "    <tr>\n",
       "      <th>49</th>\n",
       "      <td>5611</td>\n",
       "      <td>6998</td>\n",
       "      <td>0</td>\n",
       "      <td>Well this explains all the Muslim people I saw...</td>\n",
       "      <td>-0.16</td>\n",
       "    </tr>\n",
       "    <tr>\n",
       "      <th>82</th>\n",
       "      <td>34714</td>\n",
       "      <td>10256</td>\n",
       "      <td>0</td>\n",
       "      <td>Deep down in my inner demonic soul. I feel lik...</td>\n",
       "      <td>1.00</td>\n",
       "    </tr>\n",
       "    <tr>\n",
       "      <th>...</th>\n",
       "      <td>...</td>\n",
       "      <td>...</td>\n",
       "      <td>...</td>\n",
       "      <td>...</td>\n",
       "      <td>...</td>\n",
       "    </tr>\n",
       "    <tr>\n",
       "      <th>135490</th>\n",
       "      <td>20066</td>\n",
       "      <td>10712</td>\n",
       "      <td>0</td>\n",
       "      <td>NUGS lauds Ghanaian Muslims for their immense ...</td>\n",
       "      <td>-0.55</td>\n",
       "    </tr>\n",
       "    <tr>\n",
       "      <th>135504</th>\n",
       "      <td>20061</td>\n",
       "      <td>7224</td>\n",
       "      <td>0</td>\n",
       "      <td>I, a Catholic and a Jesuit, am grateful for th...</td>\n",
       "      <td>0.13</td>\n",
       "    </tr>\n",
       "    <tr>\n",
       "      <th>135511</th>\n",
       "      <td>20069</td>\n",
       "      <td>3572</td>\n",
       "      <td>0</td>\n",
       "      <td>Trans rights are human rights</td>\n",
       "      <td>0.03</td>\n",
       "    </tr>\n",
       "    <tr>\n",
       "      <th>135522</th>\n",
       "      <td>20065</td>\n",
       "      <td>7457</td>\n",
       "      <td>0</td>\n",
       "      <td>Notwithstanding Marriyum Aurangzeb sahiba's po...</td>\n",
       "      <td>0.32</td>\n",
       "    </tr>\n",
       "    <tr>\n",
       "      <th>135537</th>\n",
       "      <td>20060</td>\n",
       "      <td>611</td>\n",
       "      <td>0</td>\n",
       "      <td>I love that you enjoy being trans.</td>\n",
       "      <td>-0.18</td>\n",
       "    </tr>\n",
       "  </tbody>\n",
       "</table>\n",
       "<p>10925 rows × 5 columns</p>\n",
       "</div>"
      ],
      "text/plain": [
       "        text_id  annotator_id  toxic_score  \\\n",
       "12        20583          7259            0   \n",
       "15        23016         10173            0   \n",
       "29         5410           123            0   \n",
       "49         5611          6998            0   \n",
       "82        34714         10256            0   \n",
       "...         ...           ...          ...   \n",
       "135490    20066         10712            0   \n",
       "135504    20061          7224            0   \n",
       "135511    20069          3572            0   \n",
       "135522    20065          7457            0   \n",
       "135537    20060           611            0   \n",
       "\n",
       "                                                     text  annotator_severity  \n",
       "12      @terryelaineh1 @UKLabour Why do 3.8 million #5...                0.52  \n",
       "15      Ladies buy a gun learn how to use it effective...                0.00  \n",
       "29      Them - DON'T YOU DARE OBJECTIFY US!! ​ Also th...                0.04  \n",
       "49      Well this explains all the Muslim people I saw...               -0.16  \n",
       "82      Deep down in my inner demonic soul. I feel lik...                1.00  \n",
       "...                                                   ...                 ...  \n",
       "135490  NUGS lauds Ghanaian Muslims for their immense ...               -0.55  \n",
       "135504  I, a Catholic and a Jesuit, am grateful for th...                0.13  \n",
       "135511                      Trans rights are human rights                0.03  \n",
       "135522  Notwithstanding Marriyum Aurangzeb sahiba's po...                0.32  \n",
       "135537                 I love that you enjoy being trans.               -0.18  \n",
       "\n",
       "[10925 rows x 5 columns]"
      ]
     },
     "execution_count": 29,
     "metadata": {},
     "output_type": "execute_result"
    }
   ],
   "source": [
    "# target = pd.merge(\n",
    "#     left=target,\n",
    "#     right=annotators_data[['annotator_id', 'extreme_annotator']],\n",
    "#     how='left',\n",
    "#     on='annotator_id'\n",
    "# )\n",
    "# target = pd.merge(\n",
    "#     left=target,\n",
    "#     right=annotators_data[['annotator_id'] + [c for c in annotators_data.columns if 'extreme_annotator' in c]],\n",
    "#     how='left',\n",
    "#     on='annotator_id'\n",
    "# )\n",
    "\n",
    "target"
   ]
  },
  {
   "cell_type": "code",
   "execution_count": 102,
   "metadata": {},
   "outputs": [],
   "source": [
    "# text_avg_scores = target.groupby('text_id')['toxic_score'].mean()\n",
    "# target['text_avg_score'] = target['text_id'].apply(lambda t: text_avg_scores[t])\n",
    "\n",
    "# # TODO is it < -0.5 or <= -0.5 ?\n",
    "# target['extreme_annotator_original'] = target.apply(lambda row: (row['toxic_score'] - row['text_avg_score']) < -0.5 , axis=1).astype(int)\n",
    "\n",
    "# (target.groupby('annotator_id')['extreme_annotator_original'].mean() >= 0.5).any()"
   ]
  },
  {
   "cell_type": "code",
   "execution_count": 28,
   "metadata": {},
   "outputs": [
    {
     "data": {
      "text/plain": [
       "np.int64(0)"
      ]
     },
     "execution_count": 28,
     "metadata": {},
     "output_type": "execute_result"
    }
   ],
   "source": [
    "annotators_data['extreme_annotator'].sum()"
   ]
  },
  {
   "cell_type": "code",
   "execution_count": 29,
   "metadata": {},
   "outputs": [
    {
     "ename": "KeyError",
     "evalue": "'extreme_annotator'",
     "output_type": "error",
     "traceback": [
      "\u001b[0;31m---------------------------------------------------------------------------\u001b[0m",
      "\u001b[0;31mKeyError\u001b[0m                                  Traceback (most recent call last)",
      "File \u001b[0;32m~/miniconda3/envs/phb/lib/python3.11/site-packages/pandas/core/indexes/base.py:3805\u001b[0m, in \u001b[0;36mIndex.get_loc\u001b[0;34m(self, key)\u001b[0m\n\u001b[1;32m   3804\u001b[0m \u001b[38;5;28;01mtry\u001b[39;00m:\n\u001b[0;32m-> 3805\u001b[0m     \u001b[38;5;28;01mreturn\u001b[39;00m \u001b[38;5;28;43mself\u001b[39;49m\u001b[38;5;241;43m.\u001b[39;49m\u001b[43m_engine\u001b[49m\u001b[38;5;241;43m.\u001b[39;49m\u001b[43mget_loc\u001b[49m\u001b[43m(\u001b[49m\u001b[43mcasted_key\u001b[49m\u001b[43m)\u001b[49m\n\u001b[1;32m   3806\u001b[0m \u001b[38;5;28;01mexcept\u001b[39;00m \u001b[38;5;167;01mKeyError\u001b[39;00m \u001b[38;5;28;01mas\u001b[39;00m err:\n",
      "File \u001b[0;32mindex.pyx:167\u001b[0m, in \u001b[0;36mpandas._libs.index.IndexEngine.get_loc\u001b[0;34m()\u001b[0m\n",
      "File \u001b[0;32mindex.pyx:196\u001b[0m, in \u001b[0;36mpandas._libs.index.IndexEngine.get_loc\u001b[0;34m()\u001b[0m\n",
      "File \u001b[0;32mpandas/_libs/hashtable_class_helper.pxi:7081\u001b[0m, in \u001b[0;36mpandas._libs.hashtable.PyObjectHashTable.get_item\u001b[0;34m()\u001b[0m\n",
      "File \u001b[0;32mpandas/_libs/hashtable_class_helper.pxi:7089\u001b[0m, in \u001b[0;36mpandas._libs.hashtable.PyObjectHashTable.get_item\u001b[0;34m()\u001b[0m\n",
      "\u001b[0;31mKeyError\u001b[0m: 'extreme_annotator'",
      "\nThe above exception was the direct cause of the following exception:\n",
      "\u001b[0;31mKeyError\u001b[0m                                  Traceback (most recent call last)",
      "Cell \u001b[0;32mIn[29], line 1\u001b[0m\n\u001b[0;32m----> 1\u001b[0m \u001b[43mtarget\u001b[49m\u001b[43m[\u001b[49m\u001b[38;5;124;43m'\u001b[39;49m\u001b[38;5;124;43mextreme_annotator\u001b[39;49m\u001b[38;5;124;43m'\u001b[39;49m\u001b[43m]\u001b[49m\u001b[38;5;241m.\u001b[39mvalue_counts()\n",
      "File \u001b[0;32m~/miniconda3/envs/phb/lib/python3.11/site-packages/pandas/core/frame.py:4102\u001b[0m, in \u001b[0;36mDataFrame.__getitem__\u001b[0;34m(self, key)\u001b[0m\n\u001b[1;32m   4100\u001b[0m \u001b[38;5;28;01mif\u001b[39;00m \u001b[38;5;28mself\u001b[39m\u001b[38;5;241m.\u001b[39mcolumns\u001b[38;5;241m.\u001b[39mnlevels \u001b[38;5;241m>\u001b[39m \u001b[38;5;241m1\u001b[39m:\n\u001b[1;32m   4101\u001b[0m     \u001b[38;5;28;01mreturn\u001b[39;00m \u001b[38;5;28mself\u001b[39m\u001b[38;5;241m.\u001b[39m_getitem_multilevel(key)\n\u001b[0;32m-> 4102\u001b[0m indexer \u001b[38;5;241m=\u001b[39m \u001b[38;5;28;43mself\u001b[39;49m\u001b[38;5;241;43m.\u001b[39;49m\u001b[43mcolumns\u001b[49m\u001b[38;5;241;43m.\u001b[39;49m\u001b[43mget_loc\u001b[49m\u001b[43m(\u001b[49m\u001b[43mkey\u001b[49m\u001b[43m)\u001b[49m\n\u001b[1;32m   4103\u001b[0m \u001b[38;5;28;01mif\u001b[39;00m is_integer(indexer):\n\u001b[1;32m   4104\u001b[0m     indexer \u001b[38;5;241m=\u001b[39m [indexer]\n",
      "File \u001b[0;32m~/miniconda3/envs/phb/lib/python3.11/site-packages/pandas/core/indexes/base.py:3812\u001b[0m, in \u001b[0;36mIndex.get_loc\u001b[0;34m(self, key)\u001b[0m\n\u001b[1;32m   3807\u001b[0m     \u001b[38;5;28;01mif\u001b[39;00m \u001b[38;5;28misinstance\u001b[39m(casted_key, \u001b[38;5;28mslice\u001b[39m) \u001b[38;5;129;01mor\u001b[39;00m (\n\u001b[1;32m   3808\u001b[0m         \u001b[38;5;28misinstance\u001b[39m(casted_key, abc\u001b[38;5;241m.\u001b[39mIterable)\n\u001b[1;32m   3809\u001b[0m         \u001b[38;5;129;01mand\u001b[39;00m \u001b[38;5;28many\u001b[39m(\u001b[38;5;28misinstance\u001b[39m(x, \u001b[38;5;28mslice\u001b[39m) \u001b[38;5;28;01mfor\u001b[39;00m x \u001b[38;5;129;01min\u001b[39;00m casted_key)\n\u001b[1;32m   3810\u001b[0m     ):\n\u001b[1;32m   3811\u001b[0m         \u001b[38;5;28;01mraise\u001b[39;00m InvalidIndexError(key)\n\u001b[0;32m-> 3812\u001b[0m     \u001b[38;5;28;01mraise\u001b[39;00m \u001b[38;5;167;01mKeyError\u001b[39;00m(key) \u001b[38;5;28;01mfrom\u001b[39;00m \u001b[38;5;21;01merr\u001b[39;00m\n\u001b[1;32m   3813\u001b[0m \u001b[38;5;28;01mexcept\u001b[39;00m \u001b[38;5;167;01mTypeError\u001b[39;00m:\n\u001b[1;32m   3814\u001b[0m     \u001b[38;5;66;03m# If we have a listlike key, _check_indexing_error will raise\u001b[39;00m\n\u001b[1;32m   3815\u001b[0m     \u001b[38;5;66;03m#  InvalidIndexError. Otherwise we fall through and re-raise\u001b[39;00m\n\u001b[1;32m   3816\u001b[0m     \u001b[38;5;66;03m#  the TypeError.\u001b[39;00m\n\u001b[1;32m   3817\u001b[0m     \u001b[38;5;28mself\u001b[39m\u001b[38;5;241m.\u001b[39m_check_indexing_error(key)\n",
      "\u001b[0;31mKeyError\u001b[0m: 'extreme_annotator'"
     ]
    }
   ],
   "source": [
    "target['extreme_annotator'].value_counts()"
   ]
  },
  {
   "cell_type": "code",
   "execution_count": null,
   "metadata": {},
   "outputs": [],
   "source": [
    "target.groupby('annotator_id')['extreme_annotator'].first().value_counts()"
   ]
  },
  {
   "cell_type": "markdown",
   "metadata": {},
   "source": [
    "### Extreme annotators VS threshold for fraction of toxic score deviations"
   ]
  },
  {
   "cell_type": "code",
   "execution_count": 30,
   "metadata": {},
   "outputs": [
    {
     "data": {
      "text/plain": [
       "Text(0, 0.5, 'Fraction of extreme annotators')"
      ]
     },
     "execution_count": 30,
     "metadata": {},
     "output_type": "execute_result"
    },
    {
     "data": {
      "image/png": "[encoded data removed]",
      "text/plain": [
       "<Figure size 1400x600 with 1 Axes>"
      ]
     },
     "metadata": {},
     "output_type": "display_data"
    }
   ],
   "source": [
    "toxic_score_deviations_frac_thresholds = sorted(np.unique([float(c.split('_')[-1]) for c in annotators_data if 'frac' in c]))\n",
    "\n",
    "fig = plt.figure(figsize=(14, 6))\n",
    "\n",
    "for deviation_threshold in [50, 40, 30, 20]:\n",
    "    seaborn.lineplot(\n",
    "        x=toxic_score_deviations_frac_thresholds,\n",
    "        y=[\n",
    "            annotators_data[f'extreme_annotator_dev_{deviation_threshold}_frac_{int(ft)}'].mean()\n",
    "            for ft in toxic_score_deviations_frac_thresholds\n",
    "        ],\n",
    "        marker='.',\n",
    "        markersize=10,\n",
    "        label=f'Deviation threshold {deviation_threshold * 0.01}'\n",
    "    )\n",
    "\n",
    "plt.xlabel('Fraction of annotations below the deviation threshold')\n",
    "plt.ylabel('Fraction of extreme annotators')"
   ]
  },
  {
   "cell_type": "code",
   "execution_count": 31,
   "metadata": {},
   "outputs": [
    {
     "data": {
      "text/plain": [
       "(771, 31)"
      ]
     },
     "execution_count": 31,
     "metadata": {},
     "output_type": "execute_result"
    }
   ],
   "source": [
    "annotators_data.shape"
   ]
  },
  {
   "cell_type": "markdown",
   "metadata": {},
   "source": [
    "### Extreme vs Severity Correlation"
   ]
  },
  {
   "cell_type": "markdown",
   "metadata": {},
   "source": [
    "**Note:** this is valid only for if the definition of extreme annotators is based on deviations (otherwise the analysis is trivial by construction!)."
   ]
  },
  {
   "cell_type": "code",
   "execution_count": null,
   "metadata": {},
   "outputs": [],
   "source": [
    "seaborn.boxplot(\n",
    "    data=target,\n",
    "    y='annotator_severity',\n",
    "    x='extreme_annotator'\n",
    ")"
   ]
  },
  {
   "cell_type": "code",
   "execution_count": null,
   "metadata": {},
   "outputs": [],
   "source": [
    "target[target['extreme_annotator'] == 0]['annotator_severity'].describe()"
   ]
  },
  {
   "cell_type": "code",
   "execution_count": null,
   "metadata": {},
   "outputs": [],
   "source": [
    "target[target['extreme_annotator'] == 1]['annotator_severity'].describe()"
   ]
  },
  {
   "cell_type": "markdown",
   "metadata": {},
   "source": [
    "## Extreme annotators based on the annotator severity quantiles"
   ]
  },
  {
   "cell_type": "markdown",
   "metadata": {},
   "source": [
    "**Idea:** instead of defining extreme annotators based on deviations w.r.t. to the average toxicity scores, define them as the top quantile of annotator severity, assuming that high severity corresponds to some notion of \"extreme\" annotator."
   ]
  },
  {
   "cell_type": "code",
   "execution_count": 27,
   "metadata": {},
   "outputs": [
    {
     "data": {
      "text/html": [
       "<div>\n",
       "<style scoped>\n",
       "    .dataframe tbody tr th:only-of-type {\n",
       "        vertical-align: middle;\n",
       "    }\n",
       "\n",
       "    .dataframe tbody tr th {\n",
       "        vertical-align: top;\n",
       "    }\n",
       "\n",
       "    .dataframe thead th {\n",
       "        text-align: right;\n",
       "    }\n",
       "</style>\n",
       "<table border=\"1\" class=\"dataframe\">\n",
       "  <thead>\n",
       "    <tr style=\"text-align: right;\">\n",
       "      <th></th>\n",
       "      <th>quantile</th>\n",
       "      <th>value</th>\n",
       "      <th>n_annotators</th>\n",
       "      <th>n_top_annotators</th>\n",
       "    </tr>\n",
       "  </thead>\n",
       "  <tbody>\n",
       "    <tr>\n",
       "      <th>0</th>\n",
       "      <td>0.1</td>\n",
       "      <td>-0.67</td>\n",
       "      <td>350</td>\n",
       "      <td>3056</td>\n",
       "    </tr>\n",
       "    <tr>\n",
       "      <th>1</th>\n",
       "      <td>0.2</td>\n",
       "      <td>-0.45</td>\n",
       "      <td>686</td>\n",
       "      <td>2720</td>\n",
       "    </tr>\n",
       "    <tr>\n",
       "      <th>2</th>\n",
       "      <td>0.3</td>\n",
       "      <td>-0.29</td>\n",
       "      <td>1023</td>\n",
       "      <td>2383</td>\n",
       "    </tr>\n",
       "    <tr>\n",
       "      <th>3</th>\n",
       "      <td>0.4</td>\n",
       "      <td>-0.15</td>\n",
       "      <td>1388</td>\n",
       "      <td>2018</td>\n",
       "    </tr>\n",
       "    <tr>\n",
       "      <th>4</th>\n",
       "      <td>0.5</td>\n",
       "      <td>-0.01</td>\n",
       "      <td>1712</td>\n",
       "      <td>1694</td>\n",
       "    </tr>\n",
       "    <tr>\n",
       "      <th>5</th>\n",
       "      <td>0.6</td>\n",
       "      <td>0.12</td>\n",
       "      <td>2048</td>\n",
       "      <td>1358</td>\n",
       "    </tr>\n",
       "    <tr>\n",
       "      <th>6</th>\n",
       "      <td>0.7</td>\n",
       "      <td>0.28</td>\n",
       "      <td>2410</td>\n",
       "      <td>996</td>\n",
       "    </tr>\n",
       "    <tr>\n",
       "      <th>7</th>\n",
       "      <td>0.8</td>\n",
       "      <td>0.45</td>\n",
       "      <td>2753</td>\n",
       "      <td>653</td>\n",
       "    </tr>\n",
       "    <tr>\n",
       "      <th>8</th>\n",
       "      <td>0.9</td>\n",
       "      <td>0.64</td>\n",
       "      <td>3067</td>\n",
       "      <td>339</td>\n",
       "    </tr>\n",
       "    <tr>\n",
       "      <th>9</th>\n",
       "      <td>1.0</td>\n",
       "      <td>1.08</td>\n",
       "      <td>3406</td>\n",
       "      <td>0</td>\n",
       "    </tr>\n",
       "  </tbody>\n",
       "</table>\n",
       "</div>"
      ],
      "text/plain": [
       "   quantile  value  n_annotators  n_top_annotators\n",
       "0       0.1  -0.67           350              3056\n",
       "1       0.2  -0.45           686              2720\n",
       "2       0.3  -0.29          1023              2383\n",
       "3       0.4  -0.15          1388              2018\n",
       "4       0.5  -0.01          1712              1694\n",
       "5       0.6   0.12          2048              1358\n",
       "6       0.7   0.28          2410               996\n",
       "7       0.8   0.45          2753               653\n",
       "8       0.9   0.64          3067               339\n",
       "9       1.0   1.08          3406                 0"
      ]
     },
     "execution_count": 27,
     "metadata": {},
     "output_type": "execute_result"
    }
   ],
   "source": [
    "annotator_severity_quantiles['n_top_annotators'] = len(annotator_severity) - annotator_severity_quantiles['n_annotators']\n",
    "\n",
    "annotator_severity_quantiles"
   ]
  },
  {
   "cell_type": "code",
   "execution_count": 30,
   "metadata": {},
   "outputs": [
    {
     "data": {
      "text/html": [
       "<div>\n",
       "<style scoped>\n",
       "    .dataframe tbody tr th:only-of-type {\n",
       "        vertical-align: middle;\n",
       "    }\n",
       "\n",
       "    .dataframe tbody tr th {\n",
       "        vertical-align: top;\n",
       "    }\n",
       "\n",
       "    .dataframe thead th {\n",
       "        text-align: right;\n",
       "    }\n",
       "</style>\n",
       "<table border=\"1\" class=\"dataframe\">\n",
       "  <thead>\n",
       "    <tr style=\"text-align: right;\">\n",
       "      <th></th>\n",
       "      <th>annotator_id</th>\n",
       "      <th>n_annotated_texts</th>\n",
       "      <th>annotator_severity</th>\n",
       "      <th>mean_deviation</th>\n",
       "      <th>percent_lower_50</th>\n",
       "      <th>percent_lower_40</th>\n",
       "      <th>percent_lower_30</th>\n",
       "      <th>percent_lower_20</th>\n",
       "      <th>annotator_severity_quantile</th>\n",
       "      <th>percent_lower</th>\n",
       "      <th>...</th>\n",
       "      <th>extreme_annotator_dev_30_frac_40</th>\n",
       "      <th>extreme_annotator_dev_30_frac_50</th>\n",
       "      <th>extreme_annotator_dev_20_frac_10</th>\n",
       "      <th>extreme_annotator_dev_20_frac_20</th>\n",
       "      <th>extreme_annotator_dev_20_frac_30</th>\n",
       "      <th>extreme_annotator_dev_20_frac_40</th>\n",
       "      <th>extreme_annotator_dev_20_frac_50</th>\n",
       "      <th>extreme_annotator</th>\n",
       "      <th>extreme_annotator_severity_quantile</th>\n",
       "      <th>extreme_annotator_by_severity_quantile</th>\n",
       "    </tr>\n",
       "  </thead>\n",
       "  <tbody>\n",
       "    <tr>\n",
       "      <th>0</th>\n",
       "      <td>1</td>\n",
       "      <td>14</td>\n",
       "      <td>-0.16</td>\n",
       "      <td>0.031793</td>\n",
       "      <td>7.142857</td>\n",
       "      <td>7.142857</td>\n",
       "      <td>14.285714</td>\n",
       "      <td>14.285714</td>\n",
       "      <td>0.399295</td>\n",
       "      <td>7.142857</td>\n",
       "      <td>...</td>\n",
       "      <td>False</td>\n",
       "      <td>False</td>\n",
       "      <td>True</td>\n",
       "      <td>False</td>\n",
       "      <td>False</td>\n",
       "      <td>False</td>\n",
       "      <td>False</td>\n",
       "      <td>False</td>\n",
       "      <td>0.9</td>\n",
       "      <td>False</td>\n",
       "    </tr>\n",
       "    <tr>\n",
       "      <th>1</th>\n",
       "      <td>4</td>\n",
       "      <td>12</td>\n",
       "      <td>-0.26</td>\n",
       "      <td>-0.005149</td>\n",
       "      <td>0.000000</td>\n",
       "      <td>0.000000</td>\n",
       "      <td>0.000000</td>\n",
       "      <td>16.666667</td>\n",
       "      <td>0.325602</td>\n",
       "      <td>0.000000</td>\n",
       "      <td>...</td>\n",
       "      <td>False</td>\n",
       "      <td>False</td>\n",
       "      <td>True</td>\n",
       "      <td>False</td>\n",
       "      <td>False</td>\n",
       "      <td>False</td>\n",
       "      <td>False</td>\n",
       "      <td>False</td>\n",
       "      <td>0.9</td>\n",
       "      <td>False</td>\n",
       "    </tr>\n",
       "    <tr>\n",
       "      <th>2</th>\n",
       "      <td>9</td>\n",
       "      <td>11</td>\n",
       "      <td>1.01</td>\n",
       "      <td>0.029017</td>\n",
       "      <td>0.000000</td>\n",
       "      <td>0.000000</td>\n",
       "      <td>0.000000</td>\n",
       "      <td>0.000000</td>\n",
       "      <td>0.998532</td>\n",
       "      <td>0.000000</td>\n",
       "      <td>...</td>\n",
       "      <td>False</td>\n",
       "      <td>False</td>\n",
       "      <td>False</td>\n",
       "      <td>False</td>\n",
       "      <td>False</td>\n",
       "      <td>False</td>\n",
       "      <td>False</td>\n",
       "      <td>False</td>\n",
       "      <td>0.9</td>\n",
       "      <td>True</td>\n",
       "    </tr>\n",
       "    <tr>\n",
       "      <th>3</th>\n",
       "      <td>12</td>\n",
       "      <td>13</td>\n",
       "      <td>0.05</td>\n",
       "      <td>0.030701</td>\n",
       "      <td>0.000000</td>\n",
       "      <td>0.000000</td>\n",
       "      <td>0.000000</td>\n",
       "      <td>7.692308</td>\n",
       "      <td>0.545508</td>\n",
       "      <td>0.000000</td>\n",
       "      <td>...</td>\n",
       "      <td>False</td>\n",
       "      <td>False</td>\n",
       "      <td>False</td>\n",
       "      <td>False</td>\n",
       "      <td>False</td>\n",
       "      <td>False</td>\n",
       "      <td>False</td>\n",
       "      <td>False</td>\n",
       "      <td>0.9</td>\n",
       "      <td>False</td>\n",
       "    </tr>\n",
       "    <tr>\n",
       "      <th>4</th>\n",
       "      <td>14</td>\n",
       "      <td>14</td>\n",
       "      <td>0.74</td>\n",
       "      <td>-0.060843</td>\n",
       "      <td>7.142857</td>\n",
       "      <td>7.142857</td>\n",
       "      <td>21.428571</td>\n",
       "      <td>28.571429</td>\n",
       "      <td>0.935408</td>\n",
       "      <td>7.142857</td>\n",
       "      <td>...</td>\n",
       "      <td>False</td>\n",
       "      <td>False</td>\n",
       "      <td>True</td>\n",
       "      <td>True</td>\n",
       "      <td>False</td>\n",
       "      <td>False</td>\n",
       "      <td>False</td>\n",
       "      <td>False</td>\n",
       "      <td>0.9</td>\n",
       "      <td>True</td>\n",
       "    </tr>\n",
       "    <tr>\n",
       "      <th>...</th>\n",
       "      <td>...</td>\n",
       "      <td>...</td>\n",
       "      <td>...</td>\n",
       "      <td>...</td>\n",
       "      <td>...</td>\n",
       "      <td>...</td>\n",
       "      <td>...</td>\n",
       "      <td>...</td>\n",
       "      <td>...</td>\n",
       "      <td>...</td>\n",
       "      <td>...</td>\n",
       "      <td>...</td>\n",
       "      <td>...</td>\n",
       "      <td>...</td>\n",
       "      <td>...</td>\n",
       "      <td>...</td>\n",
       "      <td>...</td>\n",
       "      <td>...</td>\n",
       "      <td>...</td>\n",
       "      <td>...</td>\n",
       "      <td>...</td>\n",
       "    </tr>\n",
       "    <tr>\n",
       "      <th>3401</th>\n",
       "      <td>11134</td>\n",
       "      <td>10</td>\n",
       "      <td>-0.89</td>\n",
       "      <td>0.176266</td>\n",
       "      <td>0.000000</td>\n",
       "      <td>0.000000</td>\n",
       "      <td>0.000000</td>\n",
       "      <td>0.000000</td>\n",
       "      <td>0.028479</td>\n",
       "      <td>0.000000</td>\n",
       "      <td>...</td>\n",
       "      <td>False</td>\n",
       "      <td>False</td>\n",
       "      <td>False</td>\n",
       "      <td>False</td>\n",
       "      <td>False</td>\n",
       "      <td>False</td>\n",
       "      <td>False</td>\n",
       "      <td>False</td>\n",
       "      <td>0.9</td>\n",
       "      <td>False</td>\n",
       "    </tr>\n",
       "    <tr>\n",
       "      <th>3402</th>\n",
       "      <td>11138</td>\n",
       "      <td>11</td>\n",
       "      <td>0.69</td>\n",
       "      <td>-0.118497</td>\n",
       "      <td>9.090909</td>\n",
       "      <td>9.090909</td>\n",
       "      <td>27.272727</td>\n",
       "      <td>27.272727</td>\n",
       "      <td>0.917499</td>\n",
       "      <td>9.090909</td>\n",
       "      <td>...</td>\n",
       "      <td>False</td>\n",
       "      <td>False</td>\n",
       "      <td>True</td>\n",
       "      <td>True</td>\n",
       "      <td>False</td>\n",
       "      <td>False</td>\n",
       "      <td>False</td>\n",
       "      <td>False</td>\n",
       "      <td>0.9</td>\n",
       "      <td>True</td>\n",
       "    </tr>\n",
       "    <tr>\n",
       "      <th>3403</th>\n",
       "      <td>11139</td>\n",
       "      <td>12</td>\n",
       "      <td>-0.63</td>\n",
       "      <td>-0.026626</td>\n",
       "      <td>8.333333</td>\n",
       "      <td>8.333333</td>\n",
       "      <td>16.666667</td>\n",
       "      <td>16.666667</td>\n",
       "      <td>0.115678</td>\n",
       "      <td>8.333333</td>\n",
       "      <td>...</td>\n",
       "      <td>False</td>\n",
       "      <td>False</td>\n",
       "      <td>True</td>\n",
       "      <td>False</td>\n",
       "      <td>False</td>\n",
       "      <td>False</td>\n",
       "      <td>False</td>\n",
       "      <td>False</td>\n",
       "      <td>0.9</td>\n",
       "      <td>False</td>\n",
       "    </tr>\n",
       "    <tr>\n",
       "      <th>3404</th>\n",
       "      <td>11141</td>\n",
       "      <td>16</td>\n",
       "      <td>-0.20</td>\n",
       "      <td>-0.013026</td>\n",
       "      <td>6.250000</td>\n",
       "      <td>6.250000</td>\n",
       "      <td>6.250000</td>\n",
       "      <td>6.250000</td>\n",
       "      <td>0.371991</td>\n",
       "      <td>6.250000</td>\n",
       "      <td>...</td>\n",
       "      <td>False</td>\n",
       "      <td>False</td>\n",
       "      <td>False</td>\n",
       "      <td>False</td>\n",
       "      <td>False</td>\n",
       "      <td>False</td>\n",
       "      <td>False</td>\n",
       "      <td>False</td>\n",
       "      <td>0.9</td>\n",
       "      <td>False</td>\n",
       "    </tr>\n",
       "    <tr>\n",
       "      <th>3405</th>\n",
       "      <td>11142</td>\n",
       "      <td>11</td>\n",
       "      <td>0.60</td>\n",
       "      <td>0.023699</td>\n",
       "      <td>0.000000</td>\n",
       "      <td>0.000000</td>\n",
       "      <td>9.090909</td>\n",
       "      <td>9.090909</td>\n",
       "      <td>0.887551</td>\n",
       "      <td>0.000000</td>\n",
       "      <td>...</td>\n",
       "      <td>False</td>\n",
       "      <td>False</td>\n",
       "      <td>False</td>\n",
       "      <td>False</td>\n",
       "      <td>False</td>\n",
       "      <td>False</td>\n",
       "      <td>False</td>\n",
       "      <td>False</td>\n",
       "      <td>0.9</td>\n",
       "      <td>False</td>\n",
       "    </tr>\n",
       "  </tbody>\n",
       "</table>\n",
       "<p>3406 rows × 33 columns</p>\n",
       "</div>"
      ],
      "text/plain": [
       "      annotator_id  n_annotated_texts  annotator_severity  mean_deviation  \\\n",
       "0                1                 14               -0.16        0.031793   \n",
       "1                4                 12               -0.26       -0.005149   \n",
       "2                9                 11                1.01        0.029017   \n",
       "3               12                 13                0.05        0.030701   \n",
       "4               14                 14                0.74       -0.060843   \n",
       "...            ...                ...                 ...             ...   \n",
       "3401         11134                 10               -0.89        0.176266   \n",
       "3402         11138                 11                0.69       -0.118497   \n",
       "3403         11139                 12               -0.63       -0.026626   \n",
       "3404         11141                 16               -0.20       -0.013026   \n",
       "3405         11142                 11                0.60        0.023699   \n",
       "\n",
       "      percent_lower_50  percent_lower_40  percent_lower_30  percent_lower_20  \\\n",
       "0             7.142857          7.142857         14.285714         14.285714   \n",
       "1             0.000000          0.000000          0.000000         16.666667   \n",
       "2             0.000000          0.000000          0.000000          0.000000   \n",
       "3             0.000000          0.000000          0.000000          7.692308   \n",
       "4             7.142857          7.142857         21.428571         28.571429   \n",
       "...                ...               ...               ...               ...   \n",
       "3401          0.000000          0.000000          0.000000          0.000000   \n",
       "3402          9.090909          9.090909         27.272727         27.272727   \n",
       "3403          8.333333          8.333333         16.666667         16.666667   \n",
       "3404          6.250000          6.250000          6.250000          6.250000   \n",
       "3405          0.000000          0.000000          9.090909          9.090909   \n",
       "\n",
       "      annotator_severity_quantile  percent_lower  ...  \\\n",
       "0                        0.399295       7.142857  ...   \n",
       "1                        0.325602       0.000000  ...   \n",
       "2                        0.998532       0.000000  ...   \n",
       "3                        0.545508       0.000000  ...   \n",
       "4                        0.935408       7.142857  ...   \n",
       "...                           ...            ...  ...   \n",
       "3401                     0.028479       0.000000  ...   \n",
       "3402                     0.917499       9.090909  ...   \n",
       "3403                     0.115678       8.333333  ...   \n",
       "3404                     0.371991       6.250000  ...   \n",
       "3405                     0.887551       0.000000  ...   \n",
       "\n",
       "      extreme_annotator_dev_30_frac_40  extreme_annotator_dev_30_frac_50  \\\n",
       "0                                False                             False   \n",
       "1                                False                             False   \n",
       "2                                False                             False   \n",
       "3                                False                             False   \n",
       "4                                False                             False   \n",
       "...                                ...                               ...   \n",
       "3401                             False                             False   \n",
       "3402                             False                             False   \n",
       "3403                             False                             False   \n",
       "3404                             False                             False   \n",
       "3405                             False                             False   \n",
       "\n",
       "      extreme_annotator_dev_20_frac_10  extreme_annotator_dev_20_frac_20  \\\n",
       "0                                 True                             False   \n",
       "1                                 True                             False   \n",
       "2                                False                             False   \n",
       "3                                False                             False   \n",
       "4                                 True                              True   \n",
       "...                                ...                               ...   \n",
       "3401                             False                             False   \n",
       "3402                              True                              True   \n",
       "3403                              True                             False   \n",
       "3404                             False                             False   \n",
       "3405                             False                             False   \n",
       "\n",
       "      extreme_annotator_dev_20_frac_30  extreme_annotator_dev_20_frac_40  \\\n",
       "0                                False                             False   \n",
       "1                                False                             False   \n",
       "2                                False                             False   \n",
       "3                                False                             False   \n",
       "4                                False                             False   \n",
       "...                                ...                               ...   \n",
       "3401                             False                             False   \n",
       "3402                             False                             False   \n",
       "3403                             False                             False   \n",
       "3404                             False                             False   \n",
       "3405                             False                             False   \n",
       "\n",
       "      extreme_annotator_dev_20_frac_50  extreme_annotator  \\\n",
       "0                                False              False   \n",
       "1                                False              False   \n",
       "2                                False              False   \n",
       "3                                False              False   \n",
       "4                                False              False   \n",
       "...                                ...                ...   \n",
       "3401                             False              False   \n",
       "3402                             False              False   \n",
       "3403                             False              False   \n",
       "3404                             False              False   \n",
       "3405                             False              False   \n",
       "\n",
       "      extreme_annotator_severity_quantile  \\\n",
       "0                                     0.9   \n",
       "1                                     0.9   \n",
       "2                                     0.9   \n",
       "3                                     0.9   \n",
       "4                                     0.9   \n",
       "...                                   ...   \n",
       "3401                                  0.9   \n",
       "3402                                  0.9   \n",
       "3403                                  0.9   \n",
       "3404                                  0.9   \n",
       "3405                                  0.9   \n",
       "\n",
       "      extreme_annotator_by_severity_quantile  \n",
       "0                                      False  \n",
       "1                                      False  \n",
       "2                                       True  \n",
       "3                                      False  \n",
       "4                                       True  \n",
       "...                                      ...  \n",
       "3401                                   False  \n",
       "3402                                    True  \n",
       "3403                                   False  \n",
       "3404                                   False  \n",
       "3405                                   False  \n",
       "\n",
       "[3406 rows x 33 columns]"
      ]
     },
     "execution_count": 30,
     "metadata": {},
     "output_type": "execute_result"
    }
   ],
   "source": [
    "top_quantile = 0.9\n",
    "\n",
    "annotators_data['extreme_annotator_severity_quantile'] = top_quantile\n",
    "annotators_data['extreme_annotator_by_severity_quantile'] = annotators_data['annotator_severity_quantile'] >= top_quantile\n",
    "\n",
    "annotators_data"
   ]
  },
  {
   "cell_type": "code",
   "execution_count": 32,
   "metadata": {},
   "outputs": [
    {
     "data": {
      "text/plain": [
       "extreme_annotator                           1\n",
       "extreme_annotator_by_severity_quantile    342\n",
       "dtype: int64"
      ]
     },
     "execution_count": 32,
     "metadata": {},
     "output_type": "execute_result"
    }
   ],
   "source": [
    "annotators_data[['extreme_annotator', 'extreme_annotator_by_severity_quantile']].sum()"
   ]
  },
  {
   "cell_type": "markdown",
   "metadata": {},
   "source": [
    "### Extreme annotators VS fraction of samples annotated as non-toxic"
   ]
  },
  {
   "cell_type": "markdown",
   "metadata": {},
   "source": [
    "**Note:** this analysis makes sense only if extreme annotators are defined using the annotator severity quantiles (otherwise it's trivial by construction!)."
   ]
  },
  {
   "cell_type": "code",
   "execution_count": 33,
   "metadata": {},
   "outputs": [
    {
     "data": {
      "text/html": [
       "<div>\n",
       "<style scoped>\n",
       "    .dataframe tbody tr th:only-of-type {\n",
       "        vertical-align: middle;\n",
       "    }\n",
       "\n",
       "    .dataframe tbody tr th {\n",
       "        vertical-align: top;\n",
       "    }\n",
       "\n",
       "    .dataframe thead th {\n",
       "        text-align: right;\n",
       "    }\n",
       "</style>\n",
       "<table border=\"1\" class=\"dataframe\">\n",
       "  <thead>\n",
       "    <tr style=\"text-align: right;\">\n",
       "      <th></th>\n",
       "      <th>text_id</th>\n",
       "      <th>annotator_id</th>\n",
       "      <th>toxic_score</th>\n",
       "      <th>text</th>\n",
       "      <th>annotator_severity</th>\n",
       "      <th>extreme_annotator</th>\n",
       "    </tr>\n",
       "  </thead>\n",
       "  <tbody>\n",
       "    <tr>\n",
       "      <th>0</th>\n",
       "      <td>43625</td>\n",
       "      <td>7365</td>\n",
       "      <td>0</td>\n",
       "      <td>It is about time for all illegals to go back t...</td>\n",
       "      <td>0.86</td>\n",
       "      <td>True</td>\n",
       "    </tr>\n",
       "    <tr>\n",
       "      <th>1</th>\n",
       "      <td>23643</td>\n",
       "      <td>9750</td>\n",
       "      <td>0</td>\n",
       "      <td>9) uhhhh i like being lgbt a lot. i feel proud...</td>\n",
       "      <td>0.61</td>\n",
       "      <td>False</td>\n",
       "    </tr>\n",
       "    <tr>\n",
       "      <th>2</th>\n",
       "      <td>20583</td>\n",
       "      <td>7259</td>\n",
       "      <td>0</td>\n",
       "      <td>@terryelaineh1 @UKLabour Why do 3.8 million #5...</td>\n",
       "      <td>0.52</td>\n",
       "      <td>False</td>\n",
       "    </tr>\n",
       "    <tr>\n",
       "      <th>3</th>\n",
       "      <td>23016</td>\n",
       "      <td>10173</td>\n",
       "      <td>0</td>\n",
       "      <td>Ladies buy a gun learn how to use it effective...</td>\n",
       "      <td>0.00</td>\n",
       "      <td>False</td>\n",
       "    </tr>\n",
       "    <tr>\n",
       "      <th>4</th>\n",
       "      <td>15758</td>\n",
       "      <td>8749</td>\n",
       "      <td>0</td>\n",
       "      <td>No, they only do that to black people</td>\n",
       "      <td>0.47</td>\n",
       "      <td>False</td>\n",
       "    </tr>\n",
       "    <tr>\n",
       "      <th>...</th>\n",
       "      <td>...</td>\n",
       "      <td>...</td>\n",
       "      <td>...</td>\n",
       "      <td>...</td>\n",
       "      <td>...</td>\n",
       "      <td>...</td>\n",
       "    </tr>\n",
       "    <tr>\n",
       "      <th>45028</th>\n",
       "      <td>20064</td>\n",
       "      <td>9905</td>\n",
       "      <td>0</td>\n",
       "      <td>Lailat al Miraj mubarak to all Muslims.. I'm w...</td>\n",
       "      <td>0.26</td>\n",
       "      <td>False</td>\n",
       "    </tr>\n",
       "    <tr>\n",
       "      <th>45029</th>\n",
       "      <td>20059</td>\n",
       "      <td>1257</td>\n",
       "      <td>0</td>\n",
       "      <td>happy pride month i'm gay URL</td>\n",
       "      <td>0.50</td>\n",
       "      <td>False</td>\n",
       "    </tr>\n",
       "    <tr>\n",
       "      <th>45030</th>\n",
       "      <td>20060</td>\n",
       "      <td>611</td>\n",
       "      <td>0</td>\n",
       "      <td>I love that you enjoy being trans.</td>\n",
       "      <td>-0.18</td>\n",
       "      <td>False</td>\n",
       "    </tr>\n",
       "    <tr>\n",
       "      <th>45031</th>\n",
       "      <td>20067</td>\n",
       "      <td>7414</td>\n",
       "      <td>0</td>\n",
       "      <td>Please help support nonbinary pride, add a #Tw...</td>\n",
       "      <td>0.45</td>\n",
       "      <td>False</td>\n",
       "    </tr>\n",
       "    <tr>\n",
       "      <th>45032</th>\n",
       "      <td>20064</td>\n",
       "      <td>10290</td>\n",
       "      <td>0</td>\n",
       "      <td>Lailat al Miraj mubarak to all Muslims.. I'm w...</td>\n",
       "      <td>0.11</td>\n",
       "      <td>False</td>\n",
       "    </tr>\n",
       "  </tbody>\n",
       "</table>\n",
       "<p>45033 rows × 6 columns</p>\n",
       "</div>"
      ],
      "text/plain": [
       "       text_id  annotator_id  toxic_score  \\\n",
       "0        43625          7365            0   \n",
       "1        23643          9750            0   \n",
       "2        20583          7259            0   \n",
       "3        23016         10173            0   \n",
       "4        15758          8749            0   \n",
       "...        ...           ...          ...   \n",
       "45028    20064          9905            0   \n",
       "45029    20059          1257            0   \n",
       "45030    20060           611            0   \n",
       "45031    20067          7414            0   \n",
       "45032    20064         10290            0   \n",
       "\n",
       "                                                    text  annotator_severity  \\\n",
       "0      It is about time for all illegals to go back t...                0.86   \n",
       "1      9) uhhhh i like being lgbt a lot. i feel proud...                0.61   \n",
       "2      @terryelaineh1 @UKLabour Why do 3.8 million #5...                0.52   \n",
       "3      Ladies buy a gun learn how to use it effective...                0.00   \n",
       "4                  No, they only do that to black people                0.47   \n",
       "...                                                  ...                 ...   \n",
       "45028  Lailat al Miraj mubarak to all Muslims.. I'm w...                0.26   \n",
       "45029                      happy pride month i'm gay URL                0.50   \n",
       "45030                 I love that you enjoy being trans.               -0.18   \n",
       "45031  Please help support nonbinary pride, add a #Tw...                0.45   \n",
       "45032  Lailat al Miraj mubarak to all Muslims.. I'm w...                0.11   \n",
       "\n",
       "       extreme_annotator  \n",
       "0                   True  \n",
       "1                  False  \n",
       "2                  False  \n",
       "3                  False  \n",
       "4                  False  \n",
       "...                  ...  \n",
       "45028              False  \n",
       "45029              False  \n",
       "45030              False  \n",
       "45031              False  \n",
       "45032              False  \n",
       "\n",
       "[45033 rows x 6 columns]"
      ]
     },
     "execution_count": 33,
     "metadata": {},
     "output_type": "execute_result"
    }
   ],
   "source": [
    "target = pd.merge(\n",
    "    left=target,\n",
    "    right=annotators_data[['annotator_id', 'extreme_annotator_by_severity_quantile']].rename(columns={'extreme_annotator_by_severity_quantile': 'extreme_annotator'}),\n",
    "    on='annotator_id',\n",
    "    how='left'\n",
    ")\n",
    "\n",
    "target"
   ]
  },
  {
   "cell_type": "code",
   "execution_count": 35,
   "metadata": {},
   "outputs": [
    {
     "data": {
      "text/html": [
       "<div>\n",
       "<style scoped>\n",
       "    .dataframe tbody tr th:only-of-type {\n",
       "        vertical-align: middle;\n",
       "    }\n",
       "\n",
       "    .dataframe tbody tr th {\n",
       "        vertical-align: top;\n",
       "    }\n",
       "\n",
       "    .dataframe thead th {\n",
       "        text-align: right;\n",
       "    }\n",
       "</style>\n",
       "<table border=\"1\" class=\"dataframe\">\n",
       "  <thead>\n",
       "    <tr style=\"text-align: right;\">\n",
       "      <th></th>\n",
       "      <th>text_id</th>\n",
       "      <th>annotator_id</th>\n",
       "      <th>toxic_score</th>\n",
       "      <th>text</th>\n",
       "      <th>annotator_severity</th>\n",
       "      <th>extreme_annotator</th>\n",
       "    </tr>\n",
       "  </thead>\n",
       "  <tbody>\n",
       "    <tr>\n",
       "      <th>0</th>\n",
       "      <td>43625</td>\n",
       "      <td>7365</td>\n",
       "      <td>0</td>\n",
       "      <td>It is about time for all illegals to go back t...</td>\n",
       "      <td>0.86</td>\n",
       "      <td>True</td>\n",
       "    </tr>\n",
       "    <tr>\n",
       "      <th>1</th>\n",
       "      <td>23643</td>\n",
       "      <td>9750</td>\n",
       "      <td>0</td>\n",
       "      <td>9) uhhhh i like being lgbt a lot. i feel proud...</td>\n",
       "      <td>0.61</td>\n",
       "      <td>False</td>\n",
       "    </tr>\n",
       "    <tr>\n",
       "      <th>2</th>\n",
       "      <td>20583</td>\n",
       "      <td>7259</td>\n",
       "      <td>0</td>\n",
       "      <td>@terryelaineh1 @UKLabour Why do 3.8 million #5...</td>\n",
       "      <td>0.52</td>\n",
       "      <td>False</td>\n",
       "    </tr>\n",
       "    <tr>\n",
       "      <th>3</th>\n",
       "      <td>23016</td>\n",
       "      <td>10173</td>\n",
       "      <td>0</td>\n",
       "      <td>Ladies buy a gun learn how to use it effective...</td>\n",
       "      <td>0.00</td>\n",
       "      <td>False</td>\n",
       "    </tr>\n",
       "    <tr>\n",
       "      <th>4</th>\n",
       "      <td>15758</td>\n",
       "      <td>8749</td>\n",
       "      <td>0</td>\n",
       "      <td>No, they only do that to black people</td>\n",
       "      <td>0.47</td>\n",
       "      <td>False</td>\n",
       "    </tr>\n",
       "    <tr>\n",
       "      <th>...</th>\n",
       "      <td>...</td>\n",
       "      <td>...</td>\n",
       "      <td>...</td>\n",
       "      <td>...</td>\n",
       "      <td>...</td>\n",
       "      <td>...</td>\n",
       "    </tr>\n",
       "    <tr>\n",
       "      <th>45028</th>\n",
       "      <td>20064</td>\n",
       "      <td>9905</td>\n",
       "      <td>0</td>\n",
       "      <td>Lailat al Miraj mubarak to all Muslims.. I'm w...</td>\n",
       "      <td>0.26</td>\n",
       "      <td>False</td>\n",
       "    </tr>\n",
       "    <tr>\n",
       "      <th>45029</th>\n",
       "      <td>20059</td>\n",
       "      <td>1257</td>\n",
       "      <td>0</td>\n",
       "      <td>happy pride month i'm gay URL</td>\n",
       "      <td>0.50</td>\n",
       "      <td>False</td>\n",
       "    </tr>\n",
       "    <tr>\n",
       "      <th>45030</th>\n",
       "      <td>20060</td>\n",
       "      <td>611</td>\n",
       "      <td>0</td>\n",
       "      <td>I love that you enjoy being trans.</td>\n",
       "      <td>-0.18</td>\n",
       "      <td>False</td>\n",
       "    </tr>\n",
       "    <tr>\n",
       "      <th>45031</th>\n",
       "      <td>20067</td>\n",
       "      <td>7414</td>\n",
       "      <td>0</td>\n",
       "      <td>Please help support nonbinary pride, add a #Tw...</td>\n",
       "      <td>0.45</td>\n",
       "      <td>False</td>\n",
       "    </tr>\n",
       "    <tr>\n",
       "      <th>45032</th>\n",
       "      <td>20064</td>\n",
       "      <td>10290</td>\n",
       "      <td>0</td>\n",
       "      <td>Lailat al Miraj mubarak to all Muslims.. I'm w...</td>\n",
       "      <td>0.11</td>\n",
       "      <td>False</td>\n",
       "    </tr>\n",
       "  </tbody>\n",
       "</table>\n",
       "<p>45033 rows × 6 columns</p>\n",
       "</div>"
      ],
      "text/plain": [
       "       text_id  annotator_id  toxic_score  \\\n",
       "0        43625          7365            0   \n",
       "1        23643          9750            0   \n",
       "2        20583          7259            0   \n",
       "3        23016         10173            0   \n",
       "4        15758          8749            0   \n",
       "...        ...           ...          ...   \n",
       "45028    20064          9905            0   \n",
       "45029    20059          1257            0   \n",
       "45030    20060           611            0   \n",
       "45031    20067          7414            0   \n",
       "45032    20064         10290            0   \n",
       "\n",
       "                                                    text  annotator_severity  \\\n",
       "0      It is about time for all illegals to go back t...                0.86   \n",
       "1      9) uhhhh i like being lgbt a lot. i feel proud...                0.61   \n",
       "2      @terryelaineh1 @UKLabour Why do 3.8 million #5...                0.52   \n",
       "3      Ladies buy a gun learn how to use it effective...                0.00   \n",
       "4                  No, they only do that to black people                0.47   \n",
       "...                                                  ...                 ...   \n",
       "45028  Lailat al Miraj mubarak to all Muslims.. I'm w...                0.26   \n",
       "45029                      happy pride month i'm gay URL                0.50   \n",
       "45030                 I love that you enjoy being trans.               -0.18   \n",
       "45031  Please help support nonbinary pride, add a #Tw...                0.45   \n",
       "45032  Lailat al Miraj mubarak to all Muslims.. I'm w...                0.11   \n",
       "\n",
       "       extreme_annotator  \n",
       "0                   True  \n",
       "1                  False  \n",
       "2                  False  \n",
       "3                  False  \n",
       "4                  False  \n",
       "...                  ...  \n",
       "45028              False  \n",
       "45029              False  \n",
       "45030              False  \n",
       "45031              False  \n",
       "45032              False  \n",
       "\n",
       "[45033 rows x 6 columns]"
      ]
     },
     "execution_count": 35,
     "metadata": {},
     "output_type": "execute_result"
    }
   ],
   "source": [
    "target"
   ]
  },
  {
   "cell_type": "code",
   "execution_count": 36,
   "metadata": {},
   "outputs": [
    {
     "data": {
      "text/html": [
       "<div>\n",
       "<style scoped>\n",
       "    .dataframe tbody tr th:only-of-type {\n",
       "        vertical-align: middle;\n",
       "    }\n",
       "\n",
       "    .dataframe tbody tr th {\n",
       "        vertical-align: top;\n",
       "    }\n",
       "\n",
       "    .dataframe thead th {\n",
       "        text-align: right;\n",
       "    }\n",
       "</style>\n",
       "<table border=\"1\" class=\"dataframe\">\n",
       "  <thead>\n",
       "    <tr style=\"text-align: right;\">\n",
       "      <th></th>\n",
       "      <th>annotator_id</th>\n",
       "      <th>mean_pred</th>\n",
       "      <th>extreme_annotator</th>\n",
       "    </tr>\n",
       "  </thead>\n",
       "  <tbody>\n",
       "    <tr>\n",
       "      <th>0</th>\n",
       "      <td>1</td>\n",
       "      <td>0.428571</td>\n",
       "      <td>3</td>\n",
       "    </tr>\n",
       "    <tr>\n",
       "      <th>1</th>\n",
       "      <td>4</td>\n",
       "      <td>0.250000</td>\n",
       "      <td>3</td>\n",
       "    </tr>\n",
       "    <tr>\n",
       "      <th>2</th>\n",
       "      <td>9</td>\n",
       "      <td>0.545455</td>\n",
       "      <td>9</td>\n",
       "    </tr>\n",
       "    <tr>\n",
       "      <th>3</th>\n",
       "      <td>12</td>\n",
       "      <td>0.538462</td>\n",
       "      <td>5</td>\n",
       "    </tr>\n",
       "    <tr>\n",
       "      <th>4</th>\n",
       "      <td>14</td>\n",
       "      <td>0.285714</td>\n",
       "      <td>9</td>\n",
       "    </tr>\n",
       "    <tr>\n",
       "      <th>...</th>\n",
       "      <td>...</td>\n",
       "      <td>...</td>\n",
       "      <td>...</td>\n",
       "    </tr>\n",
       "    <tr>\n",
       "      <th>3401</th>\n",
       "      <td>11134</td>\n",
       "      <td>0.600000</td>\n",
       "      <td>0</td>\n",
       "    </tr>\n",
       "    <tr>\n",
       "      <th>3402</th>\n",
       "      <td>11138</td>\n",
       "      <td>0.272727</td>\n",
       "      <td>9</td>\n",
       "    </tr>\n",
       "    <tr>\n",
       "      <th>3403</th>\n",
       "      <td>11139</td>\n",
       "      <td>0.416667</td>\n",
       "      <td>1</td>\n",
       "    </tr>\n",
       "    <tr>\n",
       "      <th>3404</th>\n",
       "      <td>11141</td>\n",
       "      <td>0.312500</td>\n",
       "      <td>3</td>\n",
       "    </tr>\n",
       "    <tr>\n",
       "      <th>3405</th>\n",
       "      <td>11142</td>\n",
       "      <td>0.272727</td>\n",
       "      <td>8</td>\n",
       "    </tr>\n",
       "  </tbody>\n",
       "</table>\n",
       "<p>3406 rows × 3 columns</p>\n",
       "</div>"
      ],
      "text/plain": [
       "      annotator_id  mean_pred extreme_annotator\n",
       "0                1   0.428571                 3\n",
       "1                4   0.250000                 3\n",
       "2                9   0.545455                 9\n",
       "3               12   0.538462                 5\n",
       "4               14   0.285714                 9\n",
       "...            ...        ...               ...\n",
       "3401         11134   0.600000                 0\n",
       "3402         11138   0.272727                 9\n",
       "3403         11139   0.416667                 1\n",
       "3404         11141   0.312500                 3\n",
       "3405         11142   0.272727                 8\n",
       "\n",
       "[3406 rows x 3 columns]"
      ]
     },
     "execution_count": 36,
     "metadata": {},
     "output_type": "execute_result"
    }
   ],
   "source": [
    "extreme_annotators_mean_pred_stats = target.copy()\n",
    "extreme_annotators_mean_pred_stats['quantile_bin'] = pd.qcut(target['annotator_severity'], 10, labels=range(10))\n",
    "\n",
    "# Analysis by extreme VS non-extreme annotators.\n",
    "# extreme_annotators_mean_pred_stats = extreme_annotators_mean_pred_stats.groupby('annotator_id').agg(\n",
    "#     mean_pred=pd.NamedAgg('toxic_score', 'mean'),\n",
    "#     extreme_annotator=pd.NamedAgg('extreme_annotator', 'first')\n",
    "# ).reset_index()\n",
    "\n",
    "# Analysis by quantile bin.\n",
    "extreme_annotators_mean_pred_stats = extreme_annotators_mean_pred_stats.groupby('annotator_id').agg(\n",
    "    mean_pred=pd.NamedAgg('toxic_score', 'mean'),\n",
    "    extreme_annotator=pd.NamedAgg('quantile_bin', 'first')\n",
    ").reset_index()\n",
    "\n",
    "extreme_annotators_mean_pred_stats"
   ]
  },
  {
   "cell_type": "code",
   "execution_count": 37,
   "metadata": {},
   "outputs": [
    {
     "data": {
      "text/plain": [
       "<Axes: xlabel='extreme_annotator', ylabel='mean_pred'>"
      ]
     },
     "execution_count": 37,
     "metadata": {},
     "output_type": "execute_result"
    },
    {
     "data": {
      "image/png": "[encoded data removed]",
      "text/plain": [
       "<Figure size 640x480 with 1 Axes>"
      ]
     },
     "metadata": {},
     "output_type": "display_data"
    }
   ],
   "source": [
    "seaborn.boxplot(\n",
    "    x=extreme_annotators_mean_pred_stats['extreme_annotator'],\n",
    "    y=extreme_annotators_mean_pred_stats['mean_pred'],\n",
    ")"
   ]
  },
  {
   "cell_type": "markdown",
   "metadata": {},
   "source": [
    "## Save filtered data and annotators data"
   ]
  },
  {
   "cell_type": "code",
   "execution_count": 38,
   "metadata": {},
   "outputs": [
    {
     "data": {
      "text/html": [
       "<div>\n",
       "<style scoped>\n",
       "    .dataframe tbody tr th:only-of-type {\n",
       "        vertical-align: middle;\n",
       "    }\n",
       "\n",
       "    .dataframe tbody tr th {\n",
       "        vertical-align: top;\n",
       "    }\n",
       "\n",
       "    .dataframe thead th {\n",
       "        text-align: right;\n",
       "    }\n",
       "</style>\n",
       "<table border=\"1\" class=\"dataframe\">\n",
       "  <thead>\n",
       "    <tr style=\"text-align: right;\">\n",
       "      <th></th>\n",
       "      <th>text_id</th>\n",
       "      <th>annotator_id</th>\n",
       "      <th>toxic_score</th>\n",
       "      <th>text</th>\n",
       "      <th>annotator_severity</th>\n",
       "      <th>extreme_annotator</th>\n",
       "    </tr>\n",
       "  </thead>\n",
       "  <tbody>\n",
       "    <tr>\n",
       "      <th>0</th>\n",
       "      <td>43625</td>\n",
       "      <td>7365</td>\n",
       "      <td>0</td>\n",
       "      <td>It is about time for all illegals to go back t...</td>\n",
       "      <td>0.86</td>\n",
       "      <td>True</td>\n",
       "    </tr>\n",
       "    <tr>\n",
       "      <th>1</th>\n",
       "      <td>23643</td>\n",
       "      <td>9750</td>\n",
       "      <td>0</td>\n",
       "      <td>9) uhhhh i like being lgbt a lot. i feel proud...</td>\n",
       "      <td>0.61</td>\n",
       "      <td>False</td>\n",
       "    </tr>\n",
       "    <tr>\n",
       "      <th>2</th>\n",
       "      <td>20583</td>\n",
       "      <td>7259</td>\n",
       "      <td>0</td>\n",
       "      <td>@terryelaineh1 @UKLabour Why do 3.8 million #5...</td>\n",
       "      <td>0.52</td>\n",
       "      <td>False</td>\n",
       "    </tr>\n",
       "    <tr>\n",
       "      <th>3</th>\n",
       "      <td>23016</td>\n",
       "      <td>10173</td>\n",
       "      <td>0</td>\n",
       "      <td>Ladies buy a gun learn how to use it effective...</td>\n",
       "      <td>0.00</td>\n",
       "      <td>False</td>\n",
       "    </tr>\n",
       "    <tr>\n",
       "      <th>4</th>\n",
       "      <td>15758</td>\n",
       "      <td>8749</td>\n",
       "      <td>0</td>\n",
       "      <td>No, they only do that to black people</td>\n",
       "      <td>0.47</td>\n",
       "      <td>False</td>\n",
       "    </tr>\n",
       "    <tr>\n",
       "      <th>...</th>\n",
       "      <td>...</td>\n",
       "      <td>...</td>\n",
       "      <td>...</td>\n",
       "      <td>...</td>\n",
       "      <td>...</td>\n",
       "      <td>...</td>\n",
       "    </tr>\n",
       "    <tr>\n",
       "      <th>45028</th>\n",
       "      <td>20064</td>\n",
       "      <td>9905</td>\n",
       "      <td>0</td>\n",
       "      <td>Lailat al Miraj mubarak to all Muslims.. I'm w...</td>\n",
       "      <td>0.26</td>\n",
       "      <td>False</td>\n",
       "    </tr>\n",
       "    <tr>\n",
       "      <th>45029</th>\n",
       "      <td>20059</td>\n",
       "      <td>1257</td>\n",
       "      <td>0</td>\n",
       "      <td>happy pride month i'm gay URL</td>\n",
       "      <td>0.50</td>\n",
       "      <td>False</td>\n",
       "    </tr>\n",
       "    <tr>\n",
       "      <th>45030</th>\n",
       "      <td>20060</td>\n",
       "      <td>611</td>\n",
       "      <td>0</td>\n",
       "      <td>I love that you enjoy being trans.</td>\n",
       "      <td>-0.18</td>\n",
       "      <td>False</td>\n",
       "    </tr>\n",
       "    <tr>\n",
       "      <th>45031</th>\n",
       "      <td>20067</td>\n",
       "      <td>7414</td>\n",
       "      <td>0</td>\n",
       "      <td>Please help support nonbinary pride, add a #Tw...</td>\n",
       "      <td>0.45</td>\n",
       "      <td>False</td>\n",
       "    </tr>\n",
       "    <tr>\n",
       "      <th>45032</th>\n",
       "      <td>20064</td>\n",
       "      <td>10290</td>\n",
       "      <td>0</td>\n",
       "      <td>Lailat al Miraj mubarak to all Muslims.. I'm w...</td>\n",
       "      <td>0.11</td>\n",
       "      <td>False</td>\n",
       "    </tr>\n",
       "  </tbody>\n",
       "</table>\n",
       "<p>45033 rows × 6 columns</p>\n",
       "</div>"
      ],
      "text/plain": [
       "       text_id  annotator_id  toxic_score  \\\n",
       "0        43625          7365            0   \n",
       "1        23643          9750            0   \n",
       "2        20583          7259            0   \n",
       "3        23016         10173            0   \n",
       "4        15758          8749            0   \n",
       "...        ...           ...          ...   \n",
       "45028    20064          9905            0   \n",
       "45029    20059          1257            0   \n",
       "45030    20060           611            0   \n",
       "45031    20067          7414            0   \n",
       "45032    20064         10290            0   \n",
       "\n",
       "                                                    text  annotator_severity  \\\n",
       "0      It is about time for all illegals to go back t...                0.86   \n",
       "1      9) uhhhh i like being lgbt a lot. i feel proud...                0.61   \n",
       "2      @terryelaineh1 @UKLabour Why do 3.8 million #5...                0.52   \n",
       "3      Ladies buy a gun learn how to use it effective...                0.00   \n",
       "4                  No, they only do that to black people                0.47   \n",
       "...                                                  ...                 ...   \n",
       "45028  Lailat al Miraj mubarak to all Muslims.. I'm w...                0.26   \n",
       "45029                      happy pride month i'm gay URL                0.50   \n",
       "45030                 I love that you enjoy being trans.               -0.18   \n",
       "45031  Please help support nonbinary pride, add a #Tw...                0.45   \n",
       "45032  Lailat al Miraj mubarak to all Muslims.. I'm w...                0.11   \n",
       "\n",
       "       extreme_annotator  \n",
       "0                   True  \n",
       "1                  False  \n",
       "2                  False  \n",
       "3                  False  \n",
       "4                  False  \n",
       "...                  ...  \n",
       "45028              False  \n",
       "45029              False  \n",
       "45030              False  \n",
       "45031              False  \n",
       "45032              False  \n",
       "\n",
       "[45033 rows x 6 columns]"
      ]
     },
     "execution_count": 38,
     "metadata": {},
     "output_type": "execute_result"
    }
   ],
   "source": [
    "target"
   ]
  },
  {
   "cell_type": "code",
   "execution_count": 40,
   "metadata": {},
   "outputs": [
    {
     "data": {
      "text/plain": [
       "(3406,)"
      ]
     },
     "execution_count": 40,
     "metadata": {},
     "output_type": "execute_result"
    }
   ],
   "source": [
    "target['annotator_id'].unique().shape"
   ]
  },
  {
   "cell_type": "code",
   "execution_count": 41,
   "metadata": {},
   "outputs": [],
   "source": [
    "# target.drop(columns=['annotator_severity', 'extreme_annotator']).to_csv('../../data/clean/mhs_10_samples_per_annotator.csv', index=False)"
   ]
  },
  {
   "cell_type": "code",
   "execution_count": 43,
   "metadata": {},
   "outputs": [],
   "source": [
    "# annotators_data[\n",
    "#     ['annotator_id', 'n_annotated_texts', 'annotator_severity', 'annotator_severity_quantile', 'extreme_annotator_severity_quantile', 'extreme_annotator_by_severity_quantile']\n",
    "# ].rename(columns={'extreme_annotator_by_severity_quantile': 'extreme_annotator'}).to_csv('../../data/clean/annotators_data_mhs_10_samples_per_annotator.csv', index=False)"
   ]
  },
  {
   "cell_type": "markdown",
   "metadata": {},
   "source": [
    "## Further exploration"
   ]
  },
  {
   "cell_type": "code",
   "execution_count": 44,
   "metadata": {},
   "outputs": [
    {
     "data": {
      "text/plain": [
       "count    7968.000000\n",
       "mean        5.651732\n",
       "std        25.616463\n",
       "min         3.000000\n",
       "25%         3.000000\n",
       "50%         3.000000\n",
       "75%         4.000000\n",
       "max       365.000000\n",
       "Name: annotator_id, dtype: float64"
      ]
     },
     "execution_count": 44,
     "metadata": {},
     "output_type": "execute_result"
    }
   ],
   "source": [
    "target.groupby('text_id')['annotator_id'].count().describe()"
   ]
  },
  {
   "cell_type": "code",
   "execution_count": 45,
   "metadata": {},
   "outputs": [
    {
     "data": {
      "text/plain": [
       "count    3406.000000\n",
       "mean       13.221668\n",
       "std         2.696037\n",
       "min        10.000000\n",
       "25%        11.000000\n",
       "50%        13.000000\n",
       "75%        15.000000\n",
       "max        24.000000\n",
       "Name: text_id, dtype: float64"
      ]
     },
     "execution_count": 45,
     "metadata": {},
     "output_type": "execute_result"
    }
   ],
   "source": [
    "target.groupby('annotator_id')['text_id'].nunique().describe()"
   ]
  },
  {
   "cell_type": "code",
   "execution_count": 46,
   "metadata": {},
   "outputs": [
    {
     "data": {
      "text/plain": [
       "np.float64(0.3226656626506024)"
      ]
     },
     "execution_count": 46,
     "metadata": {},
     "output_type": "execute_result"
    }
   ],
   "source": [
    "(target.groupby('text_id')['toxic_score'].nunique() > 1).mean()"
   ]
  },
  {
   "cell_type": "code",
   "execution_count": 47,
   "metadata": {},
   "outputs": [
    {
     "data": {
      "text/plain": [
       "<Axes: >"
      ]
     },
     "execution_count": 47,
     "metadata": {},
     "output_type": "execute_result"
    },
    {
     "data": {
      "image/png": "[encoded data removed]",
      "text/plain": [
       "<Figure size 640x480 with 1 Axes>"
      ]
     },
     "metadata": {},
     "output_type": "display_data"
    }
   ],
   "source": [
    "target['annotator_severity'].hist()"
   ]
  },
  {
   "cell_type": "code",
   "execution_count": 116,
   "metadata": {},
   "outputs": [
    {
     "data": {
      "text/plain": [
       "np.True_"
      ]
     },
     "execution_count": 116,
     "metadata": {},
     "output_type": "execute_result"
    }
   ],
   "source": [
    "(target.groupby('annotator_id')['annotator_severity'].nunique() == 1).all()"
   ]
  },
  {
   "cell_type": "code",
   "execution_count": 117,
   "metadata": {},
   "outputs": [
    {
     "data": {
      "text/plain": [
       "count    771.000000\n",
       "mean      -0.028677\n",
       "std        0.484406\n",
       "min       -1.240000\n",
       "25%       -0.390000\n",
       "50%       -0.020000\n",
       "75%        0.340000\n",
       "max        1.000000\n",
       "Name: annotator_severity, dtype: float64"
      ]
     },
     "execution_count": 117,
     "metadata": {},
     "output_type": "execute_result"
    }
   ],
   "source": [
    "target.groupby('annotator_id')['annotator_severity'].first().describe()"
   ]
  },
  {
   "cell_type": "code",
   "execution_count": 118,
   "metadata": {},
   "outputs": [
    {
     "data": {
      "text/plain": [
       "np.int64(3)"
      ]
     },
     "execution_count": 118,
     "metadata": {},
     "output_type": "execute_result"
    }
   ],
   "source": [
    "target.groupby('text_id')['toxic_score'].count().min()"
   ]
  },
  {
   "cell_type": "markdown",
   "metadata": {},
   "source": [
    "Annotator severity:\n",
    "- Probably, the higher, the closer to our extreme annotators (top percentile should correspond to extreme annotators)."
   ]
  }
 ],
 "metadata": {
  "kernelspec": {
   "display_name": "Python 3 (ipykernel)",
   "language": "python",
   "name": "python3"
  },
  "language_info": {
   "codemirror_mode": {
    "name": "ipython",
    "version": 3
   },
   "file_extension": ".py",
   "mimetype": "text/x-python",
   "name": "python",
   "nbconvert_exporter": "python",
   "pygments_lexer": "ipython3",
   "version": "3.11.10"
  }
 },
 "nbformat": 4,
 "nbformat_minor": 4
}
