{
 "cells": [
  {
   "cell_type": "markdown",
   "id": "82937276-effe-4fa3-93fd-89d9f8d8dbc1",
   "metadata": {},
   "source": [
    "# Predictions on the HateCheck dataset with a majority vote model fine-tuned on the MHS dataset "
   ]
  },
  {
   "cell_type": "markdown",
   "id": "b6ba7db8-911f-4f7e-adf0-ad5df5352d09",
   "metadata": {},
   "source": [
    "__Objective:__ load a majority vote model fine-tuned on the MHS dataset and evaluate it on the MHS test split (as it was done during training) and on the HateCheck dataset."
   ]
  },
  {
   "cell_type": "code",
   "execution_count": 3,
   "id": "8d11a129-288b-43bd-8edb-edc395f75ec6",
   "metadata": {},
   "outputs": [
    {
     "name": "stdout",
     "output_type": "stream",
     "text": [
      "The autoreload extension is already loaded. To reload it, use:\n",
      "  %reload_ext autoreload\n"
     ]
    }
   ],
   "source": [
    "import sys\n",
    "from tqdm.notebook import tqdm\n",
    "import pickle\n",
    "import numpy as np\n",
    "import pandas as pd\n",
    "import torch\n",
    "import datasets\n",
    "from sklearn.metrics import classification_report\n",
    "from transformers import AutoModelForSequenceClassification, AutoTokenizer\n",
    "\n",
    "sys.path.append('../../modules/')\n",
    "\n",
    "from model_utils import get_deberta_model\n",
    "from pytorch_utils import send_batch_to_device\n",
    "\n",
    "device = torch.device(\"cuda\" if torch.cuda.is_available() else \"cpu\")\n",
    "\n",
    "%load_ext autoreload\n",
    "%autoreload 2"
   ]
  },
  {
   "cell_type": "code",
   "execution_count": 4,
   "id": "96f52f6e-7a1d-4b8b-b468-14436fecbb91",
   "metadata": {},
   "outputs": [],
   "source": [
    "DATASET_DIR = '/data1/shared_datasets/'\n",
    "\n",
    "# Split corresponding exactly to the MHS training data on which the Majority vote model was trained.\n",
    "MHS_TEST_DATA_PATH = '/data1/moscato/personalised-hate-boundaries-data/data/measuring_hate_speech_data_clean/mhs_clean_test.csv'\n",
    "\n",
    "DEBERTA_MODEL_DIR = '/data1/shared_models/'\n",
    "CHECKPOINT_PATH = '/data1/moscato/personalised-hate-boundaries-data/models/mhs/majority_vote_model_mhs_run_1/checkpoint-200/'"
   ]
  },
  {
   "cell_type": "markdown",
   "id": "bcb2eb47-4e11-435b-80b8-665959965d80",
   "metadata": {},
   "source": [
    "## Load data"
   ]
  },
  {
   "cell_type": "markdown",
   "id": "90bca89b-4a6b-4bba-acfa-7cdb1f7fba64",
   "metadata": {},
   "source": [
    "MHS (test split)."
   ]
  },
  {
   "cell_type": "code",
   "execution_count": 5,
   "id": "930a1e43-5024-4821-8c89-72120418d613",
   "metadata": {},
   "outputs": [
    {
     "data": {
      "text/html": [
       "<div>\n",
       "<style scoped>\n",
       "    .dataframe tbody tr th:only-of-type {\n",
       "        vertical-align: middle;\n",
       "    }\n",
       "\n",
       "    .dataframe tbody tr th {\n",
       "        vertical-align: top;\n",
       "    }\n",
       "\n",
       "    .dataframe thead th {\n",
       "        text-align: right;\n",
       "    }\n",
       "</style>\n",
       "<table border=\"1\" class=\"dataframe\">\n",
       "  <thead>\n",
       "    <tr style=\"text-align: right;\">\n",
       "      <th></th>\n",
       "      <th>text</th>\n",
       "      <th>toxic_score</th>\n",
       "    </tr>\n",
       "  </thead>\n",
       "  <tbody>\n",
       "    <tr>\n",
       "      <th>0</th>\n",
       "      <td>I would love to use a double dildo with a bud,...</td>\n",
       "      <td>0</td>\n",
       "    </tr>\n",
       "    <tr>\n",
       "      <th>1</th>\n",
       "      <td>Every night on the news they counted the days ...</td>\n",
       "      <td>1</td>\n",
       "    </tr>\n",
       "    <tr>\n",
       "      <th>2</th>\n",
       "      <td>I knew that -- YOU missed the point of what I ...</td>\n",
       "      <td>0</td>\n",
       "    </tr>\n",
       "    <tr>\n",
       "      <th>3</th>\n",
       "      <td>Oh? So, the highest value women behave like th...</td>\n",
       "      <td>0</td>\n",
       "    </tr>\n",
       "    <tr>\n",
       "      <th>4</th>\n",
       "      <td>I would remove those sexy panties and eat her ...</td>\n",
       "      <td>1</td>\n",
       "    </tr>\n",
       "    <tr>\n",
       "      <th>...</th>\n",
       "      <td>...</td>\n",
       "      <td>...</td>\n",
       "    </tr>\n",
       "    <tr>\n",
       "      <th>405</th>\n",
       "      <td>These women hate their country?  They should t...</td>\n",
       "      <td>0</td>\n",
       "    </tr>\n",
       "    <tr>\n",
       "      <th>406</th>\n",
       "      <td>Gotta blame it on the jews</td>\n",
       "      <td>0</td>\n",
       "    </tr>\n",
       "    <tr>\n",
       "      <th>407</th>\n",
       "      <td>A lot of incels in these comments getting real...</td>\n",
       "      <td>0</td>\n",
       "    </tr>\n",
       "    <tr>\n",
       "      <th>408</th>\n",
       "      <td>Dope that he had an epiphany about African cul...</td>\n",
       "      <td>0</td>\n",
       "    </tr>\n",
       "    <tr>\n",
       "      <th>409</th>\n",
       "      <td>Sundar pichai 100 percent south indian way sma...</td>\n",
       "      <td>1</td>\n",
       "    </tr>\n",
       "  </tbody>\n",
       "</table>\n",
       "<p>410 rows × 2 columns</p>\n",
       "</div>"
      ],
      "text/plain": [
       "                                                  text  toxic_score\n",
       "0    I would love to use a double dildo with a bud,...            0\n",
       "1    Every night on the news they counted the days ...            1\n",
       "2    I knew that -- YOU missed the point of what I ...            0\n",
       "3    Oh? So, the highest value women behave like th...            0\n",
       "4    I would remove those sexy panties and eat her ...            1\n",
       "..                                                 ...          ...\n",
       "405  These women hate their country?  They should t...            0\n",
       "406                         Gotta blame it on the jews            0\n",
       "407  A lot of incels in these comments getting real...            0\n",
       "408  Dope that he had an epiphany about African cul...            0\n",
       "409  Sundar pichai 100 percent south indian way sma...            1\n",
       "\n",
       "[410 rows x 2 columns]"
      ]
     },
     "execution_count": 5,
     "metadata": {},
     "output_type": "execute_result"
    }
   ],
   "source": [
    "mhs_test_data = pd.read_csv(MHS_TEST_DATA_PATH)\n",
    "\n",
    "# Aggregated labels by majority vote.\n",
    "mhs_test_data = mhs_test_data.groupby('text_id').agg(\n",
    "    text=pd.NamedAgg('text', 'first'),\n",
    "    toxic_score=pd.NamedAgg(\n",
    "        'toxic_score',\n",
    "        lambda group: group.value_counts(ascending=False).index[0]\n",
    "    )\n",
    ").reset_index().drop(columns=['text_id'])\n",
    "\n",
    "mhs_test_data"
   ]
  },
  {
   "cell_type": "markdown",
   "id": "6cabc739-2088-437e-ad1e-302b5a6d6822",
   "metadata": {},
   "source": [
    "HateCheck."
   ]
  },
  {
   "cell_type": "code",
   "execution_count": 6,
   "id": "1c91df3c-57fd-4250-baaa-ac92429c71d6",
   "metadata": {},
   "outputs": [
    {
     "data": {
      "text/html": [
       "<div>\n",
       "<style scoped>\n",
       "    .dataframe tbody tr th:only-of-type {\n",
       "        vertical-align: middle;\n",
       "    }\n",
       "\n",
       "    .dataframe tbody tr th {\n",
       "        vertical-align: top;\n",
       "    }\n",
       "\n",
       "    .dataframe thead th {\n",
       "        text-align: right;\n",
       "    }\n",
       "</style>\n",
       "<table border=\"1\" class=\"dataframe\">\n",
       "  <thead>\n",
       "    <tr style=\"text-align: right;\">\n",
       "      <th></th>\n",
       "      <th>functionality</th>\n",
       "      <th>case_id</th>\n",
       "      <th>test_case</th>\n",
       "      <th>label_gold</th>\n",
       "      <th>target_ident</th>\n",
       "      <th>direction</th>\n",
       "      <th>focus_words</th>\n",
       "      <th>focus_lemma</th>\n",
       "      <th>ref_case_id</th>\n",
       "      <th>ref_templ_id</th>\n",
       "      <th>templ_id</th>\n",
       "      <th>case_templ</th>\n",
       "    </tr>\n",
       "  </thead>\n",
       "  <tbody>\n",
       "    <tr>\n",
       "      <th>0</th>\n",
       "      <td>derog_neg_emote_h</td>\n",
       "      <td>1</td>\n",
       "      <td>I hate women.</td>\n",
       "      <td>hateful</td>\n",
       "      <td>women</td>\n",
       "      <td>general</td>\n",
       "      <td>hate</td>\n",
       "      <td>hate</td>\n",
       "      <td>NaN</td>\n",
       "      <td>NaN</td>\n",
       "      <td>1</td>\n",
       "      <td>I hate [IDENTITY_P].</td>\n",
       "    </tr>\n",
       "    <tr>\n",
       "      <th>1</th>\n",
       "      <td>derog_neg_emote_h</td>\n",
       "      <td>2</td>\n",
       "      <td>I hate trans people.</td>\n",
       "      <td>hateful</td>\n",
       "      <td>trans people</td>\n",
       "      <td>general</td>\n",
       "      <td>hate</td>\n",
       "      <td>hate</td>\n",
       "      <td>NaN</td>\n",
       "      <td>NaN</td>\n",
       "      <td>1</td>\n",
       "      <td>I hate [IDENTITY_P].</td>\n",
       "    </tr>\n",
       "    <tr>\n",
       "      <th>2</th>\n",
       "      <td>derog_neg_emote_h</td>\n",
       "      <td>3</td>\n",
       "      <td>I hate gay people.</td>\n",
       "      <td>hateful</td>\n",
       "      <td>gay people</td>\n",
       "      <td>general</td>\n",
       "      <td>hate</td>\n",
       "      <td>hate</td>\n",
       "      <td>NaN</td>\n",
       "      <td>NaN</td>\n",
       "      <td>1</td>\n",
       "      <td>I hate [IDENTITY_P].</td>\n",
       "    </tr>\n",
       "    <tr>\n",
       "      <th>3</th>\n",
       "      <td>derog_neg_emote_h</td>\n",
       "      <td>4</td>\n",
       "      <td>I hate black people.</td>\n",
       "      <td>hateful</td>\n",
       "      <td>black people</td>\n",
       "      <td>general</td>\n",
       "      <td>hate</td>\n",
       "      <td>hate</td>\n",
       "      <td>NaN</td>\n",
       "      <td>NaN</td>\n",
       "      <td>1</td>\n",
       "      <td>I hate [IDENTITY_P].</td>\n",
       "    </tr>\n",
       "    <tr>\n",
       "      <th>4</th>\n",
       "      <td>derog_neg_emote_h</td>\n",
       "      <td>5</td>\n",
       "      <td>I hate disabled people.</td>\n",
       "      <td>hateful</td>\n",
       "      <td>disabled people</td>\n",
       "      <td>general</td>\n",
       "      <td>hate</td>\n",
       "      <td>hate</td>\n",
       "      <td>NaN</td>\n",
       "      <td>NaN</td>\n",
       "      <td>1</td>\n",
       "      <td>I hate [IDENTITY_P].</td>\n",
       "    </tr>\n",
       "    <tr>\n",
       "      <th>...</th>\n",
       "      <td>...</td>\n",
       "      <td>...</td>\n",
       "      <td>...</td>\n",
       "      <td>...</td>\n",
       "      <td>...</td>\n",
       "      <td>...</td>\n",
       "      <td>...</td>\n",
       "      <td>...</td>\n",
       "      <td>...</td>\n",
       "      <td>...</td>\n",
       "      <td>...</td>\n",
       "      <td>...</td>\n",
       "    </tr>\n",
       "    <tr>\n",
       "      <th>3723</th>\n",
       "      <td>spell_leet_h</td>\n",
       "      <td>3897</td>\n",
       "      <td>Gay people are all complete 4ssholes.</td>\n",
       "      <td>hateful</td>\n",
       "      <td>gay people</td>\n",
       "      <td>general</td>\n",
       "      <td>4ssholes</td>\n",
       "      <td>asshole</td>\n",
       "      <td>1232.0</td>\n",
       "      <td>256.0</td>\n",
       "      <td>866</td>\n",
       "      <td>[IDENTITY_P] are all complete 4ssholes.</td>\n",
       "    </tr>\n",
       "    <tr>\n",
       "      <th>3724</th>\n",
       "      <td>spell_leet_h</td>\n",
       "      <td>3898</td>\n",
       "      <td>Black people are all complete 4ssholes.</td>\n",
       "      <td>hateful</td>\n",
       "      <td>black people</td>\n",
       "      <td>general</td>\n",
       "      <td>4ssholes</td>\n",
       "      <td>asshole</td>\n",
       "      <td>1233.0</td>\n",
       "      <td>256.0</td>\n",
       "      <td>866</td>\n",
       "      <td>[IDENTITY_P] are all complete 4ssholes.</td>\n",
       "    </tr>\n",
       "    <tr>\n",
       "      <th>3725</th>\n",
       "      <td>spell_leet_h</td>\n",
       "      <td>3899</td>\n",
       "      <td>Disabled people are all complete 4ssholes.</td>\n",
       "      <td>hateful</td>\n",
       "      <td>disabled people</td>\n",
       "      <td>general</td>\n",
       "      <td>4ssholes</td>\n",
       "      <td>asshole</td>\n",
       "      <td>1234.0</td>\n",
       "      <td>256.0</td>\n",
       "      <td>866</td>\n",
       "      <td>[IDENTITY_P] are all complete 4ssholes.</td>\n",
       "    </tr>\n",
       "    <tr>\n",
       "      <th>3726</th>\n",
       "      <td>spell_leet_h</td>\n",
       "      <td>3900</td>\n",
       "      <td>Muslims are all complete 4ssholes.</td>\n",
       "      <td>hateful</td>\n",
       "      <td>Muslims</td>\n",
       "      <td>general</td>\n",
       "      <td>4ssholes</td>\n",
       "      <td>asshole</td>\n",
       "      <td>1235.0</td>\n",
       "      <td>256.0</td>\n",
       "      <td>866</td>\n",
       "      <td>[IDENTITY_P] are all complete 4ssholes.</td>\n",
       "    </tr>\n",
       "    <tr>\n",
       "      <th>3727</th>\n",
       "      <td>spell_leet_h</td>\n",
       "      <td>3901</td>\n",
       "      <td>Immigrants are all complete 4ssholes.</td>\n",
       "      <td>hateful</td>\n",
       "      <td>immigrants</td>\n",
       "      <td>general</td>\n",
       "      <td>4ssholes</td>\n",
       "      <td>asshole</td>\n",
       "      <td>1236.0</td>\n",
       "      <td>256.0</td>\n",
       "      <td>866</td>\n",
       "      <td>[IDENTITY_P] are all complete 4ssholes.</td>\n",
       "    </tr>\n",
       "  </tbody>\n",
       "</table>\n",
       "<p>3728 rows × 12 columns</p>\n",
       "</div>"
      ],
      "text/plain": [
       "          functionality  case_id                                    test_case  \\\n",
       "0     derog_neg_emote_h        1                               I hate women.    \n",
       "1     derog_neg_emote_h        2                        I hate trans people.    \n",
       "2     derog_neg_emote_h        3                          I hate gay people.    \n",
       "3     derog_neg_emote_h        4                        I hate black people.    \n",
       "4     derog_neg_emote_h        5                     I hate disabled people.    \n",
       "...                 ...      ...                                          ...   \n",
       "3723       spell_leet_h     3897       Gay people are all complete 4ssholes.    \n",
       "3724       spell_leet_h     3898     Black people are all complete 4ssholes.    \n",
       "3725       spell_leet_h     3899  Disabled people are all complete 4ssholes.    \n",
       "3726       spell_leet_h     3900          Muslims are all complete 4ssholes.    \n",
       "3727       spell_leet_h     3901       Immigrants are all complete 4ssholes.    \n",
       "\n",
       "     label_gold     target_ident direction focus_words focus_lemma  \\\n",
       "0       hateful            women   general        hate        hate   \n",
       "1       hateful     trans people   general        hate        hate   \n",
       "2       hateful       gay people   general        hate        hate   \n",
       "3       hateful     black people   general        hate        hate   \n",
       "4       hateful  disabled people   general        hate        hate   \n",
       "...         ...              ...       ...         ...         ...   \n",
       "3723    hateful       gay people   general    4ssholes     asshole   \n",
       "3724    hateful     black people   general    4ssholes     asshole   \n",
       "3725    hateful  disabled people   general    4ssholes     asshole   \n",
       "3726    hateful          Muslims   general    4ssholes     asshole   \n",
       "3727    hateful       immigrants   general    4ssholes     asshole   \n",
       "\n",
       "      ref_case_id  ref_templ_id  templ_id  \\\n",
       "0             NaN           NaN         1   \n",
       "1             NaN           NaN         1   \n",
       "2             NaN           NaN         1   \n",
       "3             NaN           NaN         1   \n",
       "4             NaN           NaN         1   \n",
       "...           ...           ...       ...   \n",
       "3723       1232.0         256.0       866   \n",
       "3724       1233.0         256.0       866   \n",
       "3725       1234.0         256.0       866   \n",
       "3726       1235.0         256.0       866   \n",
       "3727       1236.0         256.0       866   \n",
       "\n",
       "                                   case_templ  \n",
       "0                        I hate [IDENTITY_P].  \n",
       "1                        I hate [IDENTITY_P].  \n",
       "2                        I hate [IDENTITY_P].  \n",
       "3                        I hate [IDENTITY_P].  \n",
       "4                        I hate [IDENTITY_P].  \n",
       "...                                       ...  \n",
       "3723  [IDENTITY_P] are all complete 4ssholes.  \n",
       "3724  [IDENTITY_P] are all complete 4ssholes.  \n",
       "3725  [IDENTITY_P] are all complete 4ssholes.  \n",
       "3726  [IDENTITY_P] are all complete 4ssholes.  \n",
       "3727  [IDENTITY_P] are all complete 4ssholes.  \n",
       "\n",
       "[3728 rows x 12 columns]"
      ]
     },
     "execution_count": 6,
     "metadata": {},
     "output_type": "execute_result"
    }
   ],
   "source": [
    "hatecheck_data = datasets.load_dataset(\n",
    "    path=\"Paul/hatecheck\",\n",
    "    cache_dir=DATASET_DIR\n",
    ")['test'].to_pandas()\n",
    "\n",
    "hatecheck_data"
   ]
  },
  {
   "cell_type": "markdown",
   "id": "242aa43a-85fb-433f-aa15-96afd48092fc",
   "metadata": {},
   "source": [
    "## Load fine-tuned model"
   ]
  },
  {
   "cell_type": "code",
   "execution_count": 8,
   "id": "5e23ac9b-158f-458d-9826-82c54a613861",
   "metadata": {},
   "outputs": [
    {
     "name": "stderr",
     "output_type": "stream",
     "text": [
      "2025-05-06 08:55:39,732 - get_deberta_model - INFO - Instantiating DeBERTa tokenizer\n",
      "2025-05-06 08:55:40,212 - get_deberta_model - INFO - Instantiating DeBERTa model with default classification head\n",
      "Some weights of DebertaV2ForSequenceClassification were not initialized from the model checkpoint at microsoft/deberta-v3-base and are newly initialized: ['classifier.bias', 'classifier.weight', 'pooler.dense.bias', 'pooler.dense.weight']\n",
      "You should probably TRAIN this model on a down-stream task to be able to use it for predictions and inference.\n"
     ]
    }
   ],
   "source": [
    "tokenizer, _ = get_deberta_model(\n",
    "    num_labels=2,\n",
    "    device=device,\n",
    "    model_dir=DEBERTA_MODEL_DIR,\n",
    "    use_custom_head=False\n",
    ")\n",
    "\n",
    "classifier = AutoModelForSequenceClassification.from_pretrained(CHECKPOINT_PATH).to(device=device)\n",
    "\n",
    "classifier.eval();"
   ]
  },
  {
   "cell_type": "markdown",
   "id": "03a751b3-b13e-49ab-be8b-057d4f6d13dd",
   "metadata": {},
   "source": [
    "## Inference on the MHS test dataset"
   ]
  },
  {
   "cell_type": "code",
   "execution_count": 9,
   "id": "2d7a2c4c-7ceb-4f8a-b070-3af95f634a64",
   "metadata": {},
   "outputs": [
    {
     "name": "stderr",
     "output_type": "stream",
     "text": [
      "/home/moscato/miniconda3/envs/phb/lib/python3.11/site-packages/numpy/_core/fromnumeric.py:57: FutureWarning: 'DataFrame.swapaxes' is deprecated and will be removed in a future version. Please use 'DataFrame.transpose' instead.\n",
      "  return bound(*args, **kwds)\n"
     ]
    },
    {
     "data": {
      "application/vnd.jupyter.widget-view+json": {
       "model_id": "591bd50ca30c4bffbb96ef4b3c603b92",
       "version_major": 2,
       "version_minor": 0
      },
      "text/plain": [
       "  0%|          | 0/26 [00:00<?, ?it/s]"
      ]
     },
     "metadata": {},
     "output_type": "display_data"
    }
   ],
   "source": [
    "test_batch_size = 16\n",
    "\n",
    "predicted_logits_mhs = []\n",
    "\n",
    "for test_batch in tqdm(np.array_split(mhs_test_data, np.ceil(len(mhs_test_data) / test_batch_size))):\n",
    "    with torch.no_grad():\n",
    "        preds_batch = classifier(\n",
    "            **send_batch_to_device(\n",
    "                tokenizer(\n",
    "                    test_batch['text'].tolist(),\n",
    "                    padding='max_length',\n",
    "                    truncation=True,\n",
    "                    max_length=512,\n",
    "                    return_tensors='pt'\n",
    "                ),\n",
    "                device=device,\n",
    "                return_batch=True\n",
    "            )\n",
    "        )['logits']\n",
    "\n",
    "    predicted_logits_mhs.append(preds_batch)\n",
    "\n",
    "predicted_logits_mhs = torch.cat(predicted_logits_mhs)\n",
    "\n",
    "predictions_mhs = predicted_logits_mhs.argmax(dim=-1).cpu().numpy()"
   ]
  },
  {
   "cell_type": "code",
   "execution_count": 29,
   "id": "4ace2917-bd0d-45fe-af42-fc3567175616",
   "metadata": {},
   "outputs": [],
   "source": [
    "PREDICTED_LOGITS_MHS_PATH = '/data1/moscato/personalised-hate-boundaries-data/models/mhs/majority_vote_model_mhs_run_1/checkpoint_200_mhs_test_predicted_logits.pkl'\n",
    "\n",
    "# with open(PREDICTED_LOGITS_MHS_PATH, 'wb') as f:\n",
    "#     pickle.dump(predicted_logits_mhs, f)"
   ]
  },
  {
   "cell_type": "code",
   "execution_count": 12,
   "id": "78bca2c3-6dae-4506-8045-ee1296d22225",
   "metadata": {},
   "outputs": [
    {
     "name": "stdout",
     "output_type": "stream",
     "text": [
      "              precision    recall  f1-score   support\n",
      "\n",
      "           0       0.92      0.89      0.91       293\n",
      "           1       0.75      0.79      0.77       117\n",
      "\n",
      "    accuracy                           0.87       410\n",
      "   macro avg       0.83      0.84      0.84       410\n",
      "weighted avg       0.87      0.87      0.87       410\n",
      "\n"
     ]
    }
   ],
   "source": [
    "print(classification_report(\n",
    "    y_true=mhs_test_data['toxic_score'],\n",
    "    y_pred=predictions_mhs,\n",
    "    output_dict=False\n",
    "))"
   ]
  },
  {
   "cell_type": "markdown",
   "id": "7322f4bf-bce0-4948-aa61-a0cad1fde472",
   "metadata": {},
   "source": [
    "## Inference on the HateCheck dataset"
   ]
  },
  {
   "cell_type": "code",
   "execution_count": 13,
   "id": "0078248a-4689-4a48-a068-24a9e96aa802",
   "metadata": {},
   "outputs": [
    {
     "name": "stderr",
     "output_type": "stream",
     "text": [
      "/home/moscato/miniconda3/envs/phb/lib/python3.11/site-packages/numpy/_core/fromnumeric.py:57: FutureWarning: 'DataFrame.swapaxes' is deprecated and will be removed in a future version. Please use 'DataFrame.transpose' instead.\n",
      "  return bound(*args, **kwds)\n"
     ]
    },
    {
     "data": {
      "application/vnd.jupyter.widget-view+json": {
       "model_id": "45dad696aa6b43e3900d97eb71f832de",
       "version_major": 2,
       "version_minor": 0
      },
      "text/plain": [
       "  0%|          | 0/233 [00:00<?, ?it/s]"
      ]
     },
     "metadata": {},
     "output_type": "display_data"
    }
   ],
   "source": [
    "test_batch_size = 16\n",
    "\n",
    "predicted_logits = []\n",
    "\n",
    "for test_batch in tqdm(np.array_split(hatecheck_data, np.ceil(len(hatecheck_data) / test_batch_size))):\n",
    "    with torch.no_grad():\n",
    "        preds_batch = classifier(\n",
    "            **send_batch_to_device(\n",
    "                tokenizer(\n",
    "                    test_batch['test_case'].tolist(),\n",
    "                    padding='max_length',\n",
    "                    truncation=True,\n",
    "                    max_length=512,\n",
    "                    return_tensors='pt'\n",
    "                ),\n",
    "                device=device,\n",
    "                return_batch=True\n",
    "            )\n",
    "        )['logits']\n",
    "\n",
    "    predicted_logits.append(preds_batch)\n",
    "\n",
    "predicted_logits = torch.cat(predicted_logits)"
   ]
  },
  {
   "cell_type": "code",
   "execution_count": 25,
   "id": "70fd6c59-4e32-4830-b82b-2510a9e3ad99",
   "metadata": {},
   "outputs": [
    {
     "name": "stdout",
     "output_type": "stream",
     "text": [
      "              precision    recall  f1-score   support\n",
      "\n",
      "           0       0.35      0.92      0.50      1165\n",
      "           1       0.85      0.21      0.34      2563\n",
      "\n",
      "    accuracy                           0.43      3728\n",
      "   macro avg       0.60      0.57      0.42      3728\n",
      "weighted avg       0.70      0.43      0.39      3728\n",
      "\n"
     ]
    }
   ],
   "source": [
    "print(classification_report(\n",
    "    y_true=hatecheck_data['label_gold'].map({'hateful': 1, 'non-hateful': 0}).values,\n",
    "    y_pred=predicted_logits.argmax(dim=-1).cpu().numpy()\n",
    "))"
   ]
  },
  {
   "cell_type": "code",
   "execution_count": 7,
   "id": "87d8041e-863e-4529-96d6-b47507b9b910",
   "metadata": {},
   "outputs": [],
   "source": [
    "PREDICTED_LOGITS_PATH = '/data1/moscato/personalised-hate-boundaries-data/models/mhs/majority_vote_model_mhs_run_1/checkpoint_200_hatecheck_predicted_logits.pkl'\n",
    "\n",
    "# with open(PREDICTED_LOGITS_PATH, 'wb') as f:\n",
    "#     pickle.dump(predicted_logits, f)"
   ]
  }
 ],
 "metadata": {
  "kernelspec": {
   "display_name": "Python 3 (ipykernel)",
   "language": "python",
   "name": "python3"
  },
  "language_info": {
   "codemirror_mode": {
    "name": "ipython",
    "version": 3
   },
   "file_extension": ".py",
   "mimetype": "text/x-python",
   "name": "python",
   "nbconvert_exporter": "python",
   "pygments_lexer": "ipython3",
   "version": "3.11.10"
  }
 },
 "nbformat": 4,
 "nbformat_minor": 5
}
