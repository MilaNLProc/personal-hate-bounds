{
 "cells": [
  {
   "cell_type": "markdown",
   "id": "f9ed18c4-3a8c-4646-a17f-d2c8ebb8593f",
   "metadata": {},
   "source": [
    "# Alternative dataset test"
   ]
  },
  {
   "cell_type": "markdown",
   "id": "d2fea970-42fe-4eda-87c0-96a5cadc0130",
   "metadata": {},
   "source": [
    "__Objective:__ test the training pipeline with another dataset."
   ]
  },
  {
   "cell_type": "code",
   "execution_count": null,
   "id": "98d53026-7b02-40e5-9398-cffbfb44e3e1",
   "metadata": {},
   "outputs": [],
   "source": [
    "import os\n",
    "import sys\n",
    "import pandas as pd\n",
    "import torch\n",
    "import datasets\n",
    "import transformers\n",
    "\n",
    "sys.path.append('../../modules/')\n",
    "\n",
    "from model_utils import get_deberta_model\n",
    "from training_metrics import compute_metrics_sklearn\n",
    "\n",
    "device = torch.device(\"cuda:1\" if torch.cuda.is_available() else \"cpu\")\n",
    "\n",
    "%load_ext autoreload\n",
    "%autoreload 2"
   ]
  },
  {
   "cell_type": "markdown",
   "id": "4f9d6fa2-7d9d-4c36-bcf2-7830bf000465",
   "metadata": {},
   "source": [
    "Load data."
   ]
  },
  {
   "cell_type": "code",
   "execution_count": null,
   "id": "04036f8d-1521-438d-b52a-50577e362374",
   "metadata": {},
   "outputs": [],
   "source": [
    "DATA_DIR = '/data1/moscato/personalised-hate-boundaries-data/data/hateval2019/'\n",
    "\n",
    "language = 'en'  # 'en' or 'es'.\n",
    "partition = 'train'  # 'dev', 'test' or 'train'.\n",
    "\n",
    "training_data_df = pd.read_csv(os.path.join(DATA_DIR, f'hateval2019_{language}_{partition}.csv'))[['text', 'HS']].rename(columns={'HS': 'label'})\n",
    "\n",
    "language = 'en'  # 'en' or 'es'.\n",
    "partition = 'test'  # 'dev', 'test' or 'train'.\n",
    "\n",
    "test_data_df = pd.read_csv(os.path.join(DATA_DIR, f'hateval2019_{language}_{partition}.csv'))[['text', 'HS']].rename(columns={'HS': 'label'})\n",
    "\n",
    "training_data_df"
   ]
  },
  {
   "cell_type": "code",
   "execution_count": null,
   "id": "aef2669c-9764-4d1f-9f78-9beddde46369",
   "metadata": {},
   "outputs": [],
   "source": [
    "train_ds = datasets.Dataset.from_dict(\n",
    "    training_data_df\n",
    "    .to_dict(orient='list')\n",
    ")\n",
    "test_ds = datasets.Dataset.from_dict(\n",
    "    test_data_df\n",
    "    .to_dict(orient='list')\n",
    ")\n",
    "\n",
    "len(train_ds), len(test_ds)"
   ]
  },
  {
   "cell_type": "markdown",
   "id": "25a8f4e1-d24e-41e1-93a3-d60577447200",
   "metadata": {},
   "source": [
    "Load model."
   ]
  },
  {
   "cell_type": "code",
   "execution_count": null,
   "id": "7420ef4d-1a72-4a2d-b28c-b7714d98294a",
   "metadata": {},
   "outputs": [],
   "source": [
    "num_labels = training_data_df['label'].unique().shape[0]\n",
    "\n",
    "tokenizer, classifier = get_deberta_model(\n",
    "    num_labels,\n",
    "    '/data1/shared_models/',\n",
    "    device,\n",
    "    use_custom_head=False,\n",
    "    pooler_out_features=768,\n",
    "    pooler_drop_prob=0.,\n",
    "    classifier_drop_prob=0.1,\n",
    "    use_fast_tokenizer=True\n",
    ")\n",
    "\n",
    "tokenizer"
   ]
  },
  {
   "cell_type": "markdown",
   "id": "912751b8-4536-4c9b-8bf4-607fd6b142db",
   "metadata": {},
   "source": [
    "Tokenizer text."
   ]
  },
  {
   "cell_type": "code",
   "execution_count": null,
   "id": "25d72aa4-3e49-45f9-a304-cfabc8516fb6",
   "metadata": {},
   "outputs": [],
   "source": [
    "def tokenize_function(examples):\n",
    "    return tokenizer(\n",
    "        examples[\"text\"],\n",
    "        padding='max_length',\n",
    "        truncation=True,\n",
    "        max_length=512,\n",
    "        # return_tensors='pt'\n",
    "    )"
   ]
  },
  {
   "cell_type": "code",
   "execution_count": null,
   "id": "4edf0c56-d49c-4e65-a3d9-4346bc3f5c39",
   "metadata": {},
   "outputs": [],
   "source": [
    "train_ds.map(tokenize_function, batched=True).remove_columns('text')"
   ]
  },
  {
   "cell_type": "code",
   "execution_count": null,
   "id": "4c36f5fc-9cf1-42e1-8d4a-9b4e2b64f117",
   "metadata": {},
   "outputs": [],
   "source": [
    "tokenized_train_ds = train_ds.map(tokenize_function, batched=True).remove_columns('text')\n",
    "tokenized_test_ds = test_ds.map(tokenize_function, batched=True).remove_columns('text')"
   ]
  },
  {
   "cell_type": "code",
   "execution_count": null,
   "id": "95de4fd3-7b53-4884-a910-f2c27565df59",
   "metadata": {},
   "outputs": [],
   "source": [
    "n_params_total = sum([p.numel() for p in classifier.parameters()])\n",
    "n_params_trainable = sum([p.numel() for p in classifier.parameters() if p.requires_grad])\n",
    "\n",
    "print(\n",
    "    f'N params: {n_params_total} | N trainable params: {n_params_trainable}'\n",
    ")\n",
    "\n",
    "classifier.train();"
   ]
  },
  {
   "cell_type": "code",
   "execution_count": null,
   "id": "098391ba-a2cb-461b-b4b9-628939b5d231",
   "metadata": {},
   "outputs": [],
   "source": [
    "EXPERIMENT_ID = 'hateval_data_model_test'\n",
    "MODEL_OUTPUT_DIR = f'/data1/moscato/personalised-hate-boundaries-data/models/{EXPERIMENT_ID}/'\n",
    "N_EPOCHS = 10\n",
    "\n",
    "training_args = transformers.TrainingArguments(\n",
    "    output_dir=MODEL_OUTPUT_DIR,\n",
    "    eval_strategy=\"epoch\",\n",
    "    save_strategy=\"epoch\",  # Options: 'no', 'epoch', 'steps' (requires the `save_steps` argument to be set though).\n",
    "    save_total_limit=2,\n",
    "    load_best_model_at_end=True,\n",
    "    learning_rate=1e-4,\n",
    "    per_device_train_batch_size=32,  # Default: 8.\n",
    "    gradient_accumulation_steps=1,  # Default: 1.\n",
    "    per_device_eval_batch_size=32,  # Default: 8.\n",
    "    num_train_epochs=N_EPOCHS,\n",
    "    warmup_ratio=0.0,  # For linear warmup of learning rate.\n",
    "    metric_for_best_model=\"f1\",\n",
    "    push_to_hub=False,\n",
    "    logging_strategy='no',\n",
    "    logging_first_step=True,\n",
    "    logging_dir=f'../tensorboard_logs/{EXPERIMENT_ID}/',\n",
    "    disable_tqdm=False\n",
    ")\n",
    "\n",
    "trainer = transformers.Trainer(\n",
    "    model=classifier,\n",
    "    args=training_args,\n",
    "    train_dataset=tokenized_train_ds,\n",
    "    eval_dataset=tokenized_test_ds,\n",
    "    compute_metrics=compute_metrics_sklearn,\n",
    ")"
   ]
  },
  {
   "cell_type": "code",
   "execution_count": null,
   "id": "cad05bbf-c9e5-4c1b-8d39-4e1ab9879e97",
   "metadata": {},
   "outputs": [],
   "source": [
    "training_output = trainer.train()"
   ]
  }
 ],
 "metadata": {
  "kernelspec": {
   "display_name": "Python 3 (ipykernel)",
   "language": "python",
   "name": "python3"
  },
  "language_info": {
   "codemirror_mode": {
    "name": "ipython",
    "version": 3
   },
   "file_extension": ".py",
   "mimetype": "text/x-python",
   "name": "python",
   "nbconvert_exporter": "python",
   "pygments_lexer": "ipython3",
   "version": "3.11.10"
  }
 },
 "nbformat": 4,
 "nbformat_minor": 5
}
