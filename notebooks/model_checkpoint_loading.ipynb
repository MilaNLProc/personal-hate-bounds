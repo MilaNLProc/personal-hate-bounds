{
 "cells": [
  {
   "cell_type": "markdown",
   "id": "4eb14d18-a2d4-4721-ace2-5023d9d82e15",
   "metadata": {},
   "source": [
    "# Explore trained models"
   ]
  },
  {
   "cell_type": "code",
   "execution_count": null,
   "id": "790dfdec-4d8e-4bf9-bb71-7c15192a6b14",
   "metadata": {},
   "outputs": [],
   "source": [
    "import os\n",
    "from transformers import AutoModelForSequenceClassification, AutoTokenizer"
   ]
  },
  {
   "cell_type": "code",
   "execution_count": null,
   "id": "21584adc-6975-47d9-8e80-5d39d33287e8",
   "metadata": {},
   "outputs": [],
   "source": [
    "# MODEL_DIR = '/data/milanlp/moscato/personal_hate_bounds_data/trained_models/majority_vote_models/majority_vote_model_v1/'\n",
    "MODEL_DIR = '/data1/moscato/personalised-hate-boundaries-data/models/majority_vote_model_binarized_labels_test/'"
   ]
  },
  {
   "cell_type": "code",
   "execution_count": null,
   "id": "dd987f03-0e40-4403-94de-69aa4b18f505",
   "metadata": {},
   "outputs": [],
   "source": [
    "checkpoint_steps = sorted([int(dirname.split('-')[-1]) for dirname in os.listdir(MODEL_DIR) if 'checkpoint' in dirname])\n",
    "checkpoints = [f'checkpoint-{n_steps}' for n_steps in checkpoint_steps]\n",
    "\n",
    "checkpoints"
   ]
  },
  {
   "cell_type": "code",
   "execution_count": null,
   "id": "e8d2f292-3918-4bce-bd99-766bcd4ccb18",
   "metadata": {},
   "outputs": [],
   "source": [
    "classifier = AutoModelForSequenceClassification.from_pretrained(os.path.join(MODEL_DIR, checkpoints[-1]))"
   ]
  },
  {
   "cell_type": "code",
   "execution_count": null,
   "id": "e426db0b-d7cc-45e6-a04a-4e6c93111d17",
   "metadata": {},
   "outputs": [],
   "source": [
    "classifier"
   ]
  }
 ],
 "metadata": {
  "kernelspec": {
   "display_name": "Python 3 (ipykernel)",
   "language": "python",
   "name": "python3"
  },
  "language_info": {
   "codemirror_mode": {
    "name": "ipython",
    "version": 3
   },
   "file_extension": ".py",
   "mimetype": "text/x-python",
   "name": "python",
   "nbconvert_exporter": "python",
   "pygments_lexer": "ipython3",
   "version": "3.11.10"
  }
 },
 "nbformat": 4,
 "nbformat_minor": 5
}
