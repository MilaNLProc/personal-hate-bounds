{
 "cells": [
  {
   "cell_type": "markdown",
   "id": "f2f50c3c-ccf0-45a2-8069-2726f90e7a42",
   "metadata": {},
   "source": [
    "# Test the PyTorch training routine"
   ]
  },
  {
   "cell_type": "code",
   "execution_count": 1,
   "id": "d0835207-27a8-4b1f-a2b3-6f9bb0d87c59",
   "metadata": {},
   "outputs": [
    {
     "name": "stderr",
     "output_type": "stream",
     "text": [
      "/home/Moscato/.conda/envs/phb/lib/python3.11/site-packages/tqdm/auto.py:21: TqdmWarning: IProgress not found. Please update jupyter and ipywidgets. See https://ipywidgets.readthedocs.io/en/stable/user_install.html\n",
      "  from .autonotebook import tqdm as notebook_tqdm\n"
     ]
    }
   ],
   "source": [
    "import sys\n",
    "import torch\n",
    "from sklearn.model_selection import train_test_split\n",
    "import datasets\n",
    "\n",
    "sys.path.append('../modules/')\n",
    "\n",
    "from custom_logger import get_logger\n",
    "from data_utils import generate_aggregated_labels_dataset\n",
    "from model_utils import get_deberta_model\n",
    "from training import train_model\n",
    "\n",
    "logger = get_logger('majority_vote_fine_tuning')\n",
    "\n",
    "device = torch.device(\"cuda\" if torch.cuda.is_available() else \"cpu\")\n",
    "\n",
    "%load_ext autoreload\n",
    "%autoreload 2"
   ]
  },
  {
   "cell_type": "markdown",
   "id": "85d993e4-b6ae-4432-80b8-09b7aa91bc3c",
   "metadata": {},
   "source": [
    "Load data."
   ]
  },
  {
   "cell_type": "code",
   "execution_count": 2,
   "id": "586ad718-ac4c-4c09-b80e-6a676be53a58",
   "metadata": {},
   "outputs": [
    {
     "name": "stderr",
     "output_type": "stream",
     "text": [
      "2025-01-09 17:42:39,511 - majority_vote_fine_tuning - INFO - Reading kumar dataset from: /data/milanlp/moscato/personal_hate_bounds_data/kumar_processed_with_ID_and_full_perspective_clean.csv\n",
      "/home/Moscato/projects/personal-hate-bounds/notebooks/../modules/data_utils.py:28: DtypeWarning: Columns (20) have mixed types. Specify dtype option on import or set low_memory=False.\n",
      "  data_df = pd.read_csv(dataset_path)\n",
      "/home/Moscato/projects/personal-hate-bounds/notebooks/../modules/data_utils.py:44: DtypeWarning: Columns (20) have mixed types. Specify dtype option on import or set low_memory=False.\n",
      "  data_df = pd.read_csv(dataset_path)[['comment_id', 'source', 'comment', 'toxic_score']]\n",
      "2025-01-09 17:42:47,472 - majority_vote_fine_tuning - INFO - Binarizing labels\n"
     ]
    }
   ],
   "source": [
    "# Read data.\n",
    "DATASET_PATHS = {\n",
    "    'popquorn': '../data/samples/POPQUORN_offensiveness.csv',\n",
    "    # 'kumar': '/data1/moscato/personalised-hate-boundaries-data/data/kumar_perspective_clean/kumar_processed_with_ID_and_full_perspective_clean.csv'\n",
    "    'kumar': '/data/milanlp/moscato/personal_hate_bounds_data/kumar_processed_with_ID_and_full_perspective_clean.csv'\n",
    "}\n",
    "\n",
    "DATASET_NAME = 'kumar'\n",
    "BINARIZE_LABELS = True\n",
    "SUBSAMPLE_MAJORITY_CLASS = False\n",
    "\n",
    "majority_vote_data_df = generate_aggregated_labels_dataset(\n",
    "    DATASET_NAME,\n",
    "    DATASET_PATHS[DATASET_NAME],\n",
    "    binarize_labels=BINARIZE_LABELS,\n",
    "    subsample_majority_class=SUBSAMPLE_MAJORITY_CLASS\n",
    ")"
   ]
  },
  {
   "cell_type": "code",
   "execution_count": 3,
   "id": "b17ab190-3f25-45a1-bce1-7c9d74e1fed7",
   "metadata": {},
   "outputs": [
    {
     "name": "stderr",
     "output_type": "stream",
     "text": [
      "2025-01-09 17:43:18,202 - majority_vote_fine_tuning - INFO - Splitting training and test dataset (test_frac: 0.25)\n"
     ]
    },
    {
     "data": {
      "text/plain": [
       "(100, 100)"
      ]
     },
     "execution_count": 3,
     "metadata": {},
     "output_type": "execute_result"
    }
   ],
   "source": [
    "# Train-test split.\n",
    "test_frac = 0.25\n",
    "\n",
    "logger.info(f'Splitting training and test dataset (test_frac: {test_frac})')\n",
    "\n",
    "training_data, test_data, training_labels, test_labels = train_test_split(\n",
    "    majority_vote_data_df[['instance_id', 'text']],\n",
    "    majority_vote_data_df['label'],\n",
    "    test_size=test_frac,\n",
    "    shuffle=True,\n",
    "    stratify=majority_vote_data_df['label']\n",
    ")\n",
    "\n",
    "training_data['label'] = training_labels\n",
    "test_data['label'] = test_labels\n",
    "\n",
    "training_data = training_data.reset_index(drop=True)\n",
    "test_data = test_data.reset_index(drop=True)\n",
    "\n",
    "del training_labels, test_labels\n",
    "\n",
    "# Check.\n",
    "assert len(set(test_data['instance_id']) & set(training_data['instance_id'])) == 0\n",
    "\n",
    "train_ds = datasets.Dataset.from_dict(\n",
    "    training_data.drop(columns=['instance_id'])\n",
    "    .iloc[:100]  # For testing!\n",
    "    .to_dict(orient='list')\n",
    ")\n",
    "test_ds = datasets.Dataset.from_dict(\n",
    "    test_data.drop(columns=['instance_id'])\n",
    "    .iloc[:100]  # For testing!\n",
    "    .to_dict(orient='list')\n",
    ")\n",
    "\n",
    "len(train_ds), len(test_ds)"
   ]
  },
  {
   "cell_type": "markdown",
   "id": "10e12a57-bcc8-4e92-bd44-a57b97c8511e",
   "metadata": {},
   "source": [
    "Load model."
   ]
  },
  {
   "cell_type": "code",
   "execution_count": 37,
   "id": "be78c01c-ae42-4abf-80a0-0f6dedad84c4",
   "metadata": {},
   "outputs": [
    {
     "name": "stderr",
     "output_type": "stream",
     "text": [
      "2025-01-09 18:00:08,809 - majority_vote_fine_tuning - INFO - Number of labels found: 2\n",
      "2025-01-09 18:00:08,810 - majority_vote_fine_tuning - INFO - Instantiating DeBERTa tokenizer\n",
      "/home/Moscato/.conda/envs/phb/lib/python3.11/site-packages/transformers/convert_slow_tokenizer.py:561: UserWarning: The sentencepiece tokenizer that you are converting to a fast tokenizer uses the byte fallback option which is not implemented in the fast tokenizers. In practice this means that the fast version of the tokenizer can produce unknown tokens whereas the sentencepiece version would have converted these unknown tokens into a sequence of byte tokens matching the original piece of text.\n",
      "  warnings.warn(\n",
      "2025-01-09 18:00:09,913 - majority_vote_fine_tuning - INFO - Instantiating DeBERTa model with default classification head\n",
      "Some weights of DebertaV2ForSequenceClassification were not initialized from the model checkpoint at microsoft/deberta-v3-base and are newly initialized: ['classifier.bias', 'classifier.weight', 'pooler.dense.bias', 'pooler.dense.weight']\n",
      "You should probably TRAIN this model on a down-stream task to be able to use it for predictions and inference.\n"
     ]
    }
   ],
   "source": [
    "num_labels = majority_vote_data_df['label'].unique().shape[0]\n",
    "\n",
    "logger.info(f'Number of labels found: {num_labels}')\n",
    "\n",
    "tokenizer, classifier = get_deberta_model(\n",
    "    num_labels,\n",
    "    '/data/milanlp/huggingface/hub/',\n",
    "    device,\n",
    "    use_custom_head=False,\n",
    "    pooler_out_features=768,\n",
    "    pooler_drop_prob=0.,\n",
    "    classifier_drop_prob=0.1\n",
    ")"
   ]
  },
  {
   "cell_type": "code",
   "execution_count": 38,
   "id": "1090101b-fa93-452d-808d-cedd98a29d88",
   "metadata": {},
   "outputs": [
    {
     "data": {
      "text/plain": [
       "(SequenceClassifierOutput(loss=tensor(0.6971, device='cuda:0'), logits=tensor([[-0.0830,  0.0846],\n",
       "         [-0.0841,  0.0908],\n",
       "         [-0.0787,  0.0867],\n",
       "         [-0.0822,  0.0925]], device='cuda:0'), hidden_states=None, attentions=None),\n",
       " tensor([1, 1, 1, 1], device='cuda:0'))"
      ]
     },
     "execution_count": 38,
     "metadata": {},
     "output_type": "execute_result"
    }
   ],
   "source": [
    "# Test.\n",
    "with torch.no_grad():\n",
    "    output = classifier(**dict(\n",
    "        **tokenizer(\n",
    "            majority_vote_data_df['text'].iloc[:4].tolist(),\n",
    "            return_tensors='pt',\n",
    "            padding='max_length',\n",
    "            truncation=True,\n",
    "            max_length=512\n",
    "        ).to(device=device),\n",
    "        **{'labels': torch.LongTensor(majority_vote_data_df['label'].iloc[:4]).to(device=device)}\n",
    "    ))\n",
    "\n",
    "output, torch.argmax(output.logits, dim=-1)"
   ]
  },
  {
   "cell_type": "markdown",
   "id": "29d39008-f7bb-452d-9293-4141d7303e66",
   "metadata": {},
   "source": [
    "Explore the Hugging Face `Dataset` object."
   ]
  },
  {
   "cell_type": "code",
   "execution_count": 6,
   "id": "7dae36d8-12df-4b17-9d83-ed477b805490",
   "metadata": {},
   "outputs": [],
   "source": [
    "def tokenize_function(examples):\n",
    "    return tokenizer(\n",
    "        examples[\"text\"],\n",
    "        padding='max_length',\n",
    "        truncation=True,\n",
    "        max_length=512,\n",
    "        return_tensors='pt'\n",
    "    )"
   ]
  },
  {
   "cell_type": "code",
   "execution_count": 7,
   "id": "3fc74914-d7ec-4192-a962-4e0684ce353f",
   "metadata": {},
   "outputs": [
    {
     "name": "stderr",
     "output_type": "stream",
     "text": [
      "2025-01-09 17:43:32,796 - majority_vote_fine_tuning - INFO - Tokenizing datasets\n",
      "Map: 100%|██████████| 100/100 [00:00<00:00, 2907.68 examples/s]\n",
      "Map: 100%|██████████| 100/100 [00:00<00:00, 3328.10 examples/s]\n",
      "2025-01-09 17:43:32,894 - majority_vote_fine_tuning - INFO - Training dataset size: 100 | Test dataset size: 100\n"
     ]
    }
   ],
   "source": [
    "# Tokenize datasets.\n",
    "logger.info(f'Tokenizing datasets')\n",
    "\n",
    "tokenized_train_ds = train_ds.map(tokenize_function, batched=True)\n",
    "tokenized_test_ds = test_ds.map(tokenize_function, batched=True)\n",
    "\n",
    "tokenized_train_ds.select_columns(['label', 'input_ids', 'token_type_ids', 'attention_mask'])\n",
    "tokenized_test_ds.select_columns(['label', 'input_ids', 'token_type_ids', 'attention_mask'])\n",
    "\n",
    "tokenized_train_ds.set_format(type=\"torch\", columns=[\"input_ids\", \"token_type_ids\", \"attention_mask\", \"label\"])\n",
    "tokenized_test_ds.set_format(type=\"torch\", columns=[\"input_ids\", \"token_type_ids\", \"attention_mask\", \"label\"])\n",
    "\n",
    "logger.info(f'Training dataset size: {len(train_ds)} | Test dataset size: {len(test_ds)}')"
   ]
  },
  {
   "cell_type": "markdown",
   "id": "a8c97a34-a1b0-4622-9e82-0634537ec4d8",
   "metadata": {},
   "source": [
    "Testing..."
   ]
  },
  {
   "cell_type": "code",
   "execution_count": 39,
   "id": "482a5826-0fc9-41a3-86c0-027c8a119561",
   "metadata": {},
   "outputs": [],
   "source": [
    "training_loader = torch.utils.data.DataLoader(\n",
    "    tokenized_train_ds.select_columns(['label', 'input_ids', 'token_type_ids', 'attention_mask']),\n",
    "    batch_size=16,\n",
    "    shuffle=False,\n",
    "    drop_last=True\n",
    ")"
   ]
  },
  {
   "cell_type": "code",
   "execution_count": 40,
   "id": "21b1affe-8906-4ae1-8a80-6502fb47f6d5",
   "metadata": {},
   "outputs": [],
   "source": [
    "for batch in training_loader:\n",
    "    break"
   ]
  },
  {
   "cell_type": "code",
   "execution_count": 10,
   "id": "c98e2949-a513-442d-8e2e-46e065b0d240",
   "metadata": {},
   "outputs": [
    {
     "data": {
      "text/plain": [
       "torch.Size([16, 512])"
      ]
     },
     "execution_count": 10,
     "metadata": {},
     "output_type": "execute_result"
    }
   ],
   "source": [
    "batch['input_ids'].shape"
   ]
  },
  {
   "cell_type": "code",
   "execution_count": 11,
   "id": "1863c56c-3d22-4b8a-af84-96100108da81",
   "metadata": {},
   "outputs": [],
   "source": [
    "del batch['label']"
   ]
  },
  {
   "cell_type": "code",
   "execution_count": 12,
   "id": "d2540b85-2ded-4be4-aa04-0ac3920490b2",
   "metadata": {},
   "outputs": [
    {
     "data": {
      "text/plain": [
       "512"
      ]
     },
     "execution_count": 12,
     "metadata": {},
     "output_type": "execute_result"
    }
   ],
   "source": [
    "len(batch['input_ids'][0])"
   ]
  },
  {
   "cell_type": "code",
   "execution_count": 13,
   "id": "a4a88313-4b34-4560-ae3f-154b51fed912",
   "metadata": {},
   "outputs": [
    {
     "data": {
      "text/plain": [
       "tensor([[-5.0253e-03,  8.5493e-02],\n",
       "        [ 9.4846e-03,  9.8303e-02],\n",
       "        [ 2.7217e-05,  8.6337e-02],\n",
       "        [ 1.2943e-02,  8.1998e-02],\n",
       "        [ 1.6069e-02,  8.9428e-02],\n",
       "        [-8.3315e-03,  9.3504e-02],\n",
       "        [ 5.9937e-03,  9.0166e-02],\n",
       "        [-2.8528e-03,  9.1676e-02],\n",
       "        [ 1.0890e-02,  8.7718e-02],\n",
       "        [-6.4909e-03,  8.9493e-02],\n",
       "        [ 1.4984e-03,  9.1422e-02],\n",
       "        [-2.3769e-03,  9.3704e-02],\n",
       "        [ 3.4288e-03,  9.0062e-02],\n",
       "        [-2.8969e-03,  8.6417e-02],\n",
       "        [ 1.3292e-02,  8.3348e-02],\n",
       "        [ 9.5658e-03,  9.1117e-02]], device='cuda:0')"
      ]
     },
     "execution_count": 13,
     "metadata": {},
     "output_type": "execute_result"
    }
   ],
   "source": [
    "# Simulation of the training loop.\n",
    "\n",
    "from pytorch_utils import send_batch_to_device\n",
    "\n",
    "for i, batch in enumerate(training_loader):\n",
    "    send_batch_to_device(batch, device)\n",
    "\n",
    "    training_targets = batch['label']\n",
    "\n",
    "    del batch['label']\n",
    "\n",
    "    training_batch = batch\n",
    "\n",
    "    with torch.no_grad():\n",
    "        pred = classifier(**training_batch).logits\n",
    "\n",
    "    break\n",
    "\n",
    "pred"
   ]
  },
  {
   "cell_type": "markdown",
   "id": "f8bf6fee-d57f-4218-9e1f-176cf204beba",
   "metadata": {},
   "source": [
    "Train model."
   ]
  },
  {
   "cell_type": "code",
   "execution_count": 41,
   "id": "de298f44-7ed4-4b05-8760-633d4b612ee9",
   "metadata": {},
   "outputs": [
    {
     "name": "stderr",
     "output_type": "stream",
     "text": [
      "2025-01-09 18:00:32,951 - majority_vote_fine_tuning - INFO - Training model\n"
     ]
    },
    {
     "name": "stdout",
     "output_type": "stream",
     "text": [
      "Computing initial metrics\n"
     ]
    },
    {
     "name": "stderr",
     "output_type": "stream",
     "text": [
      "/home/Moscato/.conda/envs/phb/lib/python3.11/site-packages/sklearn/metrics/_classification.py:1531: UndefinedMetricWarning: Precision is ill-defined and being set to 0.0 in labels with no predicted samples. Use `zero_division` parameter to control this behavior.\n",
      "  _warn_prf(average, modifier, f\"{metric.capitalize()} is\", len(result))\n",
      "2025-01-09 18:00:33,996 - majority_vote_fine_tuning - INFO - Epoch: 0 | training_loss: 0.733799397945404 | training_accuracy: 0.2708333333333333 | training_precision: 0.46068548387096775 | training_recall: 0.5133547008547009 | training_f1: 0.22747421414088084 | learning_rate: 0.0001\n",
      "  0%|          | 0/50 [00:00<?, ?it/s]/home/Moscato/.conda/envs/phb/lib/python3.11/site-packages/sklearn/metrics/_classification.py:1531: UndefinedMetricWarning: Precision is ill-defined and being set to 0.0 in labels with no predicted samples. Use `zero_division` parameter to control this behavior.\n",
      "  _warn_prf(average, modifier, f\"{metric.capitalize()} is\", len(result))\n",
      "/home/Moscato/.conda/envs/phb/lib/python3.11/site-packages/sklearn/metrics/_classification.py:1531: UndefinedMetricWarning: Precision is ill-defined and being set to 0.0 in labels with no predicted samples. Use `zero_division` parameter to control this behavior.\n",
      "  _warn_prf(average, modifier, f\"{metric.capitalize()} is\", len(result))\n",
      "/home/Moscato/.conda/envs/phb/lib/python3.11/site-packages/sklearn/metrics/_classification.py:1531: UndefinedMetricWarning: Precision is ill-defined and being set to 0.0 in labels with no predicted samples. Use `zero_division` parameter to control this behavior.\n",
      "  _warn_prf(average, modifier, f\"{metric.capitalize()} is\", len(result))\n",
      "  2%|▏         | 1/50 [00:02<02:16,  2.79s/it, learning_rate=0.0001, training_accuracy=0.24, training_f1=0.192, training_loss=tensor(0.6508), training_precision=0.12, training_recall=0.5]/home/Moscato/.conda/envs/phb/lib/python3.11/site-packages/sklearn/metrics/_classification.py:1531: UndefinedMetricWarning: Precision is ill-defined and being set to 0.0 in labels with no predicted samples. Use `zero_division` parameter to control this behavior.\n",
      "  _warn_prf(average, modifier, f\"{metric.capitalize()} is\", len(result))\n",
      "/home/Moscato/.conda/envs/phb/lib/python3.11/site-packages/sklearn/metrics/_classification.py:1531: UndefinedMetricWarning: Precision is ill-defined and being set to 0.0 in labels with no predicted samples. Use `zero_division` parameter to control this behavior.\n",
      "  _warn_prf(average, modifier, f\"{metric.capitalize()} is\", len(result))\n",
      "/home/Moscato/.conda/envs/phb/lib/python3.11/site-packages/sklearn/metrics/_classification.py:1531: UndefinedMetricWarning: Precision is ill-defined and being set to 0.0 in labels with no predicted samples. Use `zero_division` parameter to control this behavior.\n",
      "  _warn_prf(average, modifier, f\"{metric.capitalize()} is\", len(result))\n",
      "  4%|▍         | 2/50 [00:05<02:13,  2.79s/it, learning_rate=0.0001, training_accuracy=0.24, training_f1=0.193, training_loss=tensor(0.5338), training_precision=0.12, training_recall=0.5]/home/Moscato/.conda/envs/phb/lib/python3.11/site-packages/sklearn/metrics/_classification.py:1531: UndefinedMetricWarning: Precision is ill-defined and being set to 0.0 in labels with no predicted samples. Use `zero_division` parameter to control this behavior.\n",
      "  _warn_prf(average, modifier, f\"{metric.capitalize()} is\", len(result))\n",
      "/home/Moscato/.conda/envs/phb/lib/python3.11/site-packages/sklearn/metrics/_classification.py:1531: UndefinedMetricWarning: Precision is ill-defined and being set to 0.0 in labels with no predicted samples. Use `zero_division` parameter to control this behavior.\n",
      "  _warn_prf(average, modifier, f\"{metric.capitalize()} is\", len(result))\n",
      "/home/Moscato/.conda/envs/phb/lib/python3.11/site-packages/sklearn/metrics/_classification.py:1531: UndefinedMetricWarning: Precision is ill-defined and being set to 0.0 in labels with no predicted samples. Use `zero_division` parameter to control this behavior.\n",
      "  _warn_prf(average, modifier, f\"{metric.capitalize()} is\", len(result))\n",
      "  6%|▌         | 3/50 [00:08<02:11,  2.79s/it, learning_rate=0.0001, training_accuracy=0.25, training_f1=0.198, training_loss=tensor(0.5219), training_precision=0.125, training_recall=0.5]/home/Moscato/.conda/envs/phb/lib/python3.11/site-packages/sklearn/metrics/_classification.py:1531: UndefinedMetricWarning: Precision is ill-defined and being set to 0.0 in labels with no predicted samples. Use `zero_division` parameter to control this behavior.\n",
      "  _warn_prf(average, modifier, f\"{metric.capitalize()} is\", len(result))\n",
      "/home/Moscato/.conda/envs/phb/lib/python3.11/site-packages/sklearn/metrics/_classification.py:1531: UndefinedMetricWarning: Precision is ill-defined and being set to 0.0 in labels with no predicted samples. Use `zero_division` parameter to control this behavior.\n",
      "  _warn_prf(average, modifier, f\"{metric.capitalize()} is\", len(result))\n",
      "/home/Moscato/.conda/envs/phb/lib/python3.11/site-packages/sklearn/metrics/_classification.py:1531: UndefinedMetricWarning: Precision is ill-defined and being set to 0.0 in labels with no predicted samples. Use `zero_division` parameter to control this behavior.\n",
      "  _warn_prf(average, modifier, f\"{metric.capitalize()} is\", len(result))\n",
      "  8%|▊         | 4/50 [00:11<02:08,  2.79s/it, learning_rate=0.0001, training_accuracy=0.219, training_f1=0.178, training_loss=tensor(0.3847), training_precision=0.109, training_recall=0.5]/home/Moscato/.conda/envs/phb/lib/python3.11/site-packages/sklearn/metrics/_classification.py:1531: UndefinedMetricWarning: Precision is ill-defined and being set to 0.0 in labels with no predicted samples. Use `zero_division` parameter to control this behavior.\n",
      "  _warn_prf(average, modifier, f\"{metric.capitalize()} is\", len(result))\n",
      "/home/Moscato/.conda/envs/phb/lib/python3.11/site-packages/sklearn/metrics/_classification.py:1531: UndefinedMetricWarning: Precision is ill-defined and being set to 0.0 in labels with no predicted samples. Use `zero_division` parameter to control this behavior.\n",
      "  _warn_prf(average, modifier, f\"{metric.capitalize()} is\", len(result))\n",
      "/home/Moscato/.conda/envs/phb/lib/python3.11/site-packages/sklearn/metrics/_classification.py:1531: UndefinedMetricWarning: Precision is ill-defined and being set to 0.0 in labels with no predicted samples. Use `zero_division` parameter to control this behavior.\n",
      "  _warn_prf(average, modifier, f\"{metric.capitalize()} is\", len(result))\n",
      " 10%|█         | 5/50 [00:13<02:05,  2.79s/it, learning_rate=0.0001, training_accuracy=0.24, training_f1=0.189, training_loss=tensor(0.4071), training_precision=0.12, training_recall=0.5]  /home/Moscato/.conda/envs/phb/lib/python3.11/site-packages/sklearn/metrics/_classification.py:1531: UndefinedMetricWarning: Precision is ill-defined and being set to 0.0 in labels with no predicted samples. Use `zero_division` parameter to control this behavior.\n",
      "  _warn_prf(average, modifier, f\"{metric.capitalize()} is\", len(result))\n",
      "/home/Moscato/.conda/envs/phb/lib/python3.11/site-packages/sklearn/metrics/_classification.py:1531: UndefinedMetricWarning: Precision is ill-defined and being set to 0.0 in labels with no predicted samples. Use `zero_division` parameter to control this behavior.\n",
      "  _warn_prf(average, modifier, f\"{metric.capitalize()} is\", len(result))\n",
      "/home/Moscato/.conda/envs/phb/lib/python3.11/site-packages/sklearn/metrics/_classification.py:1531: UndefinedMetricWarning: Precision is ill-defined and being set to 0.0 in labels with no predicted samples. Use `zero_division` parameter to control this behavior.\n",
      "  _warn_prf(average, modifier, f\"{metric.capitalize()} is\", len(result))\n",
      " 12%|█▏        | 6/50 [00:16<02:02,  2.79s/it, learning_rate=0.0001, training_accuracy=0.219, training_f1=0.177, training_loss=tensor(0.2550), training_precision=0.109, training_recall=0.5]/home/Moscato/.conda/envs/phb/lib/python3.11/site-packages/sklearn/metrics/_classification.py:1531: UndefinedMetricWarning: Precision is ill-defined and being set to 0.0 in labels with no predicted samples. Use `zero_division` parameter to control this behavior.\n",
      "  _warn_prf(average, modifier, f\"{metric.capitalize()} is\", len(result))\n",
      "/home/Moscato/.conda/envs/phb/lib/python3.11/site-packages/sklearn/metrics/_classification.py:1531: UndefinedMetricWarning: Precision is ill-defined and being set to 0.0 in labels with no predicted samples. Use `zero_division` parameter to control this behavior.\n",
      "  _warn_prf(average, modifier, f\"{metric.capitalize()} is\", len(result))\n",
      "/home/Moscato/.conda/envs/phb/lib/python3.11/site-packages/sklearn/metrics/_classification.py:1531: UndefinedMetricWarning: Precision is ill-defined and being set to 0.0 in labels with no predicted samples. Use `zero_division` parameter to control this behavior.\n",
      "  _warn_prf(average, modifier, f\"{metric.capitalize()} is\", len(result))\n",
      " 14%|█▍        | 7/50 [00:19<02:00,  2.79s/it, learning_rate=0.0001, training_accuracy=0.25, training_f1=0.196, training_loss=tensor(0.2040), training_precision=0.125, training_recall=0.5] /home/Moscato/.conda/envs/phb/lib/python3.11/site-packages/sklearn/metrics/_classification.py:1531: UndefinedMetricWarning: Precision is ill-defined and being set to 0.0 in labels with no predicted samples. Use `zero_division` parameter to control this behavior.\n",
      "  _warn_prf(average, modifier, f\"{metric.capitalize()} is\", len(result))\n",
      "/home/Moscato/.conda/envs/phb/lib/python3.11/site-packages/sklearn/metrics/_classification.py:1531: UndefinedMetricWarning: Precision is ill-defined and being set to 0.0 in labels with no predicted samples. Use `zero_division` parameter to control this behavior.\n",
      "  _warn_prf(average, modifier, f\"{metric.capitalize()} is\", len(result))\n",
      "/home/Moscato/.conda/envs/phb/lib/python3.11/site-packages/sklearn/metrics/_classification.py:1531: UndefinedMetricWarning: Precision is ill-defined and being set to 0.0 in labels with no predicted samples. Use `zero_division` parameter to control this behavior.\n",
      "  _warn_prf(average, modifier, f\"{metric.capitalize()} is\", len(result))\n",
      " 16%|█▌        | 8/50 [00:22<01:57,  2.79s/it, learning_rate=0.0001, training_accuracy=0.25, training_f1=0.2, training_loss=tensor(0.1474), training_precision=0.125, training_recall=0.5]  /home/Moscato/.conda/envs/phb/lib/python3.11/site-packages/sklearn/metrics/_classification.py:1531: UndefinedMetricWarning: Precision is ill-defined and being set to 0.0 in labels with no predicted samples. Use `zero_division` parameter to control this behavior.\n",
      "  _warn_prf(average, modifier, f\"{metric.capitalize()} is\", len(result))\n",
      "/home/Moscato/.conda/envs/phb/lib/python3.11/site-packages/sklearn/metrics/_classification.py:1531: UndefinedMetricWarning: Precision is ill-defined and being set to 0.0 in labels with no predicted samples. Use `zero_division` parameter to control this behavior.\n",
      "  _warn_prf(average, modifier, f\"{metric.capitalize()} is\", len(result))\n",
      "/home/Moscato/.conda/envs/phb/lib/python3.11/site-packages/sklearn/metrics/_classification.py:1531: UndefinedMetricWarning: Precision is ill-defined and being set to 0.0 in labels with no predicted samples. Use `zero_division` parameter to control this behavior.\n",
      "  _warn_prf(average, modifier, f\"{metric.capitalize()} is\", len(result))\n",
      " 18%|█▊        | 9/50 [00:25<01:54,  2.79s/it, learning_rate=0.0001, training_accuracy=0.229, training_f1=0.182, training_loss=tensor(0.1022), training_precision=0.115, training_recall=0.5]/home/Moscato/.conda/envs/phb/lib/python3.11/site-packages/sklearn/metrics/_classification.py:1531: UndefinedMetricWarning: Precision is ill-defined and being set to 0.0 in labels with no predicted samples. Use `zero_division` parameter to control this behavior.\n",
      "  _warn_prf(average, modifier, f\"{metric.capitalize()} is\", len(result))\n",
      "/home/Moscato/.conda/envs/phb/lib/python3.11/site-packages/sklearn/metrics/_classification.py:1531: UndefinedMetricWarning: Precision is ill-defined and being set to 0.0 in labels with no predicted samples. Use `zero_division` parameter to control this behavior.\n",
      "  _warn_prf(average, modifier, f\"{metric.capitalize()} is\", len(result))\n",
      "/home/Moscato/.conda/envs/phb/lib/python3.11/site-packages/sklearn/metrics/_classification.py:1531: UndefinedMetricWarning: Precision is ill-defined and being set to 0.0 in labels with no predicted samples. Use `zero_division` parameter to control this behavior.\n",
      "  _warn_prf(average, modifier, f\"{metric.capitalize()} is\", len(result))\n",
      " 20%|██        | 10/50 [00:27<01:51,  2.79s/it, learning_rate=0.0001, training_accuracy=0.25, training_f1=0.199, training_loss=tensor(0.0649), training_precision=0.125, training_recall=0.5]/home/Moscato/.conda/envs/phb/lib/python3.11/site-packages/sklearn/metrics/_classification.py:1531: UndefinedMetricWarning: Precision is ill-defined and being set to 0.0 in labels with no predicted samples. Use `zero_division` parameter to control this behavior.\n",
      "  _warn_prf(average, modifier, f\"{metric.capitalize()} is\", len(result))\n",
      "/home/Moscato/.conda/envs/phb/lib/python3.11/site-packages/sklearn/metrics/_classification.py:1531: UndefinedMetricWarning: Precision is ill-defined and being set to 0.0 in labels with no predicted samples. Use `zero_division` parameter to control this behavior.\n",
      "  _warn_prf(average, modifier, f\"{metric.capitalize()} is\", len(result))\n",
      "/home/Moscato/.conda/envs/phb/lib/python3.11/site-packages/sklearn/metrics/_classification.py:1531: UndefinedMetricWarning: Precision is ill-defined and being set to 0.0 in labels with no predicted samples. Use `zero_division` parameter to control this behavior.\n",
      "  _warn_prf(average, modifier, f\"{metric.capitalize()} is\", len(result))\n",
      " 22%|██▏       | 11/50 [00:30<01:48,  2.79s/it, learning_rate=0.0001, training_accuracy=0.25, training_f1=0.2, training_loss=tensor(0.0417), training_precision=0.125, training_recall=0.5]  /home/Moscato/.conda/envs/phb/lib/python3.11/site-packages/sklearn/metrics/_classification.py:1531: UndefinedMetricWarning: Precision is ill-defined and being set to 0.0 in labels with no predicted samples. Use `zero_division` parameter to control this behavior.\n",
      "  _warn_prf(average, modifier, f\"{metric.capitalize()} is\", len(result))\n",
      "/home/Moscato/.conda/envs/phb/lib/python3.11/site-packages/sklearn/metrics/_classification.py:1531: UndefinedMetricWarning: Precision is ill-defined and being set to 0.0 in labels with no predicted samples. Use `zero_division` parameter to control this behavior.\n",
      "  _warn_prf(average, modifier, f\"{metric.capitalize()} is\", len(result))\n",
      "/home/Moscato/.conda/envs/phb/lib/python3.11/site-packages/sklearn/metrics/_classification.py:1531: UndefinedMetricWarning: Precision is ill-defined and being set to 0.0 in labels with no predicted samples. Use `zero_division` parameter to control this behavior.\n",
      "  _warn_prf(average, modifier, f\"{metric.capitalize()} is\", len(result))\n",
      " 24%|██▍       | 12/50 [00:33<01:46,  2.79s/it, learning_rate=0.0001, training_accuracy=0.25, training_f1=0.2, training_loss=tensor(0.0219), training_precision=0.125, training_recall=0.5]/home/Moscato/.conda/envs/phb/lib/python3.11/site-packages/sklearn/metrics/_classification.py:1531: UndefinedMetricWarning: Precision is ill-defined and being set to 0.0 in labels with no predicted samples. Use `zero_division` parameter to control this behavior.\n",
      "  _warn_prf(average, modifier, f\"{metric.capitalize()} is\", len(result))\n",
      "/home/Moscato/.conda/envs/phb/lib/python3.11/site-packages/sklearn/metrics/_classification.py:1531: UndefinedMetricWarning: Precision is ill-defined and being set to 0.0 in labels with no predicted samples. Use `zero_division` parameter to control this behavior.\n",
      "  _warn_prf(average, modifier, f\"{metric.capitalize()} is\", len(result))\n",
      "/home/Moscato/.conda/envs/phb/lib/python3.11/site-packages/sklearn/metrics/_classification.py:1531: UndefinedMetricWarning: Precision is ill-defined and being set to 0.0 in labels with no predicted samples. Use `zero_division` parameter to control this behavior.\n",
      "  _warn_prf(average, modifier, f\"{metric.capitalize()} is\", len(result))\n",
      " 26%|██▌       | 13/50 [00:36<01:43,  2.79s/it, learning_rate=0.0001, training_accuracy=0.229, training_f1=0.186, training_loss=tensor(0.0197), training_precision=0.115, training_recall=0.5]/home/Moscato/.conda/envs/phb/lib/python3.11/site-packages/sklearn/metrics/_classification.py:1531: UndefinedMetricWarning: Precision is ill-defined and being set to 0.0 in labels with no predicted samples. Use `zero_division` parameter to control this behavior.\n",
      "  _warn_prf(average, modifier, f\"{metric.capitalize()} is\", len(result))\n",
      "/home/Moscato/.conda/envs/phb/lib/python3.11/site-packages/sklearn/metrics/_classification.py:1531: UndefinedMetricWarning: Precision is ill-defined and being set to 0.0 in labels with no predicted samples. Use `zero_division` parameter to control this behavior.\n",
      "  _warn_prf(average, modifier, f\"{metric.capitalize()} is\", len(result))\n",
      "/home/Moscato/.conda/envs/phb/lib/python3.11/site-packages/sklearn/metrics/_classification.py:1531: UndefinedMetricWarning: Precision is ill-defined and being set to 0.0 in labels with no predicted samples. Use `zero_division` parameter to control this behavior.\n",
      "  _warn_prf(average, modifier, f\"{metric.capitalize()} is\", len(result))\n",
      " 28%|██▊       | 14/50 [00:39<01:40,  2.80s/it, learning_rate=0.0001, training_accuracy=0.24, training_f1=0.191, training_loss=tensor(0.0538), training_precision=0.12, training_recall=0.5]  /home/Moscato/.conda/envs/phb/lib/python3.11/site-packages/sklearn/metrics/_classification.py:1531: UndefinedMetricWarning: Precision is ill-defined and being set to 0.0 in labels with no predicted samples. Use `zero_division` parameter to control this behavior.\n",
      "  _warn_prf(average, modifier, f\"{metric.capitalize()} is\", len(result))\n",
      "/home/Moscato/.conda/envs/phb/lib/python3.11/site-packages/sklearn/metrics/_classification.py:1531: UndefinedMetricWarning: Precision is ill-defined and being set to 0.0 in labels with no predicted samples. Use `zero_division` parameter to control this behavior.\n",
      "  _warn_prf(average, modifier, f\"{metric.capitalize()} is\", len(result))\n",
      "/home/Moscato/.conda/envs/phb/lib/python3.11/site-packages/sklearn/metrics/_classification.py:1531: UndefinedMetricWarning: Precision is ill-defined and being set to 0.0 in labels with no predicted samples. Use `zero_division` parameter to control this behavior.\n",
      "  _warn_prf(average, modifier, f\"{metric.capitalize()} is\", len(result))\n",
      " 30%|███       | 15/50 [00:41<01:37,  2.80s/it, learning_rate=0.0001, training_accuracy=0.24, training_f1=0.191, training_loss=tensor(0.2544), training_precision=0.12, training_recall=0.5]/home/Moscato/.conda/envs/phb/lib/python3.11/site-packages/sklearn/metrics/_classification.py:1531: UndefinedMetricWarning: Precision is ill-defined and being set to 0.0 in labels with no predicted samples. Use `zero_division` parameter to control this behavior.\n",
      "  _warn_prf(average, modifier, f\"{metric.capitalize()} is\", len(result))\n",
      "/home/Moscato/.conda/envs/phb/lib/python3.11/site-packages/sklearn/metrics/_classification.py:1531: UndefinedMetricWarning: Precision is ill-defined and being set to 0.0 in labels with no predicted samples. Use `zero_division` parameter to control this behavior.\n",
      "  _warn_prf(average, modifier, f\"{metric.capitalize()} is\", len(result))\n",
      "/home/Moscato/.conda/envs/phb/lib/python3.11/site-packages/sklearn/metrics/_classification.py:1531: UndefinedMetricWarning: Precision is ill-defined and being set to 0.0 in labels with no predicted samples. Use `zero_division` parameter to control this behavior.\n",
      "  _warn_prf(average, modifier, f\"{metric.capitalize()} is\", len(result))\n",
      " 32%|███▏      | 16/50 [00:44<01:35,  2.80s/it, learning_rate=0.0001, training_accuracy=0.229, training_f1=0.184, training_loss=tensor(0.1490), training_precision=0.115, training_recall=0.5]/home/Moscato/.conda/envs/phb/lib/python3.11/site-packages/sklearn/metrics/_classification.py:1531: UndefinedMetricWarning: Precision is ill-defined and being set to 0.0 in labels with no predicted samples. Use `zero_division` parameter to control this behavior.\n",
      "  _warn_prf(average, modifier, f\"{metric.capitalize()} is\", len(result))\n",
      "/home/Moscato/.conda/envs/phb/lib/python3.11/site-packages/sklearn/metrics/_classification.py:1531: UndefinedMetricWarning: Precision is ill-defined and being set to 0.0 in labels with no predicted samples. Use `zero_division` parameter to control this behavior.\n",
      "  _warn_prf(average, modifier, f\"{metric.capitalize()} is\", len(result))\n",
      "/home/Moscato/.conda/envs/phb/lib/python3.11/site-packages/sklearn/metrics/_classification.py:1531: UndefinedMetricWarning: Precision is ill-defined and being set to 0.0 in labels with no predicted samples. Use `zero_division` parameter to control this behavior.\n",
      "  _warn_prf(average, modifier, f\"{metric.capitalize()} is\", len(result))\n",
      " 34%|███▍      | 17/50 [00:47<01:32,  2.80s/it, learning_rate=0.0001, training_accuracy=0.219, training_f1=0.178, training_loss=tensor(0.0030), training_precision=0.109, training_recall=0.5]/home/Moscato/.conda/envs/phb/lib/python3.11/site-packages/sklearn/metrics/_classification.py:1531: UndefinedMetricWarning: Precision is ill-defined and being set to 0.0 in labels with no predicted samples. Use `zero_division` parameter to control this behavior.\n",
      "  _warn_prf(average, modifier, f\"{metric.capitalize()} is\", len(result))\n",
      "/home/Moscato/.conda/envs/phb/lib/python3.11/site-packages/sklearn/metrics/_classification.py:1531: UndefinedMetricWarning: Precision is ill-defined and being set to 0.0 in labels with no predicted samples. Use `zero_division` parameter to control this behavior.\n",
      "  _warn_prf(average, modifier, f\"{metric.capitalize()} is\", len(result))\n",
      "/home/Moscato/.conda/envs/phb/lib/python3.11/site-packages/sklearn/metrics/_classification.py:1531: UndefinedMetricWarning: Precision is ill-defined and being set to 0.0 in labels with no predicted samples. Use `zero_division` parameter to control this behavior.\n",
      "  _warn_prf(average, modifier, f\"{metric.capitalize()} is\", len(result))\n",
      " 36%|███▌      | 18/50 [00:50<01:29,  2.80s/it, learning_rate=0.0001, training_accuracy=0.24, training_f1=0.186, training_loss=tensor(0.0241), training_precision=0.12, training_recall=0.5]  /home/Moscato/.conda/envs/phb/lib/python3.11/site-packages/sklearn/metrics/_classification.py:1531: UndefinedMetricWarning: Precision is ill-defined and being set to 0.0 in labels with no predicted samples. Use `zero_division` parameter to control this behavior.\n",
      "  _warn_prf(average, modifier, f\"{metric.capitalize()} is\", len(result))\n",
      "/home/Moscato/.conda/envs/phb/lib/python3.11/site-packages/sklearn/metrics/_classification.py:1531: UndefinedMetricWarning: Precision is ill-defined and being set to 0.0 in labels with no predicted samples. Use `zero_division` parameter to control this behavior.\n",
      "  _warn_prf(average, modifier, f\"{metric.capitalize()} is\", len(result))\n",
      "/home/Moscato/.conda/envs/phb/lib/python3.11/site-packages/sklearn/metrics/_classification.py:1531: UndefinedMetricWarning: Precision is ill-defined and being set to 0.0 in labels with no predicted samples. Use `zero_division` parameter to control this behavior.\n",
      "  _warn_prf(average, modifier, f\"{metric.capitalize()} is\", len(result))\n",
      " 38%|███▊      | 19/50 [00:53<01:26,  2.80s/it, learning_rate=0.0001, training_accuracy=0.25, training_f1=0.198, training_loss=tensor(0.0033), training_precision=0.125, training_recall=0.5]/home/Moscato/.conda/envs/phb/lib/python3.11/site-packages/sklearn/metrics/_classification.py:1531: UndefinedMetricWarning: Precision is ill-defined and being set to 0.0 in labels with no predicted samples. Use `zero_division` parameter to control this behavior.\n",
      "  _warn_prf(average, modifier, f\"{metric.capitalize()} is\", len(result))\n",
      "/home/Moscato/.conda/envs/phb/lib/python3.11/site-packages/sklearn/metrics/_classification.py:1531: UndefinedMetricWarning: Precision is ill-defined and being set to 0.0 in labels with no predicted samples. Use `zero_division` parameter to control this behavior.\n",
      "  _warn_prf(average, modifier, f\"{metric.capitalize()} is\", len(result))\n",
      "/home/Moscato/.conda/envs/phb/lib/python3.11/site-packages/sklearn/metrics/_classification.py:1531: UndefinedMetricWarning: Precision is ill-defined and being set to 0.0 in labels with no predicted samples. Use `zero_division` parameter to control this behavior.\n",
      "  _warn_prf(average, modifier, f\"{metric.capitalize()} is\", len(result))\n",
      " 40%|████      | 20/50 [00:55<01:24,  2.80s/it, learning_rate=0.0001, training_accuracy=0.24, training_f1=0.188, training_loss=tensor(0.0037), training_precision=0.12, training_recall=0.5] /home/Moscato/.conda/envs/phb/lib/python3.11/site-packages/sklearn/metrics/_classification.py:1531: UndefinedMetricWarning: Precision is ill-defined and being set to 0.0 in labels with no predicted samples. Use `zero_division` parameter to control this behavior.\n",
      "  _warn_prf(average, modifier, f\"{metric.capitalize()} is\", len(result))\n",
      "/home/Moscato/.conda/envs/phb/lib/python3.11/site-packages/sklearn/metrics/_classification.py:1531: UndefinedMetricWarning: Precision is ill-defined and being set to 0.0 in labels with no predicted samples. Use `zero_division` parameter to control this behavior.\n",
      "  _warn_prf(average, modifier, f\"{metric.capitalize()} is\", len(result))\n",
      "/home/Moscato/.conda/envs/phb/lib/python3.11/site-packages/sklearn/metrics/_classification.py:1531: UndefinedMetricWarning: Precision is ill-defined and being set to 0.0 in labels with no predicted samples. Use `zero_division` parameter to control this behavior.\n",
      "  _warn_prf(average, modifier, f\"{metric.capitalize()} is\", len(result))\n",
      " 42%|████▏     | 21/50 [00:58<01:21,  2.80s/it, learning_rate=0.0001, training_accuracy=0.24, training_f1=0.192, training_loss=tensor(0.0033), training_precision=0.12, training_recall=0.5]/home/Moscato/.conda/envs/phb/lib/python3.11/site-packages/sklearn/metrics/_classification.py:1531: UndefinedMetricWarning: Precision is ill-defined and being set to 0.0 in labels with no predicted samples. Use `zero_division` parameter to control this behavior.\n",
      "  _warn_prf(average, modifier, f\"{metric.capitalize()} is\", len(result))\n",
      "/home/Moscato/.conda/envs/phb/lib/python3.11/site-packages/sklearn/metrics/_classification.py:1531: UndefinedMetricWarning: Precision is ill-defined and being set to 0.0 in labels with no predicted samples. Use `zero_division` parameter to control this behavior.\n",
      "  _warn_prf(average, modifier, f\"{metric.capitalize()} is\", len(result))\n",
      "/home/Moscato/.conda/envs/phb/lib/python3.11/site-packages/sklearn/metrics/_classification.py:1531: UndefinedMetricWarning: Precision is ill-defined and being set to 0.0 in labels with no predicted samples. Use `zero_division` parameter to control this behavior.\n",
      "  _warn_prf(average, modifier, f\"{metric.capitalize()} is\", len(result))\n",
      " 44%|████▍     | 22/50 [01:01<01:18,  2.80s/it, learning_rate=0.0001, training_accuracy=0.25, training_f1=0.196, training_loss=tensor(0.0033), training_precision=0.125, training_recall=0.5]/home/Moscato/.conda/envs/phb/lib/python3.11/site-packages/sklearn/metrics/_classification.py:1531: UndefinedMetricWarning: Precision is ill-defined and being set to 0.0 in labels with no predicted samples. Use `zero_division` parameter to control this behavior.\n",
      "  _warn_prf(average, modifier, f\"{metric.capitalize()} is\", len(result))\n",
      "/home/Moscato/.conda/envs/phb/lib/python3.11/site-packages/sklearn/metrics/_classification.py:1531: UndefinedMetricWarning: Precision is ill-defined and being set to 0.0 in labels with no predicted samples. Use `zero_division` parameter to control this behavior.\n",
      "  _warn_prf(average, modifier, f\"{metric.capitalize()} is\", len(result))\n",
      "/home/Moscato/.conda/envs/phb/lib/python3.11/site-packages/sklearn/metrics/_classification.py:1531: UndefinedMetricWarning: Precision is ill-defined and being set to 0.0 in labels with no predicted samples. Use `zero_division` parameter to control this behavior.\n",
      "  _warn_prf(average, modifier, f\"{metric.capitalize()} is\", len(result))\n",
      " 46%|████▌     | 23/50 [01:04<01:15,  2.80s/it, learning_rate=0.0001, training_accuracy=0.229, training_f1=0.184, training_loss=tensor(0.0031), training_precision=0.115, training_recall=0.5]/home/Moscato/.conda/envs/phb/lib/python3.11/site-packages/sklearn/metrics/_classification.py:1531: UndefinedMetricWarning: Precision is ill-defined and being set to 0.0 in labels with no predicted samples. Use `zero_division` parameter to control this behavior.\n",
      "  _warn_prf(average, modifier, f\"{metric.capitalize()} is\", len(result))\n",
      "/home/Moscato/.conda/envs/phb/lib/python3.11/site-packages/sklearn/metrics/_classification.py:1531: UndefinedMetricWarning: Precision is ill-defined and being set to 0.0 in labels with no predicted samples. Use `zero_division` parameter to control this behavior.\n",
      "  _warn_prf(average, modifier, f\"{metric.capitalize()} is\", len(result))\n",
      "/home/Moscato/.conda/envs/phb/lib/python3.11/site-packages/sklearn/metrics/_classification.py:1531: UndefinedMetricWarning: Precision is ill-defined and being set to 0.0 in labels with no predicted samples. Use `zero_division` parameter to control this behavior.\n",
      "  _warn_prf(average, modifier, f\"{metric.capitalize()} is\", len(result))\n",
      " 48%|████▊     | 24/50 [01:07<01:12,  2.80s/it, learning_rate=0.0001, training_accuracy=0.25, training_f1=0.199, training_loss=tensor(0.0018), training_precision=0.125, training_recall=0.5] /home/Moscato/.conda/envs/phb/lib/python3.11/site-packages/sklearn/metrics/_classification.py:1531: UndefinedMetricWarning: Precision is ill-defined and being set to 0.0 in labels with no predicted samples. Use `zero_division` parameter to control this behavior.\n",
      "  _warn_prf(average, modifier, f\"{metric.capitalize()} is\", len(result))\n",
      "/home/Moscato/.conda/envs/phb/lib/python3.11/site-packages/sklearn/metrics/_classification.py:1531: UndefinedMetricWarning: Precision is ill-defined and being set to 0.0 in labels with no predicted samples. Use `zero_division` parameter to control this behavior.\n",
      "  _warn_prf(average, modifier, f\"{metric.capitalize()} is\", len(result))\n",
      "/home/Moscato/.conda/envs/phb/lib/python3.11/site-packages/sklearn/metrics/_classification.py:1531: UndefinedMetricWarning: Precision is ill-defined and being set to 0.0 in labels with no predicted samples. Use `zero_division` parameter to control this behavior.\n",
      "  _warn_prf(average, modifier, f\"{metric.capitalize()} is\", len(result))\n",
      " 50%|█████     | 25/50 [01:09<01:10,  2.80s/it, learning_rate=0.0001, training_accuracy=0.229, training_f1=0.184, training_loss=tensor(0.0012), training_precision=0.115, training_recall=0.5]/home/Moscato/.conda/envs/phb/lib/python3.11/site-packages/sklearn/metrics/_classification.py:1531: UndefinedMetricWarning: Precision is ill-defined and being set to 0.0 in labels with no predicted samples. Use `zero_division` parameter to control this behavior.\n",
      "  _warn_prf(average, modifier, f\"{metric.capitalize()} is\", len(result))\n",
      "/home/Moscato/.conda/envs/phb/lib/python3.11/site-packages/sklearn/metrics/_classification.py:1531: UndefinedMetricWarning: Precision is ill-defined and being set to 0.0 in labels with no predicted samples. Use `zero_division` parameter to control this behavior.\n",
      "  _warn_prf(average, modifier, f\"{metric.capitalize()} is\", len(result))\n",
      "/home/Moscato/.conda/envs/phb/lib/python3.11/site-packages/sklearn/metrics/_classification.py:1531: UndefinedMetricWarning: Precision is ill-defined and being set to 0.0 in labels with no predicted samples. Use `zero_division` parameter to control this behavior.\n",
      "  _warn_prf(average, modifier, f\"{metric.capitalize()} is\", len(result))\n",
      " 52%|█████▏    | 26/50 [01:12<01:07,  2.80s/it, learning_rate=0.0001, training_accuracy=0.25, training_f1=0.199, training_loss=tensor(0.0026), training_precision=0.125, training_recall=0.5] /home/Moscato/.conda/envs/phb/lib/python3.11/site-packages/sklearn/metrics/_classification.py:1531: UndefinedMetricWarning: Precision is ill-defined and being set to 0.0 in labels with no predicted samples. Use `zero_division` parameter to control this behavior.\n",
      "  _warn_prf(average, modifier, f\"{metric.capitalize()} is\", len(result))\n",
      "/home/Moscato/.conda/envs/phb/lib/python3.11/site-packages/sklearn/metrics/_classification.py:1531: UndefinedMetricWarning: Precision is ill-defined and being set to 0.0 in labels with no predicted samples. Use `zero_division` parameter to control this behavior.\n",
      "  _warn_prf(average, modifier, f\"{metric.capitalize()} is\", len(result))\n",
      "/home/Moscato/.conda/envs/phb/lib/python3.11/site-packages/sklearn/metrics/_classification.py:1531: UndefinedMetricWarning: Precision is ill-defined and being set to 0.0 in labels with no predicted samples. Use `zero_division` parameter to control this behavior.\n",
      "  _warn_prf(average, modifier, f\"{metric.capitalize()} is\", len(result))\n",
      " 54%|█████▍    | 27/50 [01:15<01:04,  2.80s/it, learning_rate=0.0001, training_accuracy=0.229, training_f1=0.183, training_loss=tensor(0.0010), training_precision=0.115, training_recall=0.5]/home/Moscato/.conda/envs/phb/lib/python3.11/site-packages/sklearn/metrics/_classification.py:1531: UndefinedMetricWarning: Precision is ill-defined and being set to 0.0 in labels with no predicted samples. Use `zero_division` parameter to control this behavior.\n",
      "  _warn_prf(average, modifier, f\"{metric.capitalize()} is\", len(result))\n",
      "/home/Moscato/.conda/envs/phb/lib/python3.11/site-packages/sklearn/metrics/_classification.py:1531: UndefinedMetricWarning: Precision is ill-defined and being set to 0.0 in labels with no predicted samples. Use `zero_division` parameter to control this behavior.\n",
      "  _warn_prf(average, modifier, f\"{metric.capitalize()} is\", len(result))\n",
      "/home/Moscato/.conda/envs/phb/lib/python3.11/site-packages/sklearn/metrics/_classification.py:1531: UndefinedMetricWarning: Precision is ill-defined and being set to 0.0 in labels with no predicted samples. Use `zero_division` parameter to control this behavior.\n",
      "  _warn_prf(average, modifier, f\"{metric.capitalize()} is\", len(result))\n",
      " 56%|█████▌    | 28/50 [01:18<01:01,  2.80s/it, learning_rate=0.0001, training_accuracy=0.24, training_f1=0.189, training_loss=tensor(0.0008), training_precision=0.12, training_recall=0.5]  /home/Moscato/.conda/envs/phb/lib/python3.11/site-packages/sklearn/metrics/_classification.py:1531: UndefinedMetricWarning: Precision is ill-defined and being set to 0.0 in labels with no predicted samples. Use `zero_division` parameter to control this behavior.\n",
      "  _warn_prf(average, modifier, f\"{metric.capitalize()} is\", len(result))\n",
      "/home/Moscato/.conda/envs/phb/lib/python3.11/site-packages/sklearn/metrics/_classification.py:1531: UndefinedMetricWarning: Precision is ill-defined and being set to 0.0 in labels with no predicted samples. Use `zero_division` parameter to control this behavior.\n",
      "  _warn_prf(average, modifier, f\"{metric.capitalize()} is\", len(result))\n",
      "/home/Moscato/.conda/envs/phb/lib/python3.11/site-packages/sklearn/metrics/_classification.py:1531: UndefinedMetricWarning: Precision is ill-defined and being set to 0.0 in labels with no predicted samples. Use `zero_division` parameter to control this behavior.\n",
      "  _warn_prf(average, modifier, f\"{metric.capitalize()} is\", len(result))\n",
      " 58%|█████▊    | 29/50 [01:21<00:58,  2.80s/it, learning_rate=0.0001, training_accuracy=0.229, training_f1=0.184, training_loss=tensor(0.0007), training_precision=0.115, training_recall=0.5]/home/Moscato/.conda/envs/phb/lib/python3.11/site-packages/sklearn/metrics/_classification.py:1531: UndefinedMetricWarning: Precision is ill-defined and being set to 0.0 in labels with no predicted samples. Use `zero_division` parameter to control this behavior.\n",
      "  _warn_prf(average, modifier, f\"{metric.capitalize()} is\", len(result))\n",
      "/home/Moscato/.conda/envs/phb/lib/python3.11/site-packages/sklearn/metrics/_classification.py:1531: UndefinedMetricWarning: Precision is ill-defined and being set to 0.0 in labels with no predicted samples. Use `zero_division` parameter to control this behavior.\n",
      "  _warn_prf(average, modifier, f\"{metric.capitalize()} is\", len(result))\n",
      "/home/Moscato/.conda/envs/phb/lib/python3.11/site-packages/sklearn/metrics/_classification.py:1531: UndefinedMetricWarning: Precision is ill-defined and being set to 0.0 in labels with no predicted samples. Use `zero_division` parameter to control this behavior.\n",
      "  _warn_prf(average, modifier, f\"{metric.capitalize()} is\", len(result))\n",
      " 60%|██████    | 30/50 [01:23<00:56,  2.80s/it, learning_rate=0.0001, training_accuracy=0.229, training_f1=0.186, training_loss=tensor(0.0007), training_precision=0.115, training_recall=0.5]/home/Moscato/.conda/envs/phb/lib/python3.11/site-packages/sklearn/metrics/_classification.py:1531: UndefinedMetricWarning: Precision is ill-defined and being set to 0.0 in labels with no predicted samples. Use `zero_division` parameter to control this behavior.\n",
      "  _warn_prf(average, modifier, f\"{metric.capitalize()} is\", len(result))\n",
      "/home/Moscato/.conda/envs/phb/lib/python3.11/site-packages/sklearn/metrics/_classification.py:1531: UndefinedMetricWarning: Precision is ill-defined and being set to 0.0 in labels with no predicted samples. Use `zero_division` parameter to control this behavior.\n",
      "  _warn_prf(average, modifier, f\"{metric.capitalize()} is\", len(result))\n",
      "/home/Moscato/.conda/envs/phb/lib/python3.11/site-packages/sklearn/metrics/_classification.py:1531: UndefinedMetricWarning: Precision is ill-defined and being set to 0.0 in labels with no predicted samples. Use `zero_division` parameter to control this behavior.\n",
      "  _warn_prf(average, modifier, f\"{metric.capitalize()} is\", len(result))\n",
      " 62%|██████▏   | 31/50 [01:26<00:53,  2.80s/it, learning_rate=0.0001, training_accuracy=0.25, training_f1=0.199, training_loss=tensor(0.0007), training_precision=0.125, training_recall=0.5] /home/Moscato/.conda/envs/phb/lib/python3.11/site-packages/sklearn/metrics/_classification.py:1531: UndefinedMetricWarning: Precision is ill-defined and being set to 0.0 in labels with no predicted samples. Use `zero_division` parameter to control this behavior.\n",
      "  _warn_prf(average, modifier, f\"{metric.capitalize()} is\", len(result))\n",
      "/home/Moscato/.conda/envs/phb/lib/python3.11/site-packages/sklearn/metrics/_classification.py:1531: UndefinedMetricWarning: Precision is ill-defined and being set to 0.0 in labels with no predicted samples. Use `zero_division` parameter to control this behavior.\n",
      "  _warn_prf(average, modifier, f\"{metric.capitalize()} is\", len(result))\n",
      "/home/Moscato/.conda/envs/phb/lib/python3.11/site-packages/sklearn/metrics/_classification.py:1531: UndefinedMetricWarning: Precision is ill-defined and being set to 0.0 in labels with no predicted samples. Use `zero_division` parameter to control this behavior.\n",
      "  _warn_prf(average, modifier, f\"{metric.capitalize()} is\", len(result))\n",
      " 64%|██████▍   | 32/50 [01:29<00:50,  2.81s/it, learning_rate=0.0001, training_accuracy=0.219, training_f1=0.179, training_loss=tensor(0.0006), training_precision=0.109, training_recall=0.5]/home/Moscato/.conda/envs/phb/lib/python3.11/site-packages/sklearn/metrics/_classification.py:1531: UndefinedMetricWarning: Precision is ill-defined and being set to 0.0 in labels with no predicted samples. Use `zero_division` parameter to control this behavior.\n",
      "  _warn_prf(average, modifier, f\"{metric.capitalize()} is\", len(result))\n",
      "/home/Moscato/.conda/envs/phb/lib/python3.11/site-packages/sklearn/metrics/_classification.py:1531: UndefinedMetricWarning: Precision is ill-defined and being set to 0.0 in labels with no predicted samples. Use `zero_division` parameter to control this behavior.\n",
      "  _warn_prf(average, modifier, f\"{metric.capitalize()} is\", len(result))\n",
      "/home/Moscato/.conda/envs/phb/lib/python3.11/site-packages/sklearn/metrics/_classification.py:1531: UndefinedMetricWarning: Precision is ill-defined and being set to 0.0 in labels with no predicted samples. Use `zero_division` parameter to control this behavior.\n",
      "  _warn_prf(average, modifier, f\"{metric.capitalize()} is\", len(result))\n",
      " 66%|██████▌   | 33/50 [01:32<00:47,  2.81s/it, learning_rate=0.0001, training_accuracy=0.25, training_f1=0.197, training_loss=tensor(0.0005), training_precision=0.125, training_recall=0.5] /home/Moscato/.conda/envs/phb/lib/python3.11/site-packages/sklearn/metrics/_classification.py:1531: UndefinedMetricWarning: Precision is ill-defined and being set to 0.0 in labels with no predicted samples. Use `zero_division` parameter to control this behavior.\n",
      "  _warn_prf(average, modifier, f\"{metric.capitalize()} is\", len(result))\n",
      "/home/Moscato/.conda/envs/phb/lib/python3.11/site-packages/sklearn/metrics/_classification.py:1531: UndefinedMetricWarning: Precision is ill-defined and being set to 0.0 in labels with no predicted samples. Use `zero_division` parameter to control this behavior.\n",
      "  _warn_prf(average, modifier, f\"{metric.capitalize()} is\", len(result))\n",
      "/home/Moscato/.conda/envs/phb/lib/python3.11/site-packages/sklearn/metrics/_classification.py:1531: UndefinedMetricWarning: Precision is ill-defined and being set to 0.0 in labels with no predicted samples. Use `zero_division` parameter to control this behavior.\n",
      "  _warn_prf(average, modifier, f\"{metric.capitalize()} is\", len(result))\n",
      " 68%|██████▊   | 34/50 [01:35<00:44,  2.81s/it, learning_rate=0.0001, training_accuracy=0.24, training_f1=0.191, training_loss=tensor(0.0005), training_precision=0.12, training_recall=0.5] /home/Moscato/.conda/envs/phb/lib/python3.11/site-packages/sklearn/metrics/_classification.py:1531: UndefinedMetricWarning: Precision is ill-defined and being set to 0.0 in labels with no predicted samples. Use `zero_division` parameter to control this behavior.\n",
      "  _warn_prf(average, modifier, f\"{metric.capitalize()} is\", len(result))\n",
      "/home/Moscato/.conda/envs/phb/lib/python3.11/site-packages/sklearn/metrics/_classification.py:1531: UndefinedMetricWarning: Precision is ill-defined and being set to 0.0 in labels with no predicted samples. Use `zero_division` parameter to control this behavior.\n",
      "  _warn_prf(average, modifier, f\"{metric.capitalize()} is\", len(result))\n",
      "/home/Moscato/.conda/envs/phb/lib/python3.11/site-packages/sklearn/metrics/_classification.py:1531: UndefinedMetricWarning: Precision is ill-defined and being set to 0.0 in labels with no predicted samples. Use `zero_division` parameter to control this behavior.\n",
      "  _warn_prf(average, modifier, f\"{metric.capitalize()} is\", len(result))\n",
      " 70%|███████   | 35/50 [01:37<00:42,  2.81s/it, learning_rate=0.0001, training_accuracy=0.24, training_f1=0.193, training_loss=tensor(0.0005), training_precision=0.12, training_recall=0.5]/home/Moscato/.conda/envs/phb/lib/python3.11/site-packages/sklearn/metrics/_classification.py:1531: UndefinedMetricWarning: Precision is ill-defined and being set to 0.0 in labels with no predicted samples. Use `zero_division` parameter to control this behavior.\n",
      "  _warn_prf(average, modifier, f\"{metric.capitalize()} is\", len(result))\n",
      "/home/Moscato/.conda/envs/phb/lib/python3.11/site-packages/sklearn/metrics/_classification.py:1531: UndefinedMetricWarning: Precision is ill-defined and being set to 0.0 in labels with no predicted samples. Use `zero_division` parameter to control this behavior.\n",
      "  _warn_prf(average, modifier, f\"{metric.capitalize()} is\", len(result))\n",
      "/home/Moscato/.conda/envs/phb/lib/python3.11/site-packages/sklearn/metrics/_classification.py:1531: UndefinedMetricWarning: Precision is ill-defined and being set to 0.0 in labels with no predicted samples. Use `zero_division` parameter to control this behavior.\n",
      "  _warn_prf(average, modifier, f\"{metric.capitalize()} is\", len(result))\n",
      " 72%|███████▏  | 36/50 [01:40<00:39,  2.81s/it, learning_rate=0.0001, training_accuracy=0.24, training_f1=0.193, training_loss=tensor(0.0004), training_precision=0.12, training_recall=0.5]/home/Moscato/.conda/envs/phb/lib/python3.11/site-packages/sklearn/metrics/_classification.py:1531: UndefinedMetricWarning: Precision is ill-defined and being set to 0.0 in labels with no predicted samples. Use `zero_division` parameter to control this behavior.\n",
      "  _warn_prf(average, modifier, f\"{metric.capitalize()} is\", len(result))\n",
      "/home/Moscato/.conda/envs/phb/lib/python3.11/site-packages/sklearn/metrics/_classification.py:1531: UndefinedMetricWarning: Precision is ill-defined and being set to 0.0 in labels with no predicted samples. Use `zero_division` parameter to control this behavior.\n",
      "  _warn_prf(average, modifier, f\"{metric.capitalize()} is\", len(result))\n",
      "/home/Moscato/.conda/envs/phb/lib/python3.11/site-packages/sklearn/metrics/_classification.py:1531: UndefinedMetricWarning: Precision is ill-defined and being set to 0.0 in labels with no predicted samples. Use `zero_division` parameter to control this behavior.\n",
      "  _warn_prf(average, modifier, f\"{metric.capitalize()} is\", len(result))\n",
      " 74%|███████▍  | 37/50 [01:43<00:36,  2.80s/it, learning_rate=0.0001, training_accuracy=0.25, training_f1=0.197, training_loss=tensor(0.0004), training_precision=0.125, training_recall=0.5]/home/Moscato/.conda/envs/phb/lib/python3.11/site-packages/sklearn/metrics/_classification.py:1531: UndefinedMetricWarning: Precision is ill-defined and being set to 0.0 in labels with no predicted samples. Use `zero_division` parameter to control this behavior.\n",
      "  _warn_prf(average, modifier, f\"{metric.capitalize()} is\", len(result))\n",
      "/home/Moscato/.conda/envs/phb/lib/python3.11/site-packages/sklearn/metrics/_classification.py:1531: UndefinedMetricWarning: Precision is ill-defined and being set to 0.0 in labels with no predicted samples. Use `zero_division` parameter to control this behavior.\n",
      "  _warn_prf(average, modifier, f\"{metric.capitalize()} is\", len(result))\n",
      "/home/Moscato/.conda/envs/phb/lib/python3.11/site-packages/sklearn/metrics/_classification.py:1531: UndefinedMetricWarning: Precision is ill-defined and being set to 0.0 in labels with no predicted samples. Use `zero_division` parameter to control this behavior.\n",
      "  _warn_prf(average, modifier, f\"{metric.capitalize()} is\", len(result))\n",
      " 76%|███████▌  | 38/50 [01:46<00:33,  2.81s/it, learning_rate=0.0001, training_accuracy=0.24, training_f1=0.192, training_loss=tensor(0.0004), training_precision=0.12, training_recall=0.5] /home/Moscato/.conda/envs/phb/lib/python3.11/site-packages/sklearn/metrics/_classification.py:1531: UndefinedMetricWarning: Precision is ill-defined and being set to 0.0 in labels with no predicted samples. Use `zero_division` parameter to control this behavior.\n",
      "  _warn_prf(average, modifier, f\"{metric.capitalize()} is\", len(result))\n",
      "/home/Moscato/.conda/envs/phb/lib/python3.11/site-packages/sklearn/metrics/_classification.py:1531: UndefinedMetricWarning: Precision is ill-defined and being set to 0.0 in labels with no predicted samples. Use `zero_division` parameter to control this behavior.\n",
      "  _warn_prf(average, modifier, f\"{metric.capitalize()} is\", len(result))\n",
      "/home/Moscato/.conda/envs/phb/lib/python3.11/site-packages/sklearn/metrics/_classification.py:1531: UndefinedMetricWarning: Precision is ill-defined and being set to 0.0 in labels with no predicted samples. Use `zero_division` parameter to control this behavior.\n",
      "  _warn_prf(average, modifier, f\"{metric.capitalize()} is\", len(result))\n",
      " 78%|███████▊  | 39/50 [01:49<00:30,  2.81s/it, learning_rate=0.0001, training_accuracy=0.25, training_f1=0.2, training_loss=tensor(0.0004), training_precision=0.125, training_recall=0.5] /home/Moscato/.conda/envs/phb/lib/python3.11/site-packages/sklearn/metrics/_classification.py:1531: UndefinedMetricWarning: Precision is ill-defined and being set to 0.0 in labels with no predicted samples. Use `zero_division` parameter to control this behavior.\n",
      "  _warn_prf(average, modifier, f\"{metric.capitalize()} is\", len(result))\n",
      "/home/Moscato/.conda/envs/phb/lib/python3.11/site-packages/sklearn/metrics/_classification.py:1531: UndefinedMetricWarning: Precision is ill-defined and being set to 0.0 in labels with no predicted samples. Use `zero_division` parameter to control this behavior.\n",
      "  _warn_prf(average, modifier, f\"{metric.capitalize()} is\", len(result))\n",
      "/home/Moscato/.conda/envs/phb/lib/python3.11/site-packages/sklearn/metrics/_classification.py:1531: UndefinedMetricWarning: Precision is ill-defined and being set to 0.0 in labels with no predicted samples. Use `zero_division` parameter to control this behavior.\n",
      "  _warn_prf(average, modifier, f\"{metric.capitalize()} is\", len(result))\n",
      " 80%|████████  | 40/50 [01:51<00:28,  2.81s/it, learning_rate=0.0001, training_accuracy=0.229, training_f1=0.184, training_loss=tensor(0.0004), training_precision=0.115, training_recall=0.5]/home/Moscato/.conda/envs/phb/lib/python3.11/site-packages/sklearn/metrics/_classification.py:1531: UndefinedMetricWarning: Precision is ill-defined and being set to 0.0 in labels with no predicted samples. Use `zero_division` parameter to control this behavior.\n",
      "  _warn_prf(average, modifier, f\"{metric.capitalize()} is\", len(result))\n",
      "/home/Moscato/.conda/envs/phb/lib/python3.11/site-packages/sklearn/metrics/_classification.py:1531: UndefinedMetricWarning: Precision is ill-defined and being set to 0.0 in labels with no predicted samples. Use `zero_division` parameter to control this behavior.\n",
      "  _warn_prf(average, modifier, f\"{metric.capitalize()} is\", len(result))\n",
      "/home/Moscato/.conda/envs/phb/lib/python3.11/site-packages/sklearn/metrics/_classification.py:1531: UndefinedMetricWarning: Precision is ill-defined and being set to 0.0 in labels with no predicted samples. Use `zero_division` parameter to control this behavior.\n",
      "  _warn_prf(average, modifier, f\"{metric.capitalize()} is\", len(result))\n",
      " 82%|████████▏ | 41/50 [01:54<00:25,  2.81s/it, learning_rate=0.0001, training_accuracy=0.229, training_f1=0.186, training_loss=tensor(0.0003), training_precision=0.115, training_recall=0.5]/home/Moscato/.conda/envs/phb/lib/python3.11/site-packages/sklearn/metrics/_classification.py:1531: UndefinedMetricWarning: Precision is ill-defined and being set to 0.0 in labels with no predicted samples. Use `zero_division` parameter to control this behavior.\n",
      "  _warn_prf(average, modifier, f\"{metric.capitalize()} is\", len(result))\n",
      "/home/Moscato/.conda/envs/phb/lib/python3.11/site-packages/sklearn/metrics/_classification.py:1531: UndefinedMetricWarning: Precision is ill-defined and being set to 0.0 in labels with no predicted samples. Use `zero_division` parameter to control this behavior.\n",
      "  _warn_prf(average, modifier, f\"{metric.capitalize()} is\", len(result))\n",
      "/home/Moscato/.conda/envs/phb/lib/python3.11/site-packages/sklearn/metrics/_classification.py:1531: UndefinedMetricWarning: Precision is ill-defined and being set to 0.0 in labels with no predicted samples. Use `zero_division` parameter to control this behavior.\n",
      "  _warn_prf(average, modifier, f\"{metric.capitalize()} is\", len(result))\n",
      " 84%|████████▍ | 42/50 [01:57<00:22,  2.81s/it, learning_rate=0.0001, training_accuracy=0.25, training_f1=0.199, training_loss=tensor(0.0004), training_precision=0.125, training_recall=0.5] /home/Moscato/.conda/envs/phb/lib/python3.11/site-packages/sklearn/metrics/_classification.py:1531: UndefinedMetricWarning: Precision is ill-defined and being set to 0.0 in labels with no predicted samples. Use `zero_division` parameter to control this behavior.\n",
      "  _warn_prf(average, modifier, f\"{metric.capitalize()} is\", len(result))\n",
      "/home/Moscato/.conda/envs/phb/lib/python3.11/site-packages/sklearn/metrics/_classification.py:1531: UndefinedMetricWarning: Precision is ill-defined and being set to 0.0 in labels with no predicted samples. Use `zero_division` parameter to control this behavior.\n",
      "  _warn_prf(average, modifier, f\"{metric.capitalize()} is\", len(result))\n",
      "/home/Moscato/.conda/envs/phb/lib/python3.11/site-packages/sklearn/metrics/_classification.py:1531: UndefinedMetricWarning: Precision is ill-defined and being set to 0.0 in labels with no predicted samples. Use `zero_division` parameter to control this behavior.\n",
      "  _warn_prf(average, modifier, f\"{metric.capitalize()} is\", len(result))\n",
      " 86%|████████▌ | 43/50 [02:00<00:19,  2.81s/it, learning_rate=0.0001, training_accuracy=0.24, training_f1=0.193, training_loss=tensor(0.0003), training_precision=0.12, training_recall=0.5] /home/Moscato/.conda/envs/phb/lib/python3.11/site-packages/sklearn/metrics/_classification.py:1531: UndefinedMetricWarning: Precision is ill-defined and being set to 0.0 in labels with no predicted samples. Use `zero_division` parameter to control this behavior.\n",
      "  _warn_prf(average, modifier, f\"{metric.capitalize()} is\", len(result))\n",
      "/home/Moscato/.conda/envs/phb/lib/python3.11/site-packages/sklearn/metrics/_classification.py:1531: UndefinedMetricWarning: Precision is ill-defined and being set to 0.0 in labels with no predicted samples. Use `zero_division` parameter to control this behavior.\n",
      "  _warn_prf(average, modifier, f\"{metric.capitalize()} is\", len(result))\n",
      "/home/Moscato/.conda/envs/phb/lib/python3.11/site-packages/sklearn/metrics/_classification.py:1531: UndefinedMetricWarning: Precision is ill-defined and being set to 0.0 in labels with no predicted samples. Use `zero_division` parameter to control this behavior.\n",
      "  _warn_prf(average, modifier, f\"{metric.capitalize()} is\", len(result))\n",
      " 88%|████████▊ | 44/50 [02:03<00:16,  2.81s/it, learning_rate=0.0001, training_accuracy=0.25, training_f1=0.193, training_loss=tensor(0.0003), training_precision=0.125, training_recall=0.5]/home/Moscato/.conda/envs/phb/lib/python3.11/site-packages/sklearn/metrics/_classification.py:1531: UndefinedMetricWarning: Precision is ill-defined and being set to 0.0 in labels with no predicted samples. Use `zero_division` parameter to control this behavior.\n",
      "  _warn_prf(average, modifier, f\"{metric.capitalize()} is\", len(result))\n",
      "/home/Moscato/.conda/envs/phb/lib/python3.11/site-packages/sklearn/metrics/_classification.py:1531: UndefinedMetricWarning: Precision is ill-defined and being set to 0.0 in labels with no predicted samples. Use `zero_division` parameter to control this behavior.\n",
      "  _warn_prf(average, modifier, f\"{metric.capitalize()} is\", len(result))\n",
      "/home/Moscato/.conda/envs/phb/lib/python3.11/site-packages/sklearn/metrics/_classification.py:1531: UndefinedMetricWarning: Precision is ill-defined and being set to 0.0 in labels with no predicted samples. Use `zero_division` parameter to control this behavior.\n",
      "  _warn_prf(average, modifier, f\"{metric.capitalize()} is\", len(result))\n",
      " 90%|█████████ | 45/50 [02:06<00:14,  2.81s/it, learning_rate=0.0001, training_accuracy=0.24, training_f1=0.189, training_loss=tensor(0.0003), training_precision=0.12, training_recall=0.5] /home/Moscato/.conda/envs/phb/lib/python3.11/site-packages/sklearn/metrics/_classification.py:1531: UndefinedMetricWarning: Precision is ill-defined and being set to 0.0 in labels with no predicted samples. Use `zero_division` parameter to control this behavior.\n",
      "  _warn_prf(average, modifier, f\"{metric.capitalize()} is\", len(result))\n",
      "/home/Moscato/.conda/envs/phb/lib/python3.11/site-packages/sklearn/metrics/_classification.py:1531: UndefinedMetricWarning: Precision is ill-defined and being set to 0.0 in labels with no predicted samples. Use `zero_division` parameter to control this behavior.\n",
      "  _warn_prf(average, modifier, f\"{metric.capitalize()} is\", len(result))\n",
      "/home/Moscato/.conda/envs/phb/lib/python3.11/site-packages/sklearn/metrics/_classification.py:1531: UndefinedMetricWarning: Precision is ill-defined and being set to 0.0 in labels with no predicted samples. Use `zero_division` parameter to control this behavior.\n",
      "  _warn_prf(average, modifier, f\"{metric.capitalize()} is\", len(result))\n",
      " 92%|█████████▏| 46/50 [02:08<00:11,  2.81s/it, learning_rate=0.0001, training_accuracy=0.24, training_f1=0.191, training_loss=tensor(0.0003), training_precision=0.12, training_recall=0.5]/home/Moscato/.conda/envs/phb/lib/python3.11/site-packages/sklearn/metrics/_classification.py:1531: UndefinedMetricWarning: Precision is ill-defined and being set to 0.0 in labels with no predicted samples. Use `zero_division` parameter to control this behavior.\n",
      "  _warn_prf(average, modifier, f\"{metric.capitalize()} is\", len(result))\n",
      "/home/Moscato/.conda/envs/phb/lib/python3.11/site-packages/sklearn/metrics/_classification.py:1531: UndefinedMetricWarning: Precision is ill-defined and being set to 0.0 in labels with no predicted samples. Use `zero_division` parameter to control this behavior.\n",
      "  _warn_prf(average, modifier, f\"{metric.capitalize()} is\", len(result))\n",
      "/home/Moscato/.conda/envs/phb/lib/python3.11/site-packages/sklearn/metrics/_classification.py:1531: UndefinedMetricWarning: Precision is ill-defined and being set to 0.0 in labels with no predicted samples. Use `zero_division` parameter to control this behavior.\n",
      "  _warn_prf(average, modifier, f\"{metric.capitalize()} is\", len(result))\n",
      " 94%|█████████▍| 47/50 [02:11<00:08,  2.80s/it, learning_rate=0.0001, training_accuracy=0.25, training_f1=0.199, training_loss=tensor(0.0003), training_precision=0.125, training_recall=0.5]/home/Moscato/.conda/envs/phb/lib/python3.11/site-packages/sklearn/metrics/_classification.py:1531: UndefinedMetricWarning: Precision is ill-defined and being set to 0.0 in labels with no predicted samples. Use `zero_division` parameter to control this behavior.\n",
      "  _warn_prf(average, modifier, f\"{metric.capitalize()} is\", len(result))\n",
      "/home/Moscato/.conda/envs/phb/lib/python3.11/site-packages/sklearn/metrics/_classification.py:1531: UndefinedMetricWarning: Precision is ill-defined and being set to 0.0 in labels with no predicted samples. Use `zero_division` parameter to control this behavior.\n",
      "  _warn_prf(average, modifier, f\"{metric.capitalize()} is\", len(result))\n",
      "/home/Moscato/.conda/envs/phb/lib/python3.11/site-packages/sklearn/metrics/_classification.py:1531: UndefinedMetricWarning: Precision is ill-defined and being set to 0.0 in labels with no predicted samples. Use `zero_division` parameter to control this behavior.\n",
      "  _warn_prf(average, modifier, f\"{metric.capitalize()} is\", len(result))\n",
      " 96%|█████████▌| 48/50 [02:14<00:05,  2.80s/it, learning_rate=0.0001, training_accuracy=0.229, training_f1=0.186, training_loss=tensor(0.0002), training_precision=0.115, training_recall=0.5]/home/Moscato/.conda/envs/phb/lib/python3.11/site-packages/sklearn/metrics/_classification.py:1531: UndefinedMetricWarning: Precision is ill-defined and being set to 0.0 in labels with no predicted samples. Use `zero_division` parameter to control this behavior.\n",
      "  _warn_prf(average, modifier, f\"{metric.capitalize()} is\", len(result))\n",
      "/home/Moscato/.conda/envs/phb/lib/python3.11/site-packages/sklearn/metrics/_classification.py:1531: UndefinedMetricWarning: Precision is ill-defined and being set to 0.0 in labels with no predicted samples. Use `zero_division` parameter to control this behavior.\n",
      "  _warn_prf(average, modifier, f\"{metric.capitalize()} is\", len(result))\n",
      "/home/Moscato/.conda/envs/phb/lib/python3.11/site-packages/sklearn/metrics/_classification.py:1531: UndefinedMetricWarning: Precision is ill-defined and being set to 0.0 in labels with no predicted samples. Use `zero_division` parameter to control this behavior.\n",
      "  _warn_prf(average, modifier, f\"{metric.capitalize()} is\", len(result))\n",
      " 98%|█████████▊| 49/50 [02:17<00:02,  2.80s/it, learning_rate=0.0001, training_accuracy=0.25, training_f1=0.199, training_loss=tensor(0.0003), training_precision=0.125, training_recall=0.5] /home/Moscato/.conda/envs/phb/lib/python3.11/site-packages/sklearn/metrics/_classification.py:1531: UndefinedMetricWarning: Precision is ill-defined and being set to 0.0 in labels with no predicted samples. Use `zero_division` parameter to control this behavior.\n",
      "  _warn_prf(average, modifier, f\"{metric.capitalize()} is\", len(result))\n",
      "/home/Moscato/.conda/envs/phb/lib/python3.11/site-packages/sklearn/metrics/_classification.py:1531: UndefinedMetricWarning: Precision is ill-defined and being set to 0.0 in labels with no predicted samples. Use `zero_division` parameter to control this behavior.\n",
      "  _warn_prf(average, modifier, f\"{metric.capitalize()} is\", len(result))\n",
      "/home/Moscato/.conda/envs/phb/lib/python3.11/site-packages/sklearn/metrics/_classification.py:1531: UndefinedMetricWarning: Precision is ill-defined and being set to 0.0 in labels with no predicted samples. Use `zero_division` parameter to control this behavior.\n",
      "  _warn_prf(average, modifier, f\"{metric.capitalize()} is\", len(result))\n",
      "100%|██████████| 50/50 [02:20<00:00,  2.80s/it, learning_rate=0.0001, training_accuracy=0.25, training_f1=0.2, training_loss=tensor(0.0003), training_precision=0.125, training_recall=0.5]  \n"
     ]
    }
   ],
   "source": [
    "learning_rate = 1e-4\n",
    "batch_size = 32\n",
    "n_epochs = 50\n",
    "\n",
    "optimizer = torch.optim.Adam(\n",
    "    params=classifier.parameters(),\n",
    "    lr=learning_rate\n",
    ")\n",
    "\n",
    "classifier.train(True)\n",
    "\n",
    "training_history = train_model(\n",
    "    classifier,\n",
    "    tokenized_train_ds,\n",
    "    None,#tokenized_test_ds,\n",
    "    optimizer,\n",
    "    n_epochs,\n",
    "    batch_size,\n",
    "    device,\n",
    "    loss_fn=torch.nn.CrossEntropyLoss(),\n",
    "    checkpointing_period_epochs=None,\n",
    "    model_dir=None,\n",
    "    checkpoint_id=None,\n",
    "    save_final_model=False,\n",
    "    tensorboard_log_dir=None\n",
    ")"
   ]
  },
  {
   "cell_type": "code",
   "execution_count": 46,
   "id": "337125fd-1617-468e-9d45-2d263608a59e",
   "metadata": {},
   "outputs": [
    {
     "data": {
      "text/plain": [
       "[np.float64(0.2708333333333333),\n",
       " np.float64(0.23958333333333334),\n",
       " np.float64(0.23958333333333334),\n",
       " np.float64(0.25),\n",
       " np.float64(0.21875),\n",
       " np.float64(0.23958333333333334),\n",
       " np.float64(0.21875),\n",
       " np.float64(0.25),\n",
       " np.float64(0.25),\n",
       " np.float64(0.22916666666666666),\n",
       " np.float64(0.25),\n",
       " np.float64(0.25),\n",
       " np.float64(0.25),\n",
       " np.float64(0.22916666666666666),\n",
       " np.float64(0.23958333333333334),\n",
       " np.float64(0.23958333333333334),\n",
       " np.float64(0.22916666666666666),\n",
       " np.float64(0.21875),\n",
       " np.float64(0.23958333333333334),\n",
       " np.float64(0.25),\n",
       " np.float64(0.23958333333333334),\n",
       " np.float64(0.23958333333333334),\n",
       " np.float64(0.25),\n",
       " np.float64(0.22916666666666666),\n",
       " np.float64(0.25),\n",
       " np.float64(0.22916666666666666),\n",
       " np.float64(0.25),\n",
       " np.float64(0.22916666666666666),\n",
       " np.float64(0.23958333333333334),\n",
       " np.float64(0.22916666666666666),\n",
       " np.float64(0.22916666666666666),\n",
       " np.float64(0.25),\n",
       " np.float64(0.21875),\n",
       " np.float64(0.25),\n",
       " np.float64(0.23958333333333334),\n",
       " np.float64(0.23958333333333334),\n",
       " np.float64(0.23958333333333334),\n",
       " np.float64(0.25),\n",
       " np.float64(0.23958333333333334),\n",
       " np.float64(0.25),\n",
       " np.float64(0.22916666666666666),\n",
       " np.float64(0.22916666666666666),\n",
       " np.float64(0.25),\n",
       " np.float64(0.23958333333333334),\n",
       " np.float64(0.25),\n",
       " np.float64(0.23958333333333334),\n",
       " np.float64(0.23958333333333334),\n",
       " np.float64(0.25),\n",
       " np.float64(0.22916666666666666),\n",
       " np.float64(0.25),\n",
       " np.float64(0.25)]"
      ]
     },
     "execution_count": 46,
     "metadata": {},
     "output_type": "execute_result"
    }
   ],
   "source": [
    "training_history['training_accuracy']"
   ]
  }
 ],
 "metadata": {
  "kernelspec": {
   "display_name": "phb",
   "language": "python",
   "name": "phb"
  },
  "language_info": {
   "codemirror_mode": {
    "name": "ipython",
    "version": 3
   },
   "file_extension": ".py",
   "mimetype": "text/x-python",
   "name": "python",
   "nbconvert_exporter": "python",
   "pygments_lexer": "ipython3",
   "version": "3.11.10"
  }
 },
 "nbformat": 4,
 "nbformat_minor": 5
}
